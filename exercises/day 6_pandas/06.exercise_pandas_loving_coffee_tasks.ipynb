{
 "cells": [
  {
   "cell_type": "code",
   "execution_count": null,
   "id": "modern-eclipse",
   "metadata": {},
   "outputs": [
    {
     "ename": "Error",
     "evalue": "Session cannot generate requests",
     "output_type": "error",
     "traceback": [
      "Error: Session cannot generate requests",
      "at S.executeCodeCell (c:\\Users\\L\\.vscode\\extensions\\ms-toolsai.jupyter-2021.10.1101450599\\out\\client\\extension.js:66:301742)",
      "at S.execute (c:\\Users\\L\\.vscode\\extensions\\ms-toolsai.jupyter-2021.10.1101450599\\out\\client\\extension.js:66:300732)",
      "at S.start (c:\\Users\\L\\.vscode\\extensions\\ms-toolsai.jupyter-2021.10.1101450599\\out\\client\\extension.js:66:296408)",
      "at runMicrotasks (<anonymous>)",
      "at processTicksAndRejections (internal/process/task_queues.js:93:5)",
      "at async t.CellExecutionQueue.executeQueuedCells (c:\\Users\\L\\.vscode\\extensions\\ms-toolsai.jupyter-2021.10.1101450599\\out\\client\\extension.js:66:312326)",
      "at async t.CellExecutionQueue.start (c:\\Users\\L\\.vscode\\extensions\\ms-toolsai.jupyter-2021.10.1101450599\\out\\client\\extension.js:66:311862)"
     ]
    }
   ],
   "source": [
    "# import course;course.header()\n",
    "# small changes\n",
    "\n",
    "import pandas as pd"
   ]
  },
  {
   "cell_type": "markdown",
   "id": "sealed-nothing",
   "metadata": {},
   "source": [
    "### Read the arabica data set into a dataframe\n",
    "You will notice an \"Unnamed: 0\" column. Where does it come from, how can one get \"rid\" of it?"
   ]
  },
  {
   "cell_type": "code",
   "execution_count": 7,
   "id": "c12f56a7",
   "metadata": {},
   "outputs": [
    {
     "data": {
      "text/html": [
       "<div>\n",
       "<style scoped>\n",
       "    .dataframe tbody tr th:only-of-type {\n",
       "        vertical-align: middle;\n",
       "    }\n",
       "\n",
       "    .dataframe tbody tr th {\n",
       "        vertical-align: top;\n",
       "    }\n",
       "\n",
       "    .dataframe thead th {\n",
       "        text-align: right;\n",
       "    }\n",
       "</style>\n",
       "<table border=\"1\" class=\"dataframe\">\n",
       "  <thead>\n",
       "    <tr style=\"text-align: right;\">\n",
       "      <th></th>\n",
       "      <th>Species</th>\n",
       "      <th>Owner</th>\n",
       "      <th>Country.of.Origin</th>\n",
       "      <th>Farm.Name</th>\n",
       "      <th>Lot.Number</th>\n",
       "      <th>Mill</th>\n",
       "      <th>ICO.Number</th>\n",
       "      <th>Company</th>\n",
       "      <th>Altitude</th>\n",
       "      <th>Region</th>\n",
       "      <th>...</th>\n",
       "      <th>Color</th>\n",
       "      <th>Category.Two.Defects</th>\n",
       "      <th>Expiration</th>\n",
       "      <th>Certification.Body</th>\n",
       "      <th>Certification.Address</th>\n",
       "      <th>Certification.Contact</th>\n",
       "      <th>unit_of_measurement</th>\n",
       "      <th>altitude_low_meters</th>\n",
       "      <th>altitude_high_meters</th>\n",
       "      <th>altitude_mean_meters</th>\n",
       "    </tr>\n",
       "  </thead>\n",
       "  <tbody>\n",
       "    <tr>\n",
       "      <th>0</th>\n",
       "      <td>Arabica</td>\n",
       "      <td>metad plc</td>\n",
       "      <td>Ethiopia</td>\n",
       "      <td>metad plc</td>\n",
       "      <td>NaN</td>\n",
       "      <td>metad plc</td>\n",
       "      <td>2014/2015</td>\n",
       "      <td>metad agricultural developmet plc</td>\n",
       "      <td>1950-2200</td>\n",
       "      <td>guji-hambela</td>\n",
       "      <td>...</td>\n",
       "      <td>Green</td>\n",
       "      <td>0</td>\n",
       "      <td>April 3rd, 2016</td>\n",
       "      <td>METAD Agricultural Development plc</td>\n",
       "      <td>309fcf77415a3661ae83e027f7e5f05dad786e44</td>\n",
       "      <td>19fef5a731de2db57d16da10287413f5f99bc2dd</td>\n",
       "      <td>m</td>\n",
       "      <td>1950.0</td>\n",
       "      <td>2200.0</td>\n",
       "      <td>2075.0</td>\n",
       "    </tr>\n",
       "    <tr>\n",
       "      <th>1</th>\n",
       "      <td>Arabica</td>\n",
       "      <td>metad plc</td>\n",
       "      <td>Ethiopia</td>\n",
       "      <td>metad plc</td>\n",
       "      <td>NaN</td>\n",
       "      <td>metad plc</td>\n",
       "      <td>2014/2015</td>\n",
       "      <td>metad agricultural developmet plc</td>\n",
       "      <td>1950-2200</td>\n",
       "      <td>guji-hambela</td>\n",
       "      <td>...</td>\n",
       "      <td>Green</td>\n",
       "      <td>1</td>\n",
       "      <td>April 3rd, 2016</td>\n",
       "      <td>METAD Agricultural Development plc</td>\n",
       "      <td>309fcf77415a3661ae83e027f7e5f05dad786e44</td>\n",
       "      <td>19fef5a731de2db57d16da10287413f5f99bc2dd</td>\n",
       "      <td>m</td>\n",
       "      <td>1950.0</td>\n",
       "      <td>2200.0</td>\n",
       "      <td>2075.0</td>\n",
       "    </tr>\n",
       "    <tr>\n",
       "      <th>2</th>\n",
       "      <td>Arabica</td>\n",
       "      <td>grounds for health admin</td>\n",
       "      <td>Guatemala</td>\n",
       "      <td>san marcos barrancas \"san cristobal cuch</td>\n",
       "      <td>NaN</td>\n",
       "      <td>NaN</td>\n",
       "      <td>NaN</td>\n",
       "      <td>NaN</td>\n",
       "      <td>1600 - 1800 m</td>\n",
       "      <td>NaN</td>\n",
       "      <td>...</td>\n",
       "      <td>NaN</td>\n",
       "      <td>0</td>\n",
       "      <td>May 31st, 2011</td>\n",
       "      <td>Specialty Coffee Association</td>\n",
       "      <td>36d0d00a3724338ba7937c52a378d085f2172daa</td>\n",
       "      <td>0878a7d4b9d35ddbf0fe2ce69a2062cceb45a660</td>\n",
       "      <td>m</td>\n",
       "      <td>1600.0</td>\n",
       "      <td>1800.0</td>\n",
       "      <td>1700.0</td>\n",
       "    </tr>\n",
       "    <tr>\n",
       "      <th>3</th>\n",
       "      <td>Arabica</td>\n",
       "      <td>yidnekachew dabessa</td>\n",
       "      <td>Ethiopia</td>\n",
       "      <td>yidnekachew dabessa coffee plantation</td>\n",
       "      <td>NaN</td>\n",
       "      <td>wolensu</td>\n",
       "      <td>NaN</td>\n",
       "      <td>yidnekachew debessa coffee plantation</td>\n",
       "      <td>1800-2200</td>\n",
       "      <td>oromia</td>\n",
       "      <td>...</td>\n",
       "      <td>Green</td>\n",
       "      <td>2</td>\n",
       "      <td>March 25th, 2016</td>\n",
       "      <td>METAD Agricultural Development plc</td>\n",
       "      <td>309fcf77415a3661ae83e027f7e5f05dad786e44</td>\n",
       "      <td>19fef5a731de2db57d16da10287413f5f99bc2dd</td>\n",
       "      <td>m</td>\n",
       "      <td>1800.0</td>\n",
       "      <td>2200.0</td>\n",
       "      <td>2000.0</td>\n",
       "    </tr>\n",
       "    <tr>\n",
       "      <th>4</th>\n",
       "      <td>Arabica</td>\n",
       "      <td>metad plc</td>\n",
       "      <td>Ethiopia</td>\n",
       "      <td>metad plc</td>\n",
       "      <td>NaN</td>\n",
       "      <td>metad plc</td>\n",
       "      <td>2014/2015</td>\n",
       "      <td>metad agricultural developmet plc</td>\n",
       "      <td>1950-2200</td>\n",
       "      <td>guji-hambela</td>\n",
       "      <td>...</td>\n",
       "      <td>Green</td>\n",
       "      <td>2</td>\n",
       "      <td>April 3rd, 2016</td>\n",
       "      <td>METAD Agricultural Development plc</td>\n",
       "      <td>309fcf77415a3661ae83e027f7e5f05dad786e44</td>\n",
       "      <td>19fef5a731de2db57d16da10287413f5f99bc2dd</td>\n",
       "      <td>m</td>\n",
       "      <td>1950.0</td>\n",
       "      <td>2200.0</td>\n",
       "      <td>2075.0</td>\n",
       "    </tr>\n",
       "  </tbody>\n",
       "</table>\n",
       "<p>5 rows × 43 columns</p>\n",
       "</div>"
      ],
      "text/plain": [
       "   Species                     Owner Country.of.Origin  \\\n",
       "0  Arabica                 metad plc          Ethiopia   \n",
       "1  Arabica                 metad plc          Ethiopia   \n",
       "2  Arabica  grounds for health admin         Guatemala   \n",
       "3  Arabica       yidnekachew dabessa          Ethiopia   \n",
       "4  Arabica                 metad plc          Ethiopia   \n",
       "\n",
       "                                  Farm.Name Lot.Number       Mill ICO.Number  \\\n",
       "0                                 metad plc        NaN  metad plc  2014/2015   \n",
       "1                                 metad plc        NaN  metad plc  2014/2015   \n",
       "2  san marcos barrancas \"san cristobal cuch        NaN        NaN        NaN   \n",
       "3     yidnekachew dabessa coffee plantation        NaN    wolensu        NaN   \n",
       "4                                 metad plc        NaN  metad plc  2014/2015   \n",
       "\n",
       "                                 Company       Altitude        Region  ...  \\\n",
       "0      metad agricultural developmet plc      1950-2200  guji-hambela  ...   \n",
       "1      metad agricultural developmet plc      1950-2200  guji-hambela  ...   \n",
       "2                                    NaN  1600 - 1800 m           NaN  ...   \n",
       "3  yidnekachew debessa coffee plantation      1800-2200        oromia  ...   \n",
       "4      metad agricultural developmet plc      1950-2200  guji-hambela  ...   \n",
       "\n",
       "   Color  Category.Two.Defects        Expiration  \\\n",
       "0  Green                     0   April 3rd, 2016   \n",
       "1  Green                     1   April 3rd, 2016   \n",
       "2    NaN                     0    May 31st, 2011   \n",
       "3  Green                     2  March 25th, 2016   \n",
       "4  Green                     2   April 3rd, 2016   \n",
       "\n",
       "                   Certification.Body  \\\n",
       "0  METAD Agricultural Development plc   \n",
       "1  METAD Agricultural Development plc   \n",
       "2        Specialty Coffee Association   \n",
       "3  METAD Agricultural Development plc   \n",
       "4  METAD Agricultural Development plc   \n",
       "\n",
       "                      Certification.Address  \\\n",
       "0  309fcf77415a3661ae83e027f7e5f05dad786e44   \n",
       "1  309fcf77415a3661ae83e027f7e5f05dad786e44   \n",
       "2  36d0d00a3724338ba7937c52a378d085f2172daa   \n",
       "3  309fcf77415a3661ae83e027f7e5f05dad786e44   \n",
       "4  309fcf77415a3661ae83e027f7e5f05dad786e44   \n",
       "\n",
       "                      Certification.Contact unit_of_measurement  \\\n",
       "0  19fef5a731de2db57d16da10287413f5f99bc2dd                   m   \n",
       "1  19fef5a731de2db57d16da10287413f5f99bc2dd                   m   \n",
       "2  0878a7d4b9d35ddbf0fe2ce69a2062cceb45a660                   m   \n",
       "3  19fef5a731de2db57d16da10287413f5f99bc2dd                   m   \n",
       "4  19fef5a731de2db57d16da10287413f5f99bc2dd                   m   \n",
       "\n",
       "  altitude_low_meters altitude_high_meters  altitude_mean_meters  \n",
       "0              1950.0               2200.0                2075.0  \n",
       "1              1950.0               2200.0                2075.0  \n",
       "2              1600.0               1800.0                1700.0  \n",
       "3              1800.0               2200.0                2000.0  \n",
       "4              1950.0               2200.0                2075.0  \n",
       "\n",
       "[5 rows x 43 columns]"
      ]
     },
     "execution_count": 7,
     "metadata": {},
     "output_type": "execute_result"
    }
   ],
   "source": [
    "arabica_df = pd.read_csv(\"../../data/arabica_data_cleaned.csv\")\n",
    "arabica_df.drop(columns=[\"Unnamed: 0\"], inplace=True)\n",
    "arabica_df.head()"
   ]
  },
  {
   "cell_type": "markdown",
   "id": "sexual-contribution",
   "metadata": {},
   "source": [
    "## Drop some categorical columns\n",
    "The dataset is rich in *meta data* (categorical), however we just want to keep \\\"Country.of.Origin\\\", \\\"Producer\\\", \\\"Processing.Method\\\" as meta and all data columns. How to drop all the rest?,\n",
    "\"While you're at it, let's rename the three meta columns we want to keep so they do not have dots but space in their name."
   ]
  },
  {
   "cell_type": "code",
   "execution_count": 60,
   "id": "a6c02648",
   "metadata": {},
   "outputs": [
    {
     "data": {
      "text/html": [
       "<div>\n",
       "<style scoped>\n",
       "    .dataframe tbody tr th:only-of-type {\n",
       "        vertical-align: middle;\n",
       "    }\n",
       "\n",
       "    .dataframe tbody tr th {\n",
       "        vertical-align: top;\n",
       "    }\n",
       "\n",
       "    .dataframe thead th {\n",
       "        text-align: right;\n",
       "    }\n",
       "</style>\n",
       "<table border=\"1\" class=\"dataframe\">\n",
       "  <thead>\n",
       "    <tr style=\"text-align: right;\">\n",
       "      <th></th>\n",
       "      <th>Country of Origin</th>\n",
       "      <th>Producer</th>\n",
       "      <th>Processing Method</th>\n",
       "    </tr>\n",
       "  </thead>\n",
       "  <tbody>\n",
       "    <tr>\n",
       "      <th>0</th>\n",
       "      <td>Ethiopia</td>\n",
       "      <td>METAD PLC</td>\n",
       "      <td>Washed / Wet</td>\n",
       "    </tr>\n",
       "    <tr>\n",
       "      <th>1</th>\n",
       "      <td>Ethiopia</td>\n",
       "      <td>METAD PLC</td>\n",
       "      <td>Washed / Wet</td>\n",
       "    </tr>\n",
       "    <tr>\n",
       "      <th>2</th>\n",
       "      <td>Guatemala</td>\n",
       "      <td>&lt;NA&gt;</td>\n",
       "      <td>&lt;NA&gt;</td>\n",
       "    </tr>\n",
       "    <tr>\n",
       "      <th>3</th>\n",
       "      <td>Ethiopia</td>\n",
       "      <td>Yidnekachew Dabessa Coffee Plantation</td>\n",
       "      <td>Natural / Dry</td>\n",
       "    </tr>\n",
       "    <tr>\n",
       "      <th>4</th>\n",
       "      <td>Ethiopia</td>\n",
       "      <td>METAD PLC</td>\n",
       "      <td>Washed / Wet</td>\n",
       "    </tr>\n",
       "  </tbody>\n",
       "</table>\n",
       "</div>"
      ],
      "text/plain": [
       "  Country of Origin                               Producer Processing Method\n",
       "0          Ethiopia                              METAD PLC      Washed / Wet\n",
       "1          Ethiopia                              METAD PLC      Washed / Wet\n",
       "2         Guatemala                                   <NA>              <NA>\n",
       "3          Ethiopia  Yidnekachew Dabessa Coffee Plantation     Natural / Dry\n",
       "4          Ethiopia                              METAD PLC      Washed / Wet"
      ]
     },
     "execution_count": 60,
     "metadata": {},
     "output_type": "execute_result"
    }
   ],
   "source": [
    "arabica_df.rename(columns={\"Country.of.Origin\": 'Country of Origin', \"Processing.Method\": \"Processing Method\"}, inplace=True)\n",
    "arabica_df = arabica_df[[\"Country of Origin\", \"Producer\", \"Processing Method\"]]\n",
    "\n",
    "arabica_df.head()"
   ]
  },
  {
   "cell_type": "markdown",
   "id": "recovered-manitoba",
   "metadata": {},
   "source": [
    "## Clean the data set\n",
    "The dataset does not seem to be as clean as the filename might suggest. How can you get a quick overview over the data and identify which columns have extreme outliers? If you cannot using pd commands, try to plot (see next question)!"
   ]
  },
  {
   "cell_type": "code",
   "execution_count": 13,
   "id": "5dd05bf9",
   "metadata": {},
   "outputs": [
    {
     "data": {
      "text/html": [
       "<div>\n",
       "<style scoped>\n",
       "    .dataframe tbody tr th:only-of-type {\n",
       "        vertical-align: middle;\n",
       "    }\n",
       "\n",
       "    .dataframe tbody tr th {\n",
       "        vertical-align: top;\n",
       "    }\n",
       "\n",
       "    .dataframe thead th {\n",
       "        text-align: right;\n",
       "    }\n",
       "</style>\n",
       "<table border=\"1\" class=\"dataframe\">\n",
       "  <thead>\n",
       "    <tr style=\"text-align: right;\">\n",
       "      <th></th>\n",
       "      <th>Country of Origin</th>\n",
       "      <th>Producer</th>\n",
       "      <th>Processing Method</th>\n",
       "    </tr>\n",
       "  </thead>\n",
       "  <tbody>\n",
       "    <tr>\n",
       "      <th>count</th>\n",
       "      <td>1310</td>\n",
       "      <td>1081</td>\n",
       "      <td>1159</td>\n",
       "    </tr>\n",
       "    <tr>\n",
       "      <th>unique</th>\n",
       "      <td>36</td>\n",
       "      <td>675</td>\n",
       "      <td>5</td>\n",
       "    </tr>\n",
       "    <tr>\n",
       "      <th>top</th>\n",
       "      <td>Mexico</td>\n",
       "      <td>La Plata</td>\n",
       "      <td>Washed / Wet</td>\n",
       "    </tr>\n",
       "    <tr>\n",
       "      <th>freq</th>\n",
       "      <td>236</td>\n",
       "      <td>30</td>\n",
       "      <td>812</td>\n",
       "    </tr>\n",
       "  </tbody>\n",
       "</table>\n",
       "</div>"
      ],
      "text/plain": [
       "       Country of Origin  Producer Processing Method\n",
       "count               1310      1081              1159\n",
       "unique                36       675                 5\n",
       "top               Mexico  La Plata      Washed / Wet\n",
       "freq                 236        30               812"
      ]
     },
     "execution_count": 13,
     "metadata": {},
     "output_type": "execute_result"
    }
   ],
   "source": [
    "arabica_df.describe()"
   ]
  },
  {
   "cell_type": "code",
   "execution_count": 14,
   "id": "f610d657",
   "metadata": {},
   "outputs": [
    {
     "name": "stdout",
     "output_type": "stream",
     "text": [
      "<class 'pandas.core.frame.DataFrame'>\n",
      "RangeIndex: 1311 entries, 0 to 1310\n",
      "Data columns (total 3 columns):\n",
      " #   Column             Non-Null Count  Dtype \n",
      "---  ------             --------------  ----- \n",
      " 0   Country of Origin  1310 non-null   object\n",
      " 1   Producer           1081 non-null   object\n",
      " 2   Processing Method  1159 non-null   object\n",
      "dtypes: object(3)\n",
      "memory usage: 30.9+ KB\n"
     ]
    }
   ],
   "source": [
    "arabica_df.info()"
   ]
  },
  {
   "cell_type": "code",
   "execution_count": 16,
   "id": "6bb1c67d",
   "metadata": {},
   "outputs": [
    {
     "name": "stdout",
     "output_type": "stream",
     "text": [
      "<class 'pandas.core.frame.DataFrame'>\n",
      "RangeIndex: 1311 entries, 0 to 1310\n",
      "Data columns (total 3 columns):\n",
      " #   Column             Non-Null Count  Dtype \n",
      "---  ------             --------------  ----- \n",
      " 0   Country of Origin  1310 non-null   string\n",
      " 1   Producer           1081 non-null   string\n",
      " 2   Processing Method  1159 non-null   string\n",
      "dtypes: string(3)\n",
      "memory usage: 30.9 KB\n"
     ]
    }
   ],
   "source": [
    "arabica_df = arabica_df.convert_dtypes()\n",
    "arabica_df.info()"
   ]
  },
  {
   "cell_type": "markdown",
   "id": "automated-complaint",
   "metadata": {},
   "source": [
    "## Plot \n",
    "Plot a plotly histogram for each of the remaining columns. Can you write a loop?"
   ]
  },
  {
   "cell_type": "code",
   "execution_count": 25,
   "id": "3c2aa317",
   "metadata": {},
   "outputs": [
    {
     "data": {
      "application/vnd.plotly.v1+json": {
       "config": {
        "plotlyServerURL": "https://plot.ly"
       },
       "data": [
        {
         "alignmentgroup": "True",
         "bingroup": "x",
         "hovertemplate": "Country of Origin=%{x}<br>count=%{y}<extra></extra>",
         "legendgroup": "",
         "marker": {
          "color": "#636efa",
          "pattern": {
           "shape": ""
          }
         },
         "name": "",
         "offsetgroup": "",
         "orientation": "v",
         "showlegend": false,
         "type": "histogram",
         "x": [
          "Ethiopia",
          "Ethiopia",
          "Guatemala",
          "Ethiopia",
          "Ethiopia",
          "Brazil",
          "Peru",
          "Ethiopia",
          "Ethiopia",
          "Ethiopia",
          "Ethiopia",
          "United States",
          "United States",
          "United States (Hawaii)",
          "Ethiopia",
          "United States",
          "Indonesia",
          "Ethiopia",
          "China",
          "Ethiopia",
          "United States",
          "Costa Rica",
          "Mexico",
          "United States",
          "Ethiopia",
          "Brazil",
          "Ethiopia",
          "Uganda",
          "Honduras",
          "Taiwan",
          "Nicaragua",
          "Tanzania, United Republic Of",
          "Brazil",
          "Costa Rica",
          "Ethiopia",
          "Kenya",
          "United States (Hawaii)",
          "United States (Hawaii)",
          "Ethiopia",
          "United States",
          "Thailand",
          "Brazil",
          "Brazil",
          "Taiwan",
          "Kenya",
          "Brazil",
          "Uganda",
          "Colombia",
          "Kenya",
          "Uganda",
          "Ethiopia",
          "United States (Hawaii)",
          "Guatemala",
          "Uganda",
          "Colombia",
          "Panama",
          "Ethiopia",
          "Guatemala",
          "Guatemala",
          "Ethiopia",
          "Peru",
          "Papua New Guinea",
          "El Salvador",
          "El Salvador",
          "United States (Hawaii)",
          "Panama",
          "Kenya",
          "Ethiopia",
          "Uganda",
          "Guatemala",
          "Ethiopia",
          "Uganda",
          "United States (Hawaii)",
          "Brazil",
          "El Salvador",
          "China",
          "Guatemala",
          "Costa Rica",
          "Costa Rica",
          "Kenya",
          "Kenya",
          "Ethiopia",
          "Ethiopia",
          "Guatemala",
          "Colombia",
          "Colombia",
          "Indonesia",
          "Guatemala",
          "Ethiopia",
          "Colombia",
          "Ethiopia",
          "United States (Hawaii)",
          "Colombia",
          "United States (Hawaii)",
          "Ethiopia",
          "United States (Hawaii)",
          "Uganda",
          "Colombia",
          "Costa Rica",
          "Mexico",
          "Kenya",
          "Kenya",
          "Brazil",
          "Mexico",
          "United States (Hawaii)",
          "Guatemala",
          "Colombia",
          "Colombia",
          "Taiwan",
          "Tanzania, United Republic Of",
          "Colombia",
          "Mexico",
          "Brazil",
          "Brazil",
          "Kenya",
          "Taiwan",
          "Uganda",
          "United States (Hawaii)",
          "Ethiopia",
          "Ethiopia",
          "Thailand",
          "Kenya",
          "Honduras",
          "El Salvador",
          "Nicaragua",
          "El Salvador",
          "Indonesia",
          "Japan",
          "Costa Rica",
          "Guatemala",
          "Costa Rica",
          "Ethiopia",
          "Costa Rica",
          "Costa Rica",
          "Costa Rica",
          "Taiwan",
          "Colombia",
          "Kenya",
          "Guatemala",
          "Guatemala",
          "Mexico",
          "Uganda",
          "Peru",
          "Ethiopia",
          "Kenya",
          "Colombia",
          "Colombia",
          "Kenya",
          "Guatemala",
          "Guatemala",
          "Colombia",
          "Colombia",
          "Kenya",
          "Colombia",
          "Costa Rica",
          "Colombia",
          "Brazil",
          "Brazil",
          "Costa Rica",
          "Uganda",
          "China",
          "Costa Rica",
          "Colombia",
          "China",
          "Guatemala",
          "Kenya",
          "Mexico",
          "Mexico",
          "Guatemala",
          "Brazil",
          "Brazil",
          "Costa Rica",
          "Indonesia",
          "Colombia",
          "Colombia",
          "Taiwan",
          "United States (Hawaii)",
          "Mexico",
          "Ethiopia",
          "Kenya",
          "Honduras",
          "Colombia",
          "Honduras",
          "Colombia",
          "Colombia",
          "Colombia",
          "Mexico",
          "Brazil",
          "Brazil",
          "Ethiopia",
          "Guatemala",
          "Taiwan",
          "Thailand",
          "Colombia",
          "Guatemala",
          "Guatemala",
          "China",
          "Colombia",
          "Colombia",
          "Colombia",
          "Colombia",
          "Tanzania, United Republic Of",
          "Tanzania, United Republic Of",
          "Guatemala",
          "Colombia",
          "United States (Hawaii)",
          "Mexico",
          "Mexico",
          "Mexico",
          "Uganda",
          "Guatemala",
          "Colombia",
          "Costa Rica",
          "Guatemala",
          "Guatemala",
          "Guatemala",
          "Colombia",
          "Nicaragua",
          "Brazil",
          "Costa Rica",
          "Ethiopia",
          "Tanzania, United Republic Of",
          "Colombia",
          "Guatemala",
          "Kenya",
          "Brazil",
          "Guatemala",
          "El Salvador",
          "Colombia",
          "Guatemala",
          "Uganda",
          "Indonesia",
          "Colombia",
          "Taiwan",
          "Guatemala",
          "Colombia",
          "Guatemala",
          "United States (Hawaii)",
          "Mexico",
          "Ethiopia",
          "Costa Rica",
          "Ethiopia",
          "Honduras",
          "Guatemala",
          "Colombia",
          "Guatemala",
          "Guatemala",
          "Colombia",
          "Colombia",
          "Colombia",
          "Ethiopia",
          "Brazil",
          "Colombia",
          "Kenya",
          "Thailand",
          "Kenya",
          "Uganda",
          "Thailand",
          "Brazil",
          "Mexico",
          "Thailand",
          "Brazil",
          "Taiwan",
          "Colombia",
          "Colombia",
          "Taiwan",
          "Colombia",
          "Colombia",
          "Colombia",
          "Taiwan",
          "Colombia",
          "Mexico",
          "Mexico",
          "Mexico",
          "Colombia",
          "Colombia",
          "Costa Rica",
          "Guatemala",
          "Taiwan",
          "Brazil",
          "Taiwan",
          "Ethiopia",
          "Brazil",
          "Costa Rica",
          "Guatemala",
          "Brazil",
          "Ecuador",
          "Colombia",
          "Guatemala",
          "Mexico",
          "Mexico",
          "Brazil",
          "Thailand",
          "Thailand",
          "Ethiopia",
          "Kenya",
          "Brazil",
          "Colombia",
          "Taiwan",
          "Colombia",
          "China",
          "Colombia",
          "Uganda",
          "United States (Puerto Rico)",
          "Colombia",
          "Colombia",
          "Colombia",
          "Colombia",
          "United States (Hawaii)",
          "Mexico",
          "Guatemala",
          "Colombia",
          "Colombia",
          "United States (Hawaii)",
          "Brazil",
          "Kenya",
          "Honduras",
          "Nicaragua",
          "Brazil",
          "Taiwan",
          "Costa Rica",
          "Thailand",
          "Colombia",
          "Guatemala",
          "Colombia",
          "Colombia",
          "Guatemala",
          "Guatemala",
          "Colombia",
          "Guatemala",
          "Guatemala",
          "Mexico",
          "Indonesia",
          "Guatemala",
          "United States (Hawaii)",
          "Brazil",
          "Guatemala",
          "Colombia",
          "China",
          "Colombia",
          "Mexico",
          "Ethiopia",
          "Uganda",
          "Colombia",
          "Colombia",
          "Colombia",
          "Taiwan",
          "Colombia",
          "Mexico",
          "Colombia",
          "Brazil",
          "Colombia",
          "Taiwan",
          "Costa Rica",
          "Colombia",
          "Guatemala",
          "Colombia",
          "Tanzania, United Republic Of",
          "Indonesia",
          "Ethiopia",
          "Colombia",
          "Colombia",
          "Guatemala",
          "Colombia",
          "Honduras",
          "Colombia",
          "Colombia",
          "Mexico",
          "Mexico",
          "Mexico",
          "Guatemala",
          "Colombia",
          "Guatemala",
          "United States (Hawaii)",
          "Indonesia",
          "Colombia",
          "Guatemala",
          "Colombia",
          "Costa Rica",
          "Taiwan",
          "Uganda",
          "Thailand",
          "El Salvador",
          "Colombia",
          "Brazil",
          "Tanzania, United Republic Of",
          "Colombia",
          "Guatemala",
          "Guatemala",
          "Guatemala",
          "United States (Hawaii)",
          "Colombia",
          "Colombia",
          "United States (Hawaii)",
          "Thailand",
          "Mexico",
          "Colombia",
          "Colombia",
          "Colombia",
          "Brazil",
          "Mexico",
          "Colombia",
          "Tanzania, United Republic Of",
          "Mexico",
          "Costa Rica",
          "United States (Hawaii)",
          "Costa Rica",
          "Peru",
          "Haiti",
          "Colombia",
          "Guatemala",
          "United States (Hawaii)",
          "Burundi",
          "Colombia",
          "United States (Hawaii)",
          "United States (Hawaii)",
          "Mexico",
          "Costa Rica",
          "Costa Rica",
          "Guatemala",
          "Uganda",
          "Brazil",
          "Colombia",
          "Mexico",
          "Taiwan",
          "Taiwan",
          "Colombia",
          "Guatemala",
          "Colombia",
          "Mexico",
          "United States (Hawaii)",
          "Mexico",
          "Mexico",
          "Guatemala",
          "Brazil",
          "Colombia",
          "Colombia",
          "Colombia",
          "Colombia",
          "Colombia",
          "Brazil",
          "Guatemala",
          "Tanzania, United Republic Of",
          "Peru",
          "Vietnam",
          "Guatemala",
          "Honduras",
          "China",
          "China",
          "El Salvador",
          "Guatemala",
          "Guatemala",
          "Kenya",
          "Thailand",
          "Tanzania, United Republic Of",
          "Colombia",
          "Uganda",
          "Colombia",
          "Honduras",
          "Honduras",
          "Guatemala",
          "United States (Hawaii)",
          "Tanzania, United Republic Of",
          "Guatemala",
          "Mexico",
          "Mexico",
          "Mexico",
          "Colombia",
          "Mexico",
          "Colombia",
          "Mexico",
          "Brazil",
          "Brazil",
          "Guatemala",
          "Brazil",
          "Brazil",
          "El Salvador",
          "Ethiopia",
          "Colombia",
          "Colombia",
          "Brazil",
          "Brazil",
          "Taiwan",
          "Brazil",
          "Brazil",
          "Costa Rica",
          "United States (Hawaii)",
          "Taiwan",
          "United States (Hawaii)",
          "Mexico",
          "United States (Hawaii)",
          "United States (Hawaii)",
          "Colombia",
          "Colombia",
          "Indonesia",
          "Guatemala",
          "Brazil",
          "Brazil",
          "Brazil",
          "Uganda",
          "Uganda",
          "Colombia",
          "Vietnam",
          "Guatemala",
          "Guatemala",
          "Guatemala",
          "Brazil",
          "Taiwan",
          "Uganda",
          "United States (Puerto Rico)",
          "Guatemala",
          "Costa Rica",
          "Brazil",
          "Colombia",
          "Colombia",
          "Colombia",
          "Colombia",
          "Colombia",
          "Mexico",
          "Mexico",
          "Mexico",
          "Colombia",
          "Colombia",
          "Colombia",
          "Guatemala",
          "Colombia",
          "Thailand",
          "Colombia",
          "United States (Hawaii)",
          "United States (Hawaii)",
          "Colombia",
          "Nicaragua",
          "Thailand",
          "Brazil",
          "El Salvador",
          "Colombia",
          "Taiwan",
          "Ethiopia",
          "Taiwan",
          "Philippines",
          "Philippines",
          "Mexico",
          "Mexico",
          "Brazil",
          "Uganda",
          "Uganda",
          "Guatemala",
          "Guatemala",
          "Guatemala",
          "Colombia",
          "Colombia",
          "Guatemala",
          "Colombia",
          "Mexico",
          "Vietnam",
          "Mexico",
          "United States (Hawaii)",
          "Colombia",
          "Thailand",
          "Kenya",
          "Guatemala",
          "Brazil",
          "El Salvador",
          "Rwanda",
          "Vietnam",
          "Guatemala",
          "Brazil",
          "Colombia",
          "United States",
          "Guatemala",
          "Colombia",
          "Colombia",
          "Tanzania, United Republic Of",
          "Mexico",
          "Mexico",
          "Guatemala",
          "Mexico",
          "El Salvador",
          "Guatemala",
          "Guatemala",
          "Guatemala",
          "Guatemala",
          "Guatemala",
          "Indonesia",
          "Guatemala",
          "Taiwan",
          "El Salvador",
          "Costa Rica",
          "Honduras",
          "Brazil",
          "China",
          "China",
          "Colombia",
          "Malawi",
          "Guatemala",
          "Colombia",
          "United States (Hawaii)",
          "United States (Hawaii)",
          "Colombia",
          "Mexico",
          "Mexico",
          "Mexico",
          "Colombia",
          "Colombia",
          "United States (Hawaii)",
          "Panama",
          "United States (Hawaii)",
          "Brazil",
          "Brazil",
          "Laos",
          "El Salvador",
          "Mexico",
          "Colombia",
          "Brazil",
          "Brazil",
          "Tanzania, United Republic Of",
          "Tanzania, United Republic Of",
          "Taiwan",
          "Mexico",
          "Uganda",
          "Taiwan",
          "Thailand",
          "Colombia",
          "El Salvador",
          "Guatemala",
          "Thailand",
          "Mexico",
          "Mexico",
          "Colombia",
          "United States (Hawaii)",
          "Mexico",
          "Colombia",
          "Colombia",
          "Guatemala",
          "Taiwan",
          "Brazil",
          "Taiwan",
          "Brazil",
          "Indonesia",
          "Thailand",
          "Thailand",
          "Tanzania, United Republic Of",
          "Uganda",
          "Costa Rica",
          "Mexico",
          "Guatemala",
          "Colombia",
          "Colombia",
          "Colombia",
          "Mexico",
          "Mexico",
          "Colombia",
          "Brazil",
          "Brazil",
          "Indonesia",
          "Honduras",
          "Guatemala",
          "Thailand",
          "Thailand",
          "Tanzania, United Republic Of",
          "Tanzania, United Republic Of",
          "Mexico",
          "Brazil",
          "Guatemala",
          "Colombia",
          "Guatemala",
          "Mexico",
          "Mexico",
          "Mexico",
          "Guatemala",
          "Brazil",
          "Colombia",
          "United States (Hawaii)",
          "Guatemala",
          "Honduras",
          "Guatemala",
          "Guatemala",
          "Guatemala",
          "Guatemala",
          "Colombia",
          "China",
          "Brazil",
          "Tanzania, United Republic Of",
          "Brazil",
          "Guatemala",
          "Mexico",
          "Brazil",
          "Peru",
          "Brazil",
          "Mexico",
          "Honduras",
          "Colombia",
          "Mexico",
          "Mexico",
          "Mexico",
          "Mexico",
          "Mexico",
          "Mexico",
          "Mexico",
          "Mexico",
          "Mexico",
          "Colombia",
          "Brazil",
          "Colombia",
          "Colombia",
          "Honduras",
          "Brazil",
          "Brazil",
          "Brazil",
          "Costa Rica",
          "Costa Rica",
          "China",
          "Brazil",
          "Brazil",
          "Guatemala",
          "Malawi",
          "Brazil",
          "Guatemala",
          "Mexico",
          "Colombia",
          "Taiwan",
          "Taiwan",
          "Guatemala",
          "Colombia",
          "Mexico",
          "Costa Rica",
          "Guatemala",
          "Mexico",
          "Mexico",
          "Guatemala",
          "Brazil",
          "Mexico",
          "Brazil",
          "Colombia",
          "Brazil",
          "Taiwan",
          "Guatemala",
          "Brazil",
          "El Salvador",
          "Honduras",
          "Malawi",
          "Brazil",
          "Taiwan",
          "Mexico",
          "United States (Hawaii)",
          "Mexico",
          "Guatemala",
          "Mexico",
          "Mexico",
          "El Salvador",
          "Mexico",
          "Mexico",
          "Colombia",
          "Colombia",
          "Brazil",
          "Colombia",
          "Brazil",
          "Honduras",
          "Nicaragua",
          "Tanzania, United Republic Of",
          "Tanzania, United Republic Of",
          "Brazil",
          "Thailand",
          "Honduras",
          "Guatemala",
          "Brazil",
          "Tanzania, United Republic Of",
          "Mexico",
          "Mexico",
          "Taiwan",
          "Taiwan",
          "Colombia",
          "Mexico",
          "Guatemala",
          "Mexico",
          "Mexico",
          "Colombia",
          "Indonesia",
          "Colombia",
          "Brazil",
          "Brazil",
          "Costa Rica",
          "Tanzania, United Republic Of",
          "Tanzania, United Republic Of",
          "Colombia",
          "Costa Rica",
          "United States (Hawaii)",
          "Mexico",
          "Mexico",
          "Mexico",
          "Vietnam",
          "Mexico",
          "United States (Hawaii)",
          "Colombia",
          "Honduras",
          "Honduras",
          "Brazil",
          "Tanzania, United Republic Of",
          "Laos",
          "Tanzania, United Republic Of",
          "Malawi",
          "Taiwan",
          "Thailand",
          "Costa Rica",
          "Honduras",
          "Colombia",
          "Taiwan",
          "Brazil",
          "Mexico",
          "Brazil",
          "Brazil",
          "Guatemala",
          "Brazil",
          "Guatemala",
          "Colombia",
          "Guatemala",
          "Guatemala",
          "Honduras",
          "Brazil",
          "El Salvador",
          "Guatemala",
          "Tanzania, United Republic Of",
          "Nicaragua",
          "Zambia",
          "Honduras",
          "Taiwan",
          "Mexico",
          "Mexico",
          "Mexico",
          "Mexico",
          "Mexico",
          "Brazil",
          "Colombia",
          "Guatemala",
          "Costa Rica",
          "Brazil",
          "Indonesia",
          "Guatemala",
          "Brazil",
          "Brazil",
          "Myanmar",
          "Mexico",
          "Honduras",
          "Costa Rica",
          "Taiwan",
          "Indonesia",
          "Malawi",
          "Brazil",
          "Honduras",
          "Mexico",
          "Colombia",
          "United States (Hawaii)",
          "Brazil",
          "Guatemala",
          "Mexico",
          "Mexico",
          "Brazil",
          "Colombia",
          "United States (Hawaii)",
          "Guatemala",
          "Vietnam",
          "Tanzania, United Republic Of",
          "Brazil",
          "Mexico",
          "Mexico",
          "Mexico",
          "Mexico",
          "Mexico",
          "Colombia",
          "Colombia",
          "Brazil",
          "Guatemala",
          "Guatemala",
          "Honduras",
          "Tanzania, United Republic Of",
          "Nicaragua",
          "Colombia",
          "Brazil",
          "Tanzania, United Republic Of",
          "Tanzania, United Republic Of",
          "Brazil",
          "Indonesia",
          "Honduras",
          "Costa Rica",
          "Mexico",
          "Taiwan",
          "Taiwan",
          "Mexico",
          "Guatemala",
          "Mexico",
          "Mexico",
          "Mexico",
          "Mexico",
          "Mexico",
          "United States (Hawaii)",
          "Honduras",
          "Guatemala",
          "Taiwan",
          "Costa Rica",
          "Tanzania, United Republic Of",
          "Malawi",
          "Taiwan",
          "Brazil",
          "Guatemala",
          "Mexico",
          "Mexico",
          "Mexico",
          "Thailand",
          "Thailand",
          "Costa Rica",
          "Guatemala",
          "Nicaragua",
          "Honduras",
          "Guatemala",
          "Taiwan",
          "Myanmar",
          "Costa Rica",
          "Malawi",
          "Guatemala",
          "Taiwan",
          "Brazil",
          "Haiti",
          "Taiwan",
          "Mexico",
          "Mexico",
          "Mexico",
          "Mexico",
          "Mexico",
          "Mexico",
          "Indonesia",
          "Brazil",
          "Guatemala",
          "Colombia",
          "United States (Hawaii)",
          "Mexico",
          "Guatemala",
          "Brazil",
          "Honduras",
          "Taiwan",
          "Malawi",
          "Brazil",
          "Guatemala",
          "Mexico",
          "Peru",
          "Guatemala",
          "Mexico",
          "Mexico",
          "Colombia",
          "Colombia",
          "United States (Hawaii)",
          "Colombia",
          "Honduras",
          "Mexico",
          "Brazil",
          "Honduras",
          "Brazil",
          "Philippines",
          "Malawi",
          "Honduras",
          "Mexico",
          "Mexico",
          "Brazil",
          "Taiwan",
          "Brazil",
          "Nicaragua",
          "Honduras",
          "Guatemala",
          "Tanzania, United Republic Of",
          "Taiwan",
          "Guatemala",
          "Mexico",
          "Nicaragua",
          "Tanzania, United Republic Of",
          "Mexico",
          "Costa Rica",
          "Honduras",
          "Thailand",
          "Philippines",
          "Tanzania, United Republic Of",
          "Malawi",
          "Costa Rica",
          "Brazil",
          "Mexico",
          "Guatemala",
          "Brazil",
          "United States (Hawaii)",
          "Ethiopia",
          "Brazil",
          "Nicaragua",
          "United States",
          "Tanzania, United Republic Of",
          "Costa Rica",
          "United States (Puerto Rico)",
          "Mexico",
          "Mexico",
          "Mexico",
          "Mexico",
          "United States (Hawaii)",
          "Brazil",
          "El Salvador",
          "Brazil",
          "Guatemala",
          "Colombia",
          "Guatemala",
          "Taiwan",
          "Honduras",
          "Brazil",
          "Tanzania, United Republic Of",
          "Uganda",
          "Taiwan",
          "Thailand",
          "Mexico",
          "Mexico",
          "Taiwan",
          "Guatemala",
          "Kenya",
          "Mexico",
          "Myanmar",
          "United States (Hawaii)",
          "Tanzania, United Republic Of",
          "Brazil",
          "Taiwan",
          "Brazil",
          "Nicaragua",
          "Guatemala",
          "Taiwan",
          "Taiwan",
          "Taiwan",
          "Mexico",
          "Thailand",
          "Laos",
          "Guatemala",
          "Mexico",
          "Mexico",
          "Mexico",
          "United States (Hawaii)",
          "Colombia",
          "Brazil",
          "Myanmar",
          "Guatemala",
          "Nicaragua",
          "Honduras",
          "Panama",
          "Honduras",
          "Honduras",
          "Costa Rica",
          "Mexico",
          "Haiti",
          "United States (Hawaii)",
          "Taiwan",
          "Indonesia",
          "Guatemala",
          "Costa Rica",
          "Malawi",
          "Mexico",
          "Colombia",
          "Guatemala",
          "Guatemala",
          "Guatemala",
          "Colombia",
          "Brazil",
          "Nicaragua",
          "Tanzania, United Republic Of",
          "Brazil",
          "Honduras",
          "Guatemala",
          "United States (Hawaii)",
          "Colombia",
          "Taiwan",
          "Guatemala",
          "Honduras",
          "Mauritius",
          "Brazil",
          "Myanmar",
          "Guatemala",
          "Brazil",
          "United States (Hawaii)",
          "Guatemala",
          "Mexico",
          "Honduras",
          "Taiwan",
          "El Salvador",
          "China",
          "Taiwan",
          "Mexico",
          "Mexico",
          "Burundi",
          "Tanzania, United Republic Of",
          "Tanzania, United Republic Of",
          "Taiwan",
          "Guatemala",
          "Mexico",
          "United States (Hawaii)",
          "Ethiopia",
          "Brazil",
          "Honduras",
          "Mexico",
          "Myanmar",
          "Myanmar",
          "Nicaragua",
          "United States (Hawaii)",
          "Colombia",
          "Taiwan",
          "Guatemala",
          "Mexico",
          "Vietnam",
          "Nicaragua",
          "Honduras",
          "Guatemala",
          "Mexico",
          "Mexico",
          "Mexico",
          "Guatemala",
          "United States (Hawaii)",
          "Brazil",
          "Taiwan",
          "Nicaragua",
          "Taiwan",
          "Taiwan",
          "Taiwan",
          "Mexico",
          "Mexico",
          "Nicaragua",
          "Myanmar",
          "Mexico",
          "Taiwan",
          "Thailand",
          "Mexico",
          "Mexico",
          "Ethiopia",
          "Colombia",
          "United States (Hawaii)",
          "Mexico",
          "Mexico",
          "Mexico",
          "Mexico",
          "Mexico",
          "Mexico",
          "United States (Hawaii)",
          "Kenya",
          "Guatemala",
          "Nicaragua",
          "Mexico",
          "United States (Hawaii)",
          "Guatemala",
          "Taiwan",
          "Taiwan",
          "Thailand",
          "Peru",
          "Costa Rica",
          "Mexico",
          "Mexico",
          "Mexico",
          "Mexico",
          "Mexico",
          "Guatemala",
          "Mexico",
          "Guatemala",
          "El Salvador",
          "Thailand",
          "Guatemala",
          "Mexico",
          "Mexico",
          "Mexico",
          "Thailand",
          "Mexico",
          "Mexico",
          "Colombia",
          "Guatemala",
          "Nicaragua",
          "Taiwan",
          "Colombia",
          "Mexico",
          "Mexico",
          "Guatemala",
          "Guatemala",
          "Mexico",
          "Cote d?Ivoire",
          "Colombia",
          "Mexico",
          "Mexico",
          "Guatemala",
          "Taiwan",
          "Mexico",
          "Guatemala",
          "Honduras",
          "Guatemala",
          "Guatemala",
          "Costa Rica",
          "Mexico",
          "Mexico",
          "Mexico",
          "Guatemala",
          "United States (Puerto Rico)",
          "Mexico",
          "Mexico",
          "Mexico",
          "Guatemala",
          "Honduras",
          "Peru",
          "Mexico",
          "Mexico",
          "Mexico",
          "Mexico",
          "Mexico",
          "Nicaragua",
          "United States (Hawaii)",
          "Guatemala",
          "Mexico",
          "Mexico",
          "Mexico",
          "China",
          "Mexico",
          "Nicaragua",
          "Nicaragua",
          "Guatemala",
          "Taiwan",
          "Mexico",
          "Mexico",
          "United States (Hawaii)",
          "Mexico",
          "Mexico",
          "Mexico",
          "Brazil",
          "Mexico",
          "United States (Hawaii)",
          "Guatemala",
          "Guatemala",
          "Mexico",
          "Guatemala",
          "United States (Hawaii)",
          "United States (Hawaii)",
          "Indonesia",
          "Mexico",
          "Taiwan",
          "Honduras",
          "United States (Hawaii)",
          "Guatemala",
          "China",
          "Guatemala",
          "Mexico",
          "Colombia",
          "Costa Rica",
          "Mexico",
          "Guatemala",
          "Nicaragua",
          "Brazil",
          "Guatemala",
          "Taiwan",
          "United States (Hawaii)",
          "Mexico",
          "Guatemala",
          "Brazil",
          "Guatemala",
          "Mexico",
          "Haiti",
          "United States (Hawaii)",
          "Mexico",
          "Peru",
          "India",
          "Mexico",
          "Guatemala",
          "Mexico",
          "Guatemala",
          "Guatemala",
          "United States (Hawaii)",
          "United States (Hawaii)",
          "Mexico",
          "Indonesia",
          "Mexico",
          "Honduras",
          "Philippines",
          "Brazil",
          "Guatemala",
          "Guatemala",
          "Mexico",
          "Mexico",
          "Mexico",
          "Mexico",
          "Mexico",
          "Mexico",
          "Mexico",
          "Guatemala",
          "Guatemala",
          "Mexico",
          "United States (Hawaii)",
          "Guatemala",
          "Mexico",
          "Mexico",
          "Mexico",
          "United States (Hawaii)",
          "Brazil",
          "Honduras",
          "Mexico",
          "Colombia",
          "United States (Hawaii)",
          "Haiti",
          "Costa Rica",
          "Mexico",
          "Mexico",
          "Mexico",
          "Brazil",
          "Honduras",
          "Honduras",
          "Honduras",
          "Mexico",
          "Haiti",
          "Nicaragua",
          "Guatemala",
          "Honduras"
         ],
         "xaxis": "x",
         "yaxis": "y"
        }
       ],
       "layout": {
        "barmode": "relative",
        "legend": {
         "tracegroupgap": 0
        },
        "margin": {
         "t": 60
        },
        "template": {
         "data": {
          "bar": [
           {
            "error_x": {
             "color": "#2a3f5f"
            },
            "error_y": {
             "color": "#2a3f5f"
            },
            "marker": {
             "line": {
              "color": "#E5ECF6",
              "width": 0.5
             },
             "pattern": {
              "fillmode": "overlay",
              "size": 10,
              "solidity": 0.2
             }
            },
            "type": "bar"
           }
          ],
          "barpolar": [
           {
            "marker": {
             "line": {
              "color": "#E5ECF6",
              "width": 0.5
             },
             "pattern": {
              "fillmode": "overlay",
              "size": 10,
              "solidity": 0.2
             }
            },
            "type": "barpolar"
           }
          ],
          "carpet": [
           {
            "aaxis": {
             "endlinecolor": "#2a3f5f",
             "gridcolor": "white",
             "linecolor": "white",
             "minorgridcolor": "white",
             "startlinecolor": "#2a3f5f"
            },
            "baxis": {
             "endlinecolor": "#2a3f5f",
             "gridcolor": "white",
             "linecolor": "white",
             "minorgridcolor": "white",
             "startlinecolor": "#2a3f5f"
            },
            "type": "carpet"
           }
          ],
          "choropleth": [
           {
            "colorbar": {
             "outlinewidth": 0,
             "ticks": ""
            },
            "type": "choropleth"
           }
          ],
          "contour": [
           {
            "colorbar": {
             "outlinewidth": 0,
             "ticks": ""
            },
            "colorscale": [
             [
              0,
              "#0d0887"
             ],
             [
              0.1111111111111111,
              "#46039f"
             ],
             [
              0.2222222222222222,
              "#7201a8"
             ],
             [
              0.3333333333333333,
              "#9c179e"
             ],
             [
              0.4444444444444444,
              "#bd3786"
             ],
             [
              0.5555555555555556,
              "#d8576b"
             ],
             [
              0.6666666666666666,
              "#ed7953"
             ],
             [
              0.7777777777777778,
              "#fb9f3a"
             ],
             [
              0.8888888888888888,
              "#fdca26"
             ],
             [
              1,
              "#f0f921"
             ]
            ],
            "type": "contour"
           }
          ],
          "contourcarpet": [
           {
            "colorbar": {
             "outlinewidth": 0,
             "ticks": ""
            },
            "type": "contourcarpet"
           }
          ],
          "heatmap": [
           {
            "colorbar": {
             "outlinewidth": 0,
             "ticks": ""
            },
            "colorscale": [
             [
              0,
              "#0d0887"
             ],
             [
              0.1111111111111111,
              "#46039f"
             ],
             [
              0.2222222222222222,
              "#7201a8"
             ],
             [
              0.3333333333333333,
              "#9c179e"
             ],
             [
              0.4444444444444444,
              "#bd3786"
             ],
             [
              0.5555555555555556,
              "#d8576b"
             ],
             [
              0.6666666666666666,
              "#ed7953"
             ],
             [
              0.7777777777777778,
              "#fb9f3a"
             ],
             [
              0.8888888888888888,
              "#fdca26"
             ],
             [
              1,
              "#f0f921"
             ]
            ],
            "type": "heatmap"
           }
          ],
          "heatmapgl": [
           {
            "colorbar": {
             "outlinewidth": 0,
             "ticks": ""
            },
            "colorscale": [
             [
              0,
              "#0d0887"
             ],
             [
              0.1111111111111111,
              "#46039f"
             ],
             [
              0.2222222222222222,
              "#7201a8"
             ],
             [
              0.3333333333333333,
              "#9c179e"
             ],
             [
              0.4444444444444444,
              "#bd3786"
             ],
             [
              0.5555555555555556,
              "#d8576b"
             ],
             [
              0.6666666666666666,
              "#ed7953"
             ],
             [
              0.7777777777777778,
              "#fb9f3a"
             ],
             [
              0.8888888888888888,
              "#fdca26"
             ],
             [
              1,
              "#f0f921"
             ]
            ],
            "type": "heatmapgl"
           }
          ],
          "histogram": [
           {
            "marker": {
             "pattern": {
              "fillmode": "overlay",
              "size": 10,
              "solidity": 0.2
             }
            },
            "type": "histogram"
           }
          ],
          "histogram2d": [
           {
            "colorbar": {
             "outlinewidth": 0,
             "ticks": ""
            },
            "colorscale": [
             [
              0,
              "#0d0887"
             ],
             [
              0.1111111111111111,
              "#46039f"
             ],
             [
              0.2222222222222222,
              "#7201a8"
             ],
             [
              0.3333333333333333,
              "#9c179e"
             ],
             [
              0.4444444444444444,
              "#bd3786"
             ],
             [
              0.5555555555555556,
              "#d8576b"
             ],
             [
              0.6666666666666666,
              "#ed7953"
             ],
             [
              0.7777777777777778,
              "#fb9f3a"
             ],
             [
              0.8888888888888888,
              "#fdca26"
             ],
             [
              1,
              "#f0f921"
             ]
            ],
            "type": "histogram2d"
           }
          ],
          "histogram2dcontour": [
           {
            "colorbar": {
             "outlinewidth": 0,
             "ticks": ""
            },
            "colorscale": [
             [
              0,
              "#0d0887"
             ],
             [
              0.1111111111111111,
              "#46039f"
             ],
             [
              0.2222222222222222,
              "#7201a8"
             ],
             [
              0.3333333333333333,
              "#9c179e"
             ],
             [
              0.4444444444444444,
              "#bd3786"
             ],
             [
              0.5555555555555556,
              "#d8576b"
             ],
             [
              0.6666666666666666,
              "#ed7953"
             ],
             [
              0.7777777777777778,
              "#fb9f3a"
             ],
             [
              0.8888888888888888,
              "#fdca26"
             ],
             [
              1,
              "#f0f921"
             ]
            ],
            "type": "histogram2dcontour"
           }
          ],
          "mesh3d": [
           {
            "colorbar": {
             "outlinewidth": 0,
             "ticks": ""
            },
            "type": "mesh3d"
           }
          ],
          "parcoords": [
           {
            "line": {
             "colorbar": {
              "outlinewidth": 0,
              "ticks": ""
             }
            },
            "type": "parcoords"
           }
          ],
          "pie": [
           {
            "automargin": true,
            "type": "pie"
           }
          ],
          "scatter": [
           {
            "marker": {
             "colorbar": {
              "outlinewidth": 0,
              "ticks": ""
             }
            },
            "type": "scatter"
           }
          ],
          "scatter3d": [
           {
            "line": {
             "colorbar": {
              "outlinewidth": 0,
              "ticks": ""
             }
            },
            "marker": {
             "colorbar": {
              "outlinewidth": 0,
              "ticks": ""
             }
            },
            "type": "scatter3d"
           }
          ],
          "scattercarpet": [
           {
            "marker": {
             "colorbar": {
              "outlinewidth": 0,
              "ticks": ""
             }
            },
            "type": "scattercarpet"
           }
          ],
          "scattergeo": [
           {
            "marker": {
             "colorbar": {
              "outlinewidth": 0,
              "ticks": ""
             }
            },
            "type": "scattergeo"
           }
          ],
          "scattergl": [
           {
            "marker": {
             "colorbar": {
              "outlinewidth": 0,
              "ticks": ""
             }
            },
            "type": "scattergl"
           }
          ],
          "scattermapbox": [
           {
            "marker": {
             "colorbar": {
              "outlinewidth": 0,
              "ticks": ""
             }
            },
            "type": "scattermapbox"
           }
          ],
          "scatterpolar": [
           {
            "marker": {
             "colorbar": {
              "outlinewidth": 0,
              "ticks": ""
             }
            },
            "type": "scatterpolar"
           }
          ],
          "scatterpolargl": [
           {
            "marker": {
             "colorbar": {
              "outlinewidth": 0,
              "ticks": ""
             }
            },
            "type": "scatterpolargl"
           }
          ],
          "scatterternary": [
           {
            "marker": {
             "colorbar": {
              "outlinewidth": 0,
              "ticks": ""
             }
            },
            "type": "scatterternary"
           }
          ],
          "surface": [
           {
            "colorbar": {
             "outlinewidth": 0,
             "ticks": ""
            },
            "colorscale": [
             [
              0,
              "#0d0887"
             ],
             [
              0.1111111111111111,
              "#46039f"
             ],
             [
              0.2222222222222222,
              "#7201a8"
             ],
             [
              0.3333333333333333,
              "#9c179e"
             ],
             [
              0.4444444444444444,
              "#bd3786"
             ],
             [
              0.5555555555555556,
              "#d8576b"
             ],
             [
              0.6666666666666666,
              "#ed7953"
             ],
             [
              0.7777777777777778,
              "#fb9f3a"
             ],
             [
              0.8888888888888888,
              "#fdca26"
             ],
             [
              1,
              "#f0f921"
             ]
            ],
            "type": "surface"
           }
          ],
          "table": [
           {
            "cells": {
             "fill": {
              "color": "#EBF0F8"
             },
             "line": {
              "color": "white"
             }
            },
            "header": {
             "fill": {
              "color": "#C8D4E3"
             },
             "line": {
              "color": "white"
             }
            },
            "type": "table"
           }
          ]
         },
         "layout": {
          "annotationdefaults": {
           "arrowcolor": "#2a3f5f",
           "arrowhead": 0,
           "arrowwidth": 1
          },
          "autotypenumbers": "strict",
          "coloraxis": {
           "colorbar": {
            "outlinewidth": 0,
            "ticks": ""
           }
          },
          "colorscale": {
           "diverging": [
            [
             0,
             "#8e0152"
            ],
            [
             0.1,
             "#c51b7d"
            ],
            [
             0.2,
             "#de77ae"
            ],
            [
             0.3,
             "#f1b6da"
            ],
            [
             0.4,
             "#fde0ef"
            ],
            [
             0.5,
             "#f7f7f7"
            ],
            [
             0.6,
             "#e6f5d0"
            ],
            [
             0.7,
             "#b8e186"
            ],
            [
             0.8,
             "#7fbc41"
            ],
            [
             0.9,
             "#4d9221"
            ],
            [
             1,
             "#276419"
            ]
           ],
           "sequential": [
            [
             0,
             "#0d0887"
            ],
            [
             0.1111111111111111,
             "#46039f"
            ],
            [
             0.2222222222222222,
             "#7201a8"
            ],
            [
             0.3333333333333333,
             "#9c179e"
            ],
            [
             0.4444444444444444,
             "#bd3786"
            ],
            [
             0.5555555555555556,
             "#d8576b"
            ],
            [
             0.6666666666666666,
             "#ed7953"
            ],
            [
             0.7777777777777778,
             "#fb9f3a"
            ],
            [
             0.8888888888888888,
             "#fdca26"
            ],
            [
             1,
             "#f0f921"
            ]
           ],
           "sequentialminus": [
            [
             0,
             "#0d0887"
            ],
            [
             0.1111111111111111,
             "#46039f"
            ],
            [
             0.2222222222222222,
             "#7201a8"
            ],
            [
             0.3333333333333333,
             "#9c179e"
            ],
            [
             0.4444444444444444,
             "#bd3786"
            ],
            [
             0.5555555555555556,
             "#d8576b"
            ],
            [
             0.6666666666666666,
             "#ed7953"
            ],
            [
             0.7777777777777778,
             "#fb9f3a"
            ],
            [
             0.8888888888888888,
             "#fdca26"
            ],
            [
             1,
             "#f0f921"
            ]
           ]
          },
          "colorway": [
           "#636efa",
           "#EF553B",
           "#00cc96",
           "#ab63fa",
           "#FFA15A",
           "#19d3f3",
           "#FF6692",
           "#B6E880",
           "#FF97FF",
           "#FECB52"
          ],
          "font": {
           "color": "#2a3f5f"
          },
          "geo": {
           "bgcolor": "white",
           "lakecolor": "white",
           "landcolor": "#E5ECF6",
           "showlakes": true,
           "showland": true,
           "subunitcolor": "white"
          },
          "hoverlabel": {
           "align": "left"
          },
          "hovermode": "closest",
          "mapbox": {
           "style": "light"
          },
          "paper_bgcolor": "white",
          "plot_bgcolor": "#E5ECF6",
          "polar": {
           "angularaxis": {
            "gridcolor": "white",
            "linecolor": "white",
            "ticks": ""
           },
           "bgcolor": "#E5ECF6",
           "radialaxis": {
            "gridcolor": "white",
            "linecolor": "white",
            "ticks": ""
           }
          },
          "scene": {
           "xaxis": {
            "backgroundcolor": "#E5ECF6",
            "gridcolor": "white",
            "gridwidth": 2,
            "linecolor": "white",
            "showbackground": true,
            "ticks": "",
            "zerolinecolor": "white"
           },
           "yaxis": {
            "backgroundcolor": "#E5ECF6",
            "gridcolor": "white",
            "gridwidth": 2,
            "linecolor": "white",
            "showbackground": true,
            "ticks": "",
            "zerolinecolor": "white"
           },
           "zaxis": {
            "backgroundcolor": "#E5ECF6",
            "gridcolor": "white",
            "gridwidth": 2,
            "linecolor": "white",
            "showbackground": true,
            "ticks": "",
            "zerolinecolor": "white"
           }
          },
          "shapedefaults": {
           "line": {
            "color": "#2a3f5f"
           }
          },
          "ternary": {
           "aaxis": {
            "gridcolor": "white",
            "linecolor": "white",
            "ticks": ""
           },
           "baxis": {
            "gridcolor": "white",
            "linecolor": "white",
            "ticks": ""
           },
           "bgcolor": "#E5ECF6",
           "caxis": {
            "gridcolor": "white",
            "linecolor": "white",
            "ticks": ""
           }
          },
          "title": {
           "x": 0.05
          },
          "xaxis": {
           "automargin": true,
           "gridcolor": "white",
           "linecolor": "white",
           "ticks": "",
           "title": {
            "standoff": 15
           },
           "zerolinecolor": "white",
           "zerolinewidth": 2
          },
          "yaxis": {
           "automargin": true,
           "gridcolor": "white",
           "linecolor": "white",
           "ticks": "",
           "title": {
            "standoff": 15
           },
           "zerolinecolor": "white",
           "zerolinewidth": 2
          }
         }
        },
        "xaxis": {
         "anchor": "y",
         "domain": [
          0,
          1
         ],
         "title": {
          "text": "Country of Origin"
         }
        },
        "yaxis": {
         "anchor": "x",
         "domain": [
          0,
          1
         ],
         "title": {
          "text": "count"
         }
        }
       }
      }
     },
     "metadata": {},
     "output_type": "display_data"
    },
    {
     "data": {
      "application/vnd.plotly.v1+json": {
       "config": {
        "plotlyServerURL": "https://plot.ly"
       },
       "data": [
        {
         "alignmentgroup": "True",
         "bingroup": "x",
         "hovertemplate": "Producer=%{x}<br>count=%{y}<extra></extra>",
         "legendgroup": "",
         "marker": {
          "color": "#636efa",
          "pattern": {
           "shape": ""
          }
         },
         "name": "",
         "offsetgroup": "",
         "orientation": "v",
         "showlegend": false,
         "type": "histogram",
         "x": [
          "METAD PLC",
          "METAD PLC",
          "Yidnekachew Dabessa Coffee Plantation",
          "METAD PLC",
          "HVC",
          "Bazen Agricultural & Industrial Dev't Plc",
          "Bazen Agricultural & Industrial Dev't Plc",
          "Diamond Enterprise Plc",
          "Fahem Coffee Plantation",
          "Alfredo De Jesús López Pérez",
          "Jorge Walter Restrepo",
          "Robert, Sharon, Arianna Wood",
          "Bazen Agricultural & Industrial Dev't Plc",
          "María Leticia Diosa",
          "P.T. Toarco Jaya",
          "Green Gold Ethiopia | Phone: 0114342032",
          "Echo Coffee",
          "LevelUp",
          "Nicolás Rueda Urrego",
          "SEVERAL",
          "ROBERTO LICONA FRANCO",
          "Silvia Elena Higuita",
          "Ralph Junqueira",
          "Green Gold Ethiopia | Phone: 0114342032",
          "Kabum trading company",
          "Reinerio Zepeda",
          "FANG,ZHENG-LUN 方政倫",
          "Homero Texeira de Macedo Junior",
          "Exclusive Coffees S.A.",
          "Haider Abamecha Abadiko",
          "Kangunu",
          "Kona Pacific Farmers Co-Op",
          "Contact name | ATO Teshome Belamo",
          "Hugo Sepúlveda Montoya",
          "ITDP",
          "Maria Rogeria Costa Pereira",
          "Maria Rogeria Costa Pereira",
          "LIN YEN CHIEN 林言謙",
          "JUNGLE ESTATE",
          "Ralph Junqueira",
          "Kaasay Farmer Group",
          "Kawacom",
          "Sidama Coffee Farmers Coop. Union",
          "Hula Daddy Kona Coffee",
          "MARGARITA AVILA DE NUYENS",
          "Kawacom (U)Ltd",
          "Plinio Ruiz",
          "Ibrahim Hussien Specialty Coffee Producer and Exporter",
          "SERTRASA",
          "WILLIAM ESTUARDO MARTINEZ PACHECO",
          "seid damtew coffee export and plantation",
          "Colbran CoffeeLands, Ltd.",
          "Aida Batlle",
          "Oscar Roberto Murgas Linares",
          "Lamastus",
          "Assefa Belay Coffee Producer",
          "Kyagalanyi coffee Ltd",
          "ASOCIACION DE PERMACULTORES DE CUILCO (SANTOS LOPEZ MEJIA)",
          "Assefa Belay Coffee Producer",
          "Chesiyo Farmer group",
          "José Vagner Ribeiro Junqueira",
          "J. Hill y Cia SA de CV",
          "Pu'er City Longke Coffee Co.Ltd",
          "Arturo Aguirre",
          "Cafe Altura de San Ramon",
          "SEVERAL",
          "Kianjogu - Rutuma F.C.S. Ltd.",
          "Blend from various Producers",
          "Contact name | Egziabhez Mezgebe, GMT Industrial Plc",
          "Contact name | Hailu Gebre Hiwot",
          "MARGARITA AVILA DE NUYENS",
          "varios",
          "Coop. Hoja Blanca - Fedecocagua",
          "SEID DAMTEW COFFEE PLANATION",
          "JOSE ALBEIRO GOMEZ / LUIS JABER REALPE",
          "BNT",
          "ORLANDO ORTIZ /WILSON ORTIZ/GILBERTO ACOSTA",
          "Kona Pacific Farmers Cooperative",
          "Exporter Name | Muluneh Kaka | Phone: 0114390290",
          "Kyagalanyi Coffee Ltd",
          "La Plata",
          "Manuel Montero",
          "Varios productores minifundistas",
          "Idalina M. De Andrade Ferreira",
          "Finca Kassandra",
          "Federico Weller",
          "La Plata",
          "La Plata",
          "SU CHUEN SHIAN 蘇春賢",
          "Hasambo AMCOS",
          "LA PLATA",
          "ARTEMIO ZAPATA TEJEDA",
          "Glaucio Carneiro Pinto",
          "Ricardo Luiz Ferreira",
          "Wang Chao Yung 王超永",
          "Sipi organic coffee project",
          "Sidama Coffee Farmers Coop. Union",
          "Sidama Coffee Farmers Coop. Union",
          "Matsuzawa Coffee",
          "KARATINA",
          "Omar Acosta",
          "Several producers",
          "Juan Alvaro Munguia",
          "J.J. Borja Nathan",
          "PT. Shriya Artha Nusantara",
          "Taijiro TOKUDA",
          "Johanna",
          "JUAN BOCK",
          "Coopetarrazú",
          "Moplaco",
          "Maria Elena Castro",
          "CORICAFE BLEND",
          "Gu yong long 古永龍",
          "Sasini",
          "AGROPECUARIA QUIAGRAL",
          "SERTRASA",
          "JORGE TORRES BELTRAN, VICENTE HERNANDEZ OCHOA, IGNACIO TORRES",
          "CECANOR",
          "Sidama Coffee Farmers Coop. Union",
          "JUNGLE ESTATE",
          "La Plata",
          "BLEND",
          "ROBERTO MONTERROSO",
          "AMILCAR LAPOLA",
          "La Plata",
          "changeru wet mill",
          "varios",
          "Homero Texeira de Macedo Junior",
          "Geraldo Paixão",
          "Various",
          "Kawacom Uganda Ltd",
          "Menglian Ban’an Coffee Processing Factory",
          "Coopetarrazú",
          "PUER JIANGCHENG FUWANG COFFEE BIOTECHNOLOGY CO., LTD",
          "LUIS RODRIGUEZ",
          "MARIA IMELDA USCANGA MARTINEZ",
          "SANTIAGO JOSE ARGUELLO CAMPOS",
          "AGRICOLA NUEVA GRANADA, S.A",
          "mmm",
          "Beneficio San Diego",
          "Surbakti",
          "FRANKLIN DUSSAN",
          "La Plata",
          "Kao Ming Lee",
          "MARIA AMALIA GUADALUPE TORIELLO ELORZA",
          "Contact name | Egziabhez Mezgebe, GMT Industrial Plc",
          "mutheka",
          "Nahun Maldonado",
          "Reinerio Zepeda",
          "FRANKLIN DUSSAN / ANDRES RODRIGUEZ/HIPOLITO TORRES",
          "VICTOR HUGO MELCHOR CORDOVA",
          "Lucia Maria da Silva Dias",
          "Antônio Pelucio",
          "Oromia Coffee Farmers Cooperative Union",
          "Miguel Hernandez",
          "黃美桃 Huang Mei Tao",
          "Matsuzawa Coffee",
          "JOSE ALBEIRO GOMEZ",
          "FINCA MEDINA",
          "HORACIO CIFUENTES MARTINEZ",
          "Menglian County Nayun Town Mangzhang Coffee Farm",
          "La Plata",
          "La Plata",
          "FRANKLIN DUSSAN/ANDRES RODRIGUEZ/HIPOLITO TORRES",
          "Tembo Coffee Company Ltd",
          "Taylor Winch (T) ltd",
          "AMILCAR LAPOLA",
          "JESUS SALAZAR VELASCO",
          "MANUEL HERRERA JUAREZ",
          "ERNST POHLENZ AGUILAR",
          "JORGE LEAL",
          "La Plata",
          "Los Angeles Micro-Mill (Ricardo Calderón)",
          "DARY COLMAN ALVARADO VILLATORO",
          "FERNANDO FAHSEN",
          "CHAPULTEPEC",
          "La Plata",
          "COOPERATIVA EL GORRION RL",
          "MAURO GALHERI",
          "Martin Gutierrez",
          "Tariku Oljira",
          "Selian Coffee Estate",
          "Café do Paraíso",
          "AGRICOLA MONTE VERDE, S.A.",
          "Aida Batlle",
          "WILLIAM ESTUARDO MARTINEZ PACHECO",
          "ANTON GAYO",
          "FRANKLIN DUSSAN / HIPOLITO TORRES",
          "CHANG YU LIANG 張玉良",
          "MARGARITA AVILA DE NUYENS",
          "La Plata",
          "Asociacion de Productores de Cafe de la Region Ixil",
          "ANDRES MARTINEZ LEON",
          "Kerchanshe Trading P.L.C",
          "Nahun Maldonado",
          "OTONIEL VILLATORO LOPEZ",
          "AMILCAR LAPOLA",
          "AMILCAR LAPOLA",
          "La Plata",
          "Ipanema Coffees",
          "Blend of various producers",
          "Doi Tung Development Project",
          "-",
          "Ipanema Agricola S.A",
          "CAFES TOMARI SA DE CV",
          "Phatang, Saveg",
          "Ipanema Agricola",
          "FANG,ZHENG-LUN 方政倫",
          "FRANKLIN DUSSAN / HIPOLITO TORRES",
          "YANG TENG KO楊登嵙",
          "La Plata",
          "張瑞宏",
          "OSCAR ORTEGA CARBALLO",
          "ARTURO LIEVANO MORENO",
          "coop",
          "Jose Albeiro gomez",
          "La Plata",
          "Martin Gutierrez",
          "FINCA MEDINA",
          "鄭虞坪",
          "Ipanema Agrícola SA",
          "ZENG JIAN NAN 曾建男",
          "Sumeya Yasin",
          "Ipanema Agrícola SA",
          "VARIOS",
          "AMILCAR LAPOLA",
          "Ipanema Coffees",
          "ROBERTO MONTERROSO",
          "FILEMON MENDOZA CAMPOS",
          "ERNST POHLENZ AGUILAR",
          "Nazareth Dias Pereira",
          "Doi Chaang Community Enterprise Piko",
          "Contact name | ATO Teshome Belamo",
          "KAROGOTO",
          "Ipanema Agricola S.A",
          "FRANKLIN DUSSAN / HIPOLITO TORRES",
          "曾如楓 & 郭俊宏 (Tseng Ju Feng & Kuo Jun Hong)",
          "La Plata",
          "Pu’er Specialty Coffee Cupping Center",
          "FRANKLIN DUSSAN",
          "Nile Highland Arabica Coffee Farmers",
          "Hacienda Alto Grande",
          "La Plata",
          "MARTINEZ MAGDALENA, AGAPITA",
          "Several producres",
          "Carlos Peneche/Jesus Peneche/Flor Chacón",
          "Ipanema Agricola S.A",
          "NCHOROIBORO / KIRIANI FACTORY",
          "Reinerio Zepeda",
          "RONALDO LACAYO CARDENAL",
          "Ipanema Agricola",
          "FANG,ZHENG-LUN 方政倫",
          "Doi Tung Development Project",
          "Agrotello Coop",
          "FRANCISCO LUIS MARTINEZ LOPEZ",
          "Huila",
          "AGRICOLA MONTE VERDE, S.A.",
          "LUIS RODRIGUEZ",
          "Finca Quequesquez",
          "AGROPECUARIA QUIAGRAL",
          "JUAN LUIS ORTEGA CARBALLO",
          "PT. Perkebunan Nusantara XII",
          "SIEMBRAS VISION, S.A",
          "Ipanema Agricola S.A",
          "JUAN RAMIREZ MORALES",
          "La Plata",
          "Menglian Mang Pan Professional Cooperative",
          "La Plata",
          "Exportadora Café California",
          "LevelUp",
          "Bulamburi coffee farmers association",
          "Gu zhi min 古智閔",
          "LA PLATA",
          "JULIAN ALBERTO URRUTIA MOYA",
          "ORLANDO ORTIZ/WILSON SANCHEZ/GILBERTO ACOSTA",
          "Alvaro Resende Aguiar",
          "Orlando Moreno / Willson Sanchez",
          "黑咖啡道王憲備0912326001        ",
          "Martin Gutierrez",
          "Mecias Urbano / Yaniver Alvarez",
          "MARGARITA AVILA DE NUYENS",
          "La Plata",
          "Mr & Mrs Damari Absalome",
          "Yusrin",
          "Debesa",
          "UNEX",
          "Reynerio Zepeda",
          "MANUEL HERRERA JUAREZ",
          "ARMANDO GUTIERREZ GUZMAN",
          "GABRIEL BERNARD RIVAS ROSS",
          "RNP SANTO TOMAS PACHUJ / KANEMATSU CORPORATION",
          "La Plata",
          "ConquistaMorito",
          "PT. PERKEBUNAN NUSANTARA XII",
          "FRANKLIN DUSSAN / HIPOLITO TORRES",
          "JORGE LEAL",
          "FRANKLIN DUSSAN / HIPOLOTO TORRES",
          "Martin Gutierrez",
          "黃素貞0939227229",
          "Bulago & Buginyanya",
          "Matsuzawa Coffee",
          "Ibero El Salvador, S.A. de C.V.",
          "FRANKLIN DUSSAN/ANDRES RODRIGUEZ/HIPOLITO TORRES",
          "GABRIEL CARVALHO DIAS",
          "Ngila Estate Ltd",
          "AMILCAR LAPOLA",
          "SIEMBRAS VISIÓN, S.A.",
          "ROBERTO MONTERROSO",
          "Exportadora de cafe condor",
          "Kona Pacific Farmers Co-Op",
          "Doi Tung Development Project",
          "Productores de Cafe de El Cuarenteno, S. de P.R. de R.L",
          "various",
          "La Plata",
          "Ipanema Agrícola SA",
          "ECC",
          "varios",
          "Mondul Coffee Estate",
          "JOSÉ LUIS ANDRADE SANDARA",
          "SEVERAL",
          "CORICAFE BLEND",
          "COOPCAB",
          "ORLANDO ORTIZ / HIPOLITO TORRES",
          "LUIS RODRIGUEZ",
          "condor",
          "BALBINO RAMIREZ FLORES",
          "Manuel Montero",
          "Coopellanobonito",
          "PABLO CHUY",
          "Kawacom Uganda LTD",
          "FRANKLIN DUSSAN",
          "Rafael Arroyo Zoto",
          "LIN YEN CHIEN 林言謙",
          "蘇詠晴",
          "SIEMBRAS VISIÓN, S.A.",
          "VRIOS PRODUCTORES",
          "ERNESTO RODRIGUEZ LUNA",
          "MODESTO LANDEROS FLORES",
          "AGROPECUARIA QUIAGRAL",
          "Eliane de Andrade Cyrino Noqueira",
          "La Plata",
          "Exportadora de Café Cóndor S.A",
          "Ipanema Agricola S.A",
          "AGROINDUSTRIAS CAFETALERAS",
          "Mamsera",
          "Yeh, Li Chuan",
          "FINCA MEDINA",
          "JOSE OMAR ACOSTA",
          "Mojiang Jinggong Estate Speciality Development Co.Ltd",
          "Yunnan Success Trade Co.Ltd",
          "Ecom Agroindustrial Corp. Ltd.",
          "FINCA MEDINA",
          "PAPATURRO",
          "Doi Tung Development Project",
          "Tutunze Kahawa Ltd",
          "La Plata",
          "Kabum Trading Company",
          "unkown",
          "Nelson Melgar Melgar",
          "Reynerio Zepeda",
          "AGRICOLA NUEVA GRANADA, S.A.",
          "ROBERTO MONTERROSO",
          "MARGARITO ROBLERO VAZQUEZ",
          "AMADOR HERNANDEZ DIONICIO",
          "TREJO VELASCO, ROMAN",
          "LA PLATA",
          "FERNANDO MENDOZA APARICIO",
          "OCTAVIO MOGUEL FARRERA",
          "Giovane Senna Bonacorssi",
          "Maria Aparecida Ferreira Azevedo",
          "Conquista / Morito",
          "Andrea Galvão Noqueira",
          "Mario Dornelles Alvarenga",
          "Several",
          "Tega and Tula Special Coffee Farm",
          "Orlando Moreno / Willson Sanchez",
          "La Plata",
          "Ipanema Agricola",
          "Ipanema Agrícola SA",
          "Tseng ju feng / Kuo jun hong 曾如楓 / 郭俊宏",
          "Ipanema Agrícola SA",
          "VARIOS",
          "Fang zheng lun 方政倫",
          "MARIA LUISA DEL CARMEN ROJAS NARVAEZ",
          "Grupo Monserrate, La Plata",
          "PT. MENACOM",
          "Ipanema Agricola S.A",
          "Ipanema Agricola",
          "Ipanema Agricola",
          "Xavier Baluku",
          "Emmanuel Munaaba",
          "FRANKLIN DUSSAN / HIPOLITO TORRES",
          "Yeh, Li Chuan.",
          "OVIDIO CARDONA",
          "Agricola Nueva Granada, S. A.",
          "FINCA MEDINA",
          "João Alves Toledo",
          "雅慕伊",
          "Kucofa farmers group",
          "Hacienda Alto Grande",
          "GRUPO MEDINA",
          "CORICAFE BLEND",
          "NAZARETH DIAS PEREIRA",
          "La Plata",
          "COFFEE COMPANY / CAFECOL",
          "ORLANDO ORTOZ / HIPOLITO TORRES",
          "LA PLATA",
          "GONZALO RIVERO PUERTO",
          "SANTIAGO SOLIS AYERDI",
          "FRANCO COLORADO DOMINGUEZ",
          "Exportadora Condor",
          "varios",
          "NUEVOS MERCADOS, S.A.",
          "LA PLATA",
          "varios",
          "Juan AugustinPalacio",
          "Doi Tung Development Project",
          "Ipanema Agricola S.A",
          "Balcanes Coffee Estates, S.A. de C.V.",
          "Wang Chao Yung 王超永",
          "-",
          "許文郎",
          "Hineleban Foundation",
          "Ephemera Traders",
          "Catalina Rodriguez Mayorga",
          "FIECH",
          "GERSON NAIMEG",
          "Sipi organic coffee project",
          "Nyapea coffee farmers association",
          "SIEMBRAS VISION, S.A.",
          "SIEMBRAS VISIÓN, S.A.",
          "OTTONIEL VILLATORO LOPEZ",
          "MARIA GUADALUPE GOMEZ ANZO",
          "Apollo Co., Ltd.",
          "WERCLEIN HERNANDEZ SERRANO ID.-1506728641",
          "Doi Tung Development Project",
          "KEREMARA LIMITED",
          "JORGE LEAL",
          "Ipanema Agricola",
          "El Barbaro, S.A. de C.V.",
          "Bufcoffee_Gicumbi",
          "Yeh, Li Chuan",
          "AMILCAR LAPOLA",
          "Antonio Batista Francisquine",
          "Mercedes Narvaez",
          "PT. Olam Indonesia",
          "SIEMBRAS VISIÓN, S.A.",
          "Mrs. Galeano",
          "La Plata",
          "BURKA COFFEE ESTATE",
          "ARMANDO LUIS POHLENZ MARTINEZ",
          "OLIVIA HERNANDEZ VIRUES",
          "AGROPECUARIA QUIAGRAL",
          "OCTAVIO MOGUEL FARRERA",
          "La Majada Cooperative",
          "PLANTACIONES AGROPECUARIAS S.A",
          "PABLO ARTURO CHUY FLORES",
          "ANGEL DE LEON",
          "OTTO BECKER",
          "JESUS RAMIREZ",
          "vary farm",
          "JESUS RAMIREZ",
          "林俊吉( Lin, Chun-Chi)",
          "Soc. Coop. de Caf. de Ciudad Barrios de R.L.",
          "Martin Gutierrez",
          "Reinerio Zepeda",
          "Ipanema Agricola",
          "Puwen Lvyou Coffee Co.,Ltd",
          "Pu'er Lingdu Yunlin Coffee Co.LTD",
          "La Plata",
          "Mzuzu Coffee Planters Coop Union",
          "ROBERTO MONTERROSO",
          "several",
          "CARLOS O. VELAZCO LOPEZ",
          "FRANCISCO R. DE LA VEQUIA BERNARDI",
          "ROMULO BELLO FLORES",
          "Supply Chain ECOM CCA S.A.",
          "LA PLATA",
          "Price Peterson",
          "Ipanema Agricola S.A",
          "Ipanema Agricola",
          "Paksong,Laos",
          "El Barbaro, S.A. de C.V.",
          "Finca Kassandra",
          "Ipanema Agrícola SA",
          "MANOEL CARDOSO AND GALILEO CARDOSO",
          "Nitin Coffee Estate",
          "Taylor Winch (T) ltd",
          "林道明",
          "AVELINO CHAVEZ REYNA",
          "Kawacom Uganda Ltd",
          "Xu ding ye 許定燁",
          "Koju Matsuzawa",
          "-",
          "Doi Tung Development Project",
          "AMIN JAVIER MOISES CEJA",
          "MARIA DE LOURDES ANCIRA ELIZONDO",
          "Mariana Cabrera Pantoja; I.D.: 27 423 625",
          "Finca Kassandra",
          "JESUS RAMIREZ",
          "林文弘 Lin Wen Hong",
          "陳勝樂0912326001",
          "SMALL HOLDERS FARMER",
          "Doi Tung Development Project",
          "Coffeas Co., Ltd.",
          "Tembo Coffee Company Ltd",
          "Sipi organic coffee project",
          "VARIOS",
          "Huatusco",
          "varios",
          "varios",
          "GUILLERMO ROJAS SALDAÑA",
          "FEDERICO ENCISO MICHEL; LEODAN ENCISO FIGUEROA; JAIME LOPEZ LOPEZ",
          "LA PLATA",
          "Mario Garcia Reis Neto",
          "Ipanema Agricola S.A",
          "vary",
          "Nahun Maldonado",
          "MARGARITA AVILA DE NUYENS",
          "Doi Tung Development Project",
          "Coffeas Co., Ltd.",
          "Shah Plantations",
          "Amkeni Gourmet Coffee Group",
          "Santiago & Rosaura Arguello Campos",
          "Ipanema Coffees",
          "AGRICOLA MONTE VERDE, S.A.",
          "MARGARITA DE NUYENS",
          "VELASCO SAN AGUSTIN, NAZARIO",
          "ENRIQUE MITRE LOPEZ",
          "SUSANA LETICIA LOPEZ AGUILAR",
          "VARIOUS",
          "Nazareth Dias Pereira",
          "LA PLATA",
          "Danilo Carrillo",
          "JORGE LEAL",
          "ANGEL DE LEON",
          "JESUS RAMIREZ",
          "PLANTACIONES AGROPECUARIAS, S.A.",
          "Menglian Gao Sanlin Coffee Factory",
          "GLADNESS OBED PALLANGYO",
          "Ipanema Agrícola SA",
          "UNEX",
          "AVELINO CHAVEZ REYNA",
          "Betina Vilela Reis",
          "Ipanema Coffees",
          "MANUEL HERRERA JUAREZ",
          "EMPERATRIZ GARCIA MUÑOZ",
          "VICTOR MANUEL LOPEZ VAZQUEZ",
          "GIBRAN LEONARDO CERVANTES COVARRUBIAS",
          "MANUEL HERRERA JUAREZ",
          "DARIO FRANCISCO GALEANA SOLIS",
          "JOSE DANIEL COBILT CASTRO",
          "ALVARO QUIROS PEREZ, MIGUEL QUIROZ PEREZ",
          "OLIVIA HERNANDEZ VIRVES",
          "ROBIN CLEAVER",
          "JAIME PULIDO / ALBINO MAHECHA / FREDDY MENDEZ",
          "Glycia Maria",
          "Reinerio Zepeda",
          "Tulio Taft Bovaretto",
          "Ipanema Agricola",
          "Martin Gutierrez",
          "Johanna",
          "Yun Lan Coffee Co. Ltd",
          "Ipanema Agrícola SA",
          "AMANCIO DEL VALLE CARRILLO",
          "Mzuzu Coffee Planters Coop Union",
          "Ipanema Agrícola SA",
          "ROBERTO MONTERROSO",
          "Huatusco",
          "SEVERAL",
          "Zhang shui sheng 張水勝",
          "Lin yu ding 林玉定",
          "ROBERTO MONTERROSO",
          "AGROINDUSTRIAS UNIDAS DE MEXICO SA DE CV",
          "CAFE MOLINO MONTERROSO P,J. ROBERTO",
          "SALAZAR HERNANDEZ, ROBERTO",
          "MANUEL HERRERA JUAREZ",
          "AGROPECUARIA QUIAGRAL",
          "José Malagutti",
          "MARIA LUISA DELCARMEN ROJAS NARVAEZ",
          "José Alberto dos Santos",
          "JAIME PULIDO / ERMILSON RAMOS",
          "NAGIPE VIANA KLEM",
          "林玲美0918232039        ",
          "PABLO CHUY",
          "Ipanema Agrícola SA",
          "Tropical Farm Management El Salvador, S.A. de C.V.",
          "Omar Acosta",
          "Mzuzu Coffee Coop Union",
          "Ipanema Agrícola SA",
          "Lin yu tang 林玉堂",
          "MARIA DEL ROSARIO IRAIS VALDIVIA ORTIZ",
          "FELIX DE LA CRUZ CASIMIRO",
          "SIEMBRAS VISION, S.A.",
          "MANUEL HERRERA JUAREZ",
          "GUILLERMO ROJAS SALDAÑA",
          "SERGIO DE LA VEQUIA BERNARDI",
          "COOP",
          "La Plata",
          "Carmem Lucia Chaves de Brito",
          "Ipanema Agricola",
          "Nahun Maldonado",
          "MARCIO ALBERTO RIVERA CASTELLON",
          "Langiro farm group",
          "Ipanema Agrícola SA",
          "Doi Tung Development Project",
          "Omar Acosta",
          "Tembo Coffee Company Ltd",
          "JOSÉ LUIS ANDRADE SANDARA",
          "Union Ramal Santa Cruz",
          "Guo Zhang Sheng 郭章盛",
          "Jufeng-Tseng 曾如楓",
          "AVILA MARTINEZ ADOLFO",
          "Several producers",
          "SALVADOR CARO CARRION",
          "OSCAR TORRES OCHOCA, GENARO MATA CAMBEROS, MANUEL DUARTE MUNGUIA",
          "Various Farms",
          "Ipanema Agricola",
          "Ipanema Agrícola SA",
          "JOSE FRANCISCO GONZALEZ",
          "AMPCG",
          "Ngorogoro Convenant Estate",
          "Cafetalera Aquiares",
          "GIBRAN LEONARDO CERVANTES COVARRUBIAS",
          "ISMAM SAN ISIDRO LABRADOR S. DE S.S.",
          "ROSA AURORA FALCON FERNANDEZ",
          "Apollo Co., LTd.",
          "RAMIRO DE LA VEQUIA BERNARDI",
          "Carlos Pechene / Jesús Pechene / Flor Chacón",
          "Santos Fonseca",
          "Santos Fonseca",
          "Ipanema Agricola",
          "Mr & Mrs Didas Mallya",
          "HanYong Choi",
          "Finca Estate",
          "Mzuzu Coffee Coop Union",
          "Chen Jin Lin 陳金璘",
          "Doi Tung Development Project",
          "VARIOS",
          "BSR",
          "Lin Huang, A-Mien 黃阿綿",
          "Café do Paraíso",
          "JORGE OCTAVIO ESCAMILLA PRADO",
          "Vander Bonaccorsi",
          "José Hiroiti",
          "PAUL STAUDER",
          "Maria da Gloria Junqueira",
          "Conquista/Morito",
          "Grupo Monserrate, La Plata",
          "AGRICOLA EL PILAR, S.A.",
          "OTTO BECKER",
          "Reinerio Zepeda",
          "Múcio Cardoso",
          "Comercial Exportadora, S.A. de C.V.",
          "OVIDIO CARDONA",
          "Mcomafa",
          "Chen gui jiao 陳桂嬌",
          "VARIOS PRODUCTORES",
          "PONCE RUBIO, VENANCIO",
          "FRANCISCO SAENZ, FERNANDO",
          "JUAN HERMILIO SAMPIERI CARCAMO",
          "MODESTO LANDEROS FLORES",
          "Fioravante Malagutti",
          "Exportadora de Café Cóndor S.A",
          "JESUS RAMIREZ",
          "Manuel Montero",
          "Helena Pingnatti Ricci",
          "MUDAR",
          "CHAPULTEPEC",
          "Ipanema Agrícola SA",
          "Ipanema Agrícola SA",
          "U Mg Mg",
          "MARTINIANO A. MORENO ALVARADO",
          "JOSE OMAR ACOSTA",
          "JOSE FRANCISCO GONZALEZ",
          "LIN SIN JI 林信吉",
          "Mzuzu Coffee Coop Union",
          "Ipanema Agrícola SA",
          "Tomás Sosa, Juan Damaso",
          "various small producers",
          "LA PLATA",
          "NAZARETH DIAS PEREIRA",
          "LUIS RODRIGUEZ",
          "MARIA MAGDALENA LUETHJE Y GRIS",
          "JORGE FRANCISCO MARTINEZ HACHITY",
          "Marilsa de Fatima Peternela",
          "ANGEL DE LEON",
          "Richard Yeh",
          "Ngorogoro Convenant Estate",
          "PEREZ LEMUS, FELIX",
          "SERGIO LANDA ALARCON",
          "CENEN TORRES CORTES, AVELINO TORES CORTES, JUAN VENTURA GUZMAN",
          "ARMANDO LUIS POHLENZ MARTINEZ",
          "GRACIELA AGUILAR PERALTA",
          "La Plata",
          "Ipanema Agricola S.A",
          "ANGEL DE LEON",
          "JESUS RAMIREZ",
          "JOSE OMAR ACOSTA",
          "Ngima Amcos",
          "Rolando Lacayo Cardenal",
          "Ipanema Agrícola SA",
          "DAE Ltd",
          "Tembo Coffee Company Ltd",
          "Ipanema Agrícola SA",
          "Tomás Sosa, Juan Damaso",
          "Martin Gutierrez",
          "Huatusco",
          "Zhang ming fu 張明福",
          "Wu cai jin 吳蔡錦",
          "UNION RAMAL SANTA CRUZ",
          "CAFE MOLINO MONTERROSO P,J. ROBERTO",
          "PRODUCTORA AGRICOLA Y GANADERA FINCA LA SUIZA",
          "MAYA BINIK",
          "CESAR SANTIZ LOPEZ",
          "OCTAVIO MOGUEL FARRERA",
          "ARMANDO GUTIEREZ GUZMÁN",
          "Cafes Finos de Corquin",
          "AGRICOLA EL PILAR, SA.",
          "蘇晉寬 Su Jin Kuan",
          "Cafetalera Aquiares",
          "Acacia Hills Ltd",
          "Mzuzu Coffee Coop Union",
          "CHIU WEI LUN 邱偉倫",
          "Ipanema Coffees",
          "ROBERTO MONTERROSO",
          "UNION RAMAL SANTA CRUZ",
          "LUIS ANTONIO LOPEZ AGUILAR",
          "ENRIQUE EDUARDO LOPEZ AGUILAR",
          "Doi Chaang Community Enterprise Piko",
          "CoopeTarrazu",
          "OTTO BECKER",
          "Teófilo Narváez :",
          "NAHUN MALDONADO",
          "AGRICOLA MONTE VERDE",
          "劉易騰",
          "Genius Coffee Estate",
          "Beneficio la Eva S.A.",
          "Mzuzu Coffee Coop Union        ",
          "VARIOS",
          "HUANG MEI TAO 黃美桃        ",
          "MARIA ROGERIA COSTA PEREIRA",
          "Mixed",
          "Xu yuan zhang 徐源漳",
          "AGROINDUSTRIAS UNIDAS DE MEXICO SA DE CV",
          "JORGE HERNANDEZ MONTEJO",
          "ZENOBIO MARTINEZ CANO",
          "MANUEL DUARTE MUNGUIA",
          "TOMAS EDELMANN BLASS",
          "MARIA DE LA PAZ AGUILAR GUILLEN",
          "PT. Perkebunan Nusantara XII",
          "Nazareth Dias Pereira",
          "CHIQUIMULJA / ALPHA CAFE / SENFRO",
          "Cafes tomari sa de cv",
          "AGRICOLA NUEVA GRANADA, S.A.",
          "INACIO URBAN",
          "Jose Omar Acosta",
          "謝文品",
          "Mzuzu Coffee Coop Union",
          "Ipanema Agrícola SA",
          "PACHUJ, S. A.",
          "various small producers",
          "OTTO BECKER",
          "MARTINEZ BAUTISTA, NICOLAS",
          "MARIA DE LOUDES ANCIRA ELIZONDO",
          "Exportadora de cafe condor s.a",
          "La Plata",
          "Nahun Maldonado",
          "Juan Hermilo Sampieri",
          "NELSON AZEVEDO FRANÇA",
          "Jose Omar Acosta",
          "NAZARETH DIAS PEREIRA",
          "COFFEE FOR PEACE,INC.",
          "Mzuzu Coffee Coop Union",
          "Nelson Melgar Melgar",
          "ISMAM SAN ISIDRO LABRADOR S. DE S.S.",
          "HECTOR GABRIEL BARREDA NADER",
          "NAGIPE VIANA KLEM       ",
          "Hu Guei Jing 胡桂青",
          "Ipanema Agrícola SA",
          "Rolando Lacayo",
          "JOSE OMAR ACOSTA",
          "El Injerto S.A.",
          "Shangrilla Estate",
          "Liu ying wu 劉穎悟",
          "SIEMBRAS VISION, S.A.",
          "FRANCISCO J. CONTRERAS MARTINEZ DE ESCOBAR",
          "GONZALO CASTILLO",
          "Immaculata John",
          "Exportadora Café California",
          "JOSE FRANCISCO GONZALEZ",
          "Reinerio Zepeda",
          "Coffeas Co., Ltd.",
          "COFFEE FOR PEACE,INC.",
          "Taylor Winch (T) ltd",
          "R.W.J. Wallace Ltd",
          "VARIOS",
          "JOSE RENATO BAIARDI",
          "ISMAM SAN ISIDRO LABRADOR S. DE S.S.",
          "Finca Quequesquez",
          "Bruno de Andrade Frota",
          "Kerchanshe trading plc",
          "José Olavo Boechat",
          "ROLANDO LACAYO",
          "JuanAna Coffee Association",
          "Taylor Winch (T) ltd",
          "Several",
          "Hacienda Alto Grande",
          "MEDINA PEDRERO PRODUCTOS AGRÍCOLAS SA DE CV",
          "DIEGO MANUEL WOOLRICH RAMIREZ, ALFREDO FERNANDO WOOLRICH RAMIREZ",
          "ETMAR DIDIER ROBLERO LOPEZ",
          "BALBINO RAMIREZ FLORES",
          "GABRIEL CARVALHO DIAS",
          "Balcanes Coffee Estates, S.A. de C.V.",
          "GABRIEL DE CARVALHO DIAS",
          "CHAPULTEPEC",
          "AMILCAR LAPOLA",
          "HU KUEI CHING 胡桂青",
          "NELSON MELGAR & REGINO MELGAL",
          "Mlimani Ngarashi",
          "Kyagalanyi coffee Ltd",
          "Zhou hong xiu 周紅秀",
          "Doi Tung Development Project",
          "MARTHA PALACIOS",
          "COOP",
          "蕭閔家",
          "AGRICOLA EL PILAR, S.A.",
          "thiririka/Thima",
          "Jose Oscar Garza Sardaneta",
          "Min Hlaing",
          "Karatu Estate",
          "NAZARETH DIAS PEREIRA",
          "張文進",
          "Ipanema Agrícola SA",
          "ROBERTO MONTERROSO",
          "Lu bi yun呂碧云",
          "Ding jin cai 丁金財",
          "Lu xing hui 呂星輝",
          "EDUARDO LUIS AUGUSTO VELAZQUEZ SOLIS",
          "Doi Tung Development Project",
          "Paksong,Laos",
          "several",
          "DOMINGO MUGUIRA REVUELTA",
          "JUAN JOSE CASAS BLANCO",
          "MOISES GUILLERMO CARRERA MONTES",
          "Exportadora de Café Cóndor S.A",
          "DIOGO TUDELA NETO",
          "U Soe",
          "OTTONIEL VILLATORO LOPEZ",
          "ROLANDO LACAYO",
          "La Gran Manzana",
          "Lamastus",
          "Jose Omar Acosta",
          "Reinerio Zepeda",
          "SEVERAL",
          "JOSE RIOS LARA, APOLONIA FRANCO TORRES, JENARO GONZALES MENDOZA",
          "COOPAIMAR Copperative Agro Industriel de Marmelade",
          "唐權盛",
          "Surbakti",
          "FINCA MEDINA",
          "Martin Gutierrez",
          "R.W.J. Wallace Ltd",
          "BALBINO RAMIREZ FLORES",
          "PACHUJ, S.A",
          "CHIQUIMULJA / ALPHA CAFE / SENFRO",
          "CHIQUIMULJA / ALPHA CAFE / SENFRO",
          "MAX KEND TAKIUTI E OUTROS",
          "ADONIS JOSE ORTEZ BELTRAN",
          "Burka Coffee Estates",
          "Ipanema Agrícola SA",
          "BSR",
          "BYRON ALONZO SOLIS",
          "王秋金",
          "EDWIN MUÑOZ",
          "Jorge Alfredo Pinto",
          "Case Noyale Ltd",
          "Lindolpho de Carvalho Dias",
          "Shwe Yin Mar",
          "VARIOS",
          "MARIA ROGERIA COSTA PEREIRA",
          "IDMAR DE JESUS VELASQUEZ CALDERON",
          "HERAS HERNANDEZ GAUDENCIO",
          "Jose Omar Acosta",
          "曾林春英",
          "Luis, Rafael and Carmen Silva Hoff",
          "Alicia's Farm",
          "Huang san lang 黃三郎        ",
          "CARLOS ALBERTO GOMEZ",
          "ARMANDO LUIS POHLENZ MARTINEZ",
          "SOGESTAL MUMIRWA",
          "Delfina Leon Shine",
          "Kongoni Estate",
          "Wu yi ting 吳伊婷",
          "AGRIPEC DE LA VEGA Y CIA.",
          "ARMANDO GUTIERREZ GUZMAN",
          "Exporter Name | Muluneh Kaka | Phone: 0114390290",
          "Luiz Augusto Pereira Moguilod",
          "Yamilet Lope",
          "Balbino Ramirez Flores",
          "Waylead Co, Ltd",
          "U Htun Htun",
          "GLORIA ANTONIETA ESCOBAR URRUTIA",
          "Weng hui ling 翁惠鈴",
          "UNEX",
          "HERNANDEZ PACHECO, TIMOTEO",
          "Yeh, Li Chuan",
          "Sheldom La rue",
          "Jose Omar Acosta",
          "ROBERTO MONTERROSO",
          "PABLO ENRIQUE MARTINEZ GAMA",
          "CIRILO JOSE JOSE",
          "MARCO VIRGILIO RAMIREZ TELIZ",
          "AGROPECUARIA QUIAGRAL",
          "簡義榮",
          "Du zheng ru 杜政儒",
          "Zheng zhao ming 鄭昭明",
          "Wu kun shan 吳焜山",
          "ALBERTA TEODORO ANALCO",
          "FEDERICO PACHECO PEREZ",
          "RONALDO LACAYO CARDENAL",
          "Ngu Shwe Li Coffee Estate",
          "various small producers",
          "Zhang xian tong 張献銅",
          "Doi Tung Development Project",
          "PABLO ENRIQUE MARTINEZ GAMA",
          "SEMIRAMIS CASAS VELAZQUEZ",
          "Contact name | ATO Teshome Belamo",
          "VARIOS PRODUCTORES",
          "MARTHA PALACIOS",
          "DELMAR MORENO GUILLEN",
          "MARIA ELENA TERESA FERNANDEZ CEJA",
          "PABLO ENRIQUE MARTINEZ GAMA",
          "MARIA DEL ROSARIO IRAIS VALDIVIA ORTIZ",
          "YARA / BENVAR",
          "JORGE LEAL",
          "Asociación Aldea Global Jinotega",
          "CIRO DE LA VEQUIA CESSA",
          "AGRICOLA EL PILAR, S.A.",
          "Wei-Chieh ( Jack ) Hua",
          "LIN REN FU 林人富",
          "Doi Tung Development Project",
          "Coopeagri",
          "UNION RAMAL SANTA CRUZ",
          "COMONYAJ NOPTIC S DE SS",
          "VARIOS PRODUCTORES",
          "MINERVA ZUÑIGA GARCIA",
          "ANGEL GONZALES",
          "Jorge Bolanos",
          "ALFREDO MOISES CEJA",
          "JESUS RAMIREZ",
          "Sociedad Cooperativa de Cafetaleros de Ciudad Barrios de R.L.",
          "Doi Tung Development Project",
          "AGRIPEC DE LA VEGA Y CIA.",
          "UNION RAMAL SANTA CRUZ",
          "GOMEZ GRANILLO, VERONICO",
          "CECILIA AVILA CAMBEROS",
          "Doi Tung Development Project",
          "ROGELIO JACOME MORALES",
          "ARMANDO LUIS POHLENZ MARTINEZ",
          "Federico Weller",
          "Cooperativa de Servicio Múltiples el Gorrión R.L",
          "張素真",
          "ARMANDO LUIS POHLENZ MARTINEZ",
          "MARIA DE LA LUZ SANCHEZ TODD",
          "AMILCAR LAPOLA",
          "VARIOS",
          "ADRIANA TORRES RICO QUEVEDO",
          "CNRA",
          "Spot",
          "ERIC JESUS CORDOBA ARROYO",
          "ANTONIO CORDOBA MURILLO",
          "Conquista/ Morito",
          "WU SHU YI 巫叔憶",
          "MARCO VIRGILIO RAMIREZ TELIZ",
          "OTTO BECKER",
          "Jorge Alfredo Pinto",
          "CHAPULTEPEC",
          "OVIDIO CARDONA",
          "HILARIO GARCÍA SANDOVAL",
          "SOCIEADAD COOPERATIVA INDUSTRIAL CAFES YAJALON S. C. L.",
          "Various smallholders",
          "ANGEL DE LEON",
          "Hacienda Alto Grande",
          "GUADALUPE HERAS HERNANDEZ",
          "JUANA RODRIGUEZ GUTIERREZ",
          "BALBINO RAMIREZ FLORES",
          "Varios",
          "Cooperativa Coaquil",
          "Frontera",
          "GONZALO DE AQUINO FLORES",
          "JUAN CRUZ RIAÑO",
          "JUAN AVENAMAR RODRIGUEZ FUNEZ",
          "AGROINDUSTRIAS UNIDAS DE MEXICO SA DE CV",
          "LUISA ZUÑIGA GARCÍA",
          "Teófilo Narváez",
          "AGRIPEC DE LA VEGA Y CIA.",
          "JOSE VAZQUEZ CANTON, JOSE ANTONIO JIMENEZ GONZALEZ, IRENEO GARCIA VALDIVIA",
          "DAMASO MARTINEZ PEREZ",
          "PEDRO HERRERA GUZMAN, AURELIO GABRIEL HERNANDEZ ,MARIA DE LOURDES DERISTAIN TRESS",
          "Yunnan Louis Herbs R&D Center",
          "JUAN GARCIA HERNANDEZ",
          "ADONIS JOSE ORTEZ BELTRAN",
          "VARIOS",
          "GUO JIUN HUNG 郭俊宏 & TSENG RU FENG 曾如楓",
          "EPIFANIO GARCIA DE MIGUEL",
          "J. CARMEN GUZMAN CONCEPCION, IGNACIO RAMIREZ BARAJAS, DIONICIO GARCIA RAMIREZ",
          "Various small producers",
          "REYNALDO OLIVERA RIOS",
          "FRANCISCO RUIZ NUÑEZ",
          "Manoel Cardoso and Galileo Cardoso",
          "LAMBERTO JOSÉ GARCÍA",
          "VARIOS",
          "LUIS RODRIGUEZ",
          "PABLO CERVANTES MORELOS        ",
          "Conquista/ Morito",
          "vary farms",
          "CONSUELO GONZALEZ GOMEZ",
          "林俊吉( Lin, Chun-Chi)",
          "Cooperativa Coaquil",
          "VARIOS",
          "GreenHouse Coffee",
          "AGRICOLA MONTE VERDE, S.A.",
          "MARIO GARCÍA",
          "Beneficio la Eva S.A.",
          "GUSTAVO ABARCA SOLIS",
          "Conquista/ Morito",
          "MARCIO ALBERTO RIVERA CASTELLON",
          "LUIS RODRIGUEZ",
          "Chen Shuei Lian 陳水連",
          "RUBRIA OCHOA BELLO",
          "MARGARITA DE NUYENS Y/O CARLOS NUYENS",
          "Ipanema Agricola S.A",
          "VARIOS",
          "AQUILINO GARCÍA RIAÑO",
          "Mixed",
          "Kona Pacific Farmers Cooperative",
          "ALEJANDRO GARCÍA PALACIOS",
          "Sol y Cafe",
          "Aspinwall & CO. LTD",
          "Various smallholders",
          "Conquista/Morito",
          "CASTULO GUTIERREZ",
          "AGROPECUARIA QUIAGRAL",
          "Conquista/Morito",
          "Kona Pacific Farmers Cooperative",
          "ISIDORA HERAS HERNANDEZ",
          "1",
          "GUILLERMO EDUARDO BOBADILLA MUGUIRA",
          "Cooperativa Coaquil",
          "various smallholders",
          "AGROPECUARIA QUIAGRAL",
          "Conquista / Morito",
          "JUANA RODRIGUEZ GUTIERREZ",
          "SPOSEL S. DE S.S.",
          "SURAYA MAGDALENA LOTFE CALDERON",
          "MARTÍN JIMENEZ CASIANO, PAULINA CERQUEDA ALVAREZ, JULIO MARTINEZ TERAN",
          "MIGUEL LOPEZ TIRZO",
          "GEREMIAS RIAÑO LOPEZ",
          "PABLO ENRIQUE MARTINEZ GAMA",
          "Conquista / Morito",
          "Conquista/Morito",
          "CESMACH (VARIOS)",
          "AGRIPEC DE LA VEGA Y CIA.",
          "JORGE OCTAVIO ESCAMILLA PRADO",
          "MYRNA ROXANA GÁLVEZ GONZÁLEZ",
          "EUGENE HOLMAN PEW",
          "Cooperativa Coaquil",
          "various small producers",
          "Asosyasyon Plantè Kafe Krètapen (APCAP) ;Asosyasyon plantè Kafe Basen (APKBA);Asosyasyon Plantè Kafe",
          "Beneficio la Eva S.A.",
          "JOSÉ ARMANDO NORBERTO BORZANI LEMINI",
          "RICARDO AARON SAMPIERI MARINI",
          "various small producers",
          "Omar Acosta",
          "Omar Acosta",
          "Omar Acosta",
          "JUAN CARLOS GARCÍA LOPEZ",
          "COEB Koperativ Ekselsyo Basen",
          "Teófilo Narváez",
          "WILLIAM ESTUARDO MARTINEZ PACHECO",
          "Reinerio Zepeda"
         ],
         "xaxis": "x",
         "yaxis": "y"
        }
       ],
       "layout": {
        "barmode": "relative",
        "legend": {
         "tracegroupgap": 0
        },
        "margin": {
         "t": 60
        },
        "template": {
         "data": {
          "bar": [
           {
            "error_x": {
             "color": "#2a3f5f"
            },
            "error_y": {
             "color": "#2a3f5f"
            },
            "marker": {
             "line": {
              "color": "#E5ECF6",
              "width": 0.5
             },
             "pattern": {
              "fillmode": "overlay",
              "size": 10,
              "solidity": 0.2
             }
            },
            "type": "bar"
           }
          ],
          "barpolar": [
           {
            "marker": {
             "line": {
              "color": "#E5ECF6",
              "width": 0.5
             },
             "pattern": {
              "fillmode": "overlay",
              "size": 10,
              "solidity": 0.2
             }
            },
            "type": "barpolar"
           }
          ],
          "carpet": [
           {
            "aaxis": {
             "endlinecolor": "#2a3f5f",
             "gridcolor": "white",
             "linecolor": "white",
             "minorgridcolor": "white",
             "startlinecolor": "#2a3f5f"
            },
            "baxis": {
             "endlinecolor": "#2a3f5f",
             "gridcolor": "white",
             "linecolor": "white",
             "minorgridcolor": "white",
             "startlinecolor": "#2a3f5f"
            },
            "type": "carpet"
           }
          ],
          "choropleth": [
           {
            "colorbar": {
             "outlinewidth": 0,
             "ticks": ""
            },
            "type": "choropleth"
           }
          ],
          "contour": [
           {
            "colorbar": {
             "outlinewidth": 0,
             "ticks": ""
            },
            "colorscale": [
             [
              0,
              "#0d0887"
             ],
             [
              0.1111111111111111,
              "#46039f"
             ],
             [
              0.2222222222222222,
              "#7201a8"
             ],
             [
              0.3333333333333333,
              "#9c179e"
             ],
             [
              0.4444444444444444,
              "#bd3786"
             ],
             [
              0.5555555555555556,
              "#d8576b"
             ],
             [
              0.6666666666666666,
              "#ed7953"
             ],
             [
              0.7777777777777778,
              "#fb9f3a"
             ],
             [
              0.8888888888888888,
              "#fdca26"
             ],
             [
              1,
              "#f0f921"
             ]
            ],
            "type": "contour"
           }
          ],
          "contourcarpet": [
           {
            "colorbar": {
             "outlinewidth": 0,
             "ticks": ""
            },
            "type": "contourcarpet"
           }
          ],
          "heatmap": [
           {
            "colorbar": {
             "outlinewidth": 0,
             "ticks": ""
            },
            "colorscale": [
             [
              0,
              "#0d0887"
             ],
             [
              0.1111111111111111,
              "#46039f"
             ],
             [
              0.2222222222222222,
              "#7201a8"
             ],
             [
              0.3333333333333333,
              "#9c179e"
             ],
             [
              0.4444444444444444,
              "#bd3786"
             ],
             [
              0.5555555555555556,
              "#d8576b"
             ],
             [
              0.6666666666666666,
              "#ed7953"
             ],
             [
              0.7777777777777778,
              "#fb9f3a"
             ],
             [
              0.8888888888888888,
              "#fdca26"
             ],
             [
              1,
              "#f0f921"
             ]
            ],
            "type": "heatmap"
           }
          ],
          "heatmapgl": [
           {
            "colorbar": {
             "outlinewidth": 0,
             "ticks": ""
            },
            "colorscale": [
             [
              0,
              "#0d0887"
             ],
             [
              0.1111111111111111,
              "#46039f"
             ],
             [
              0.2222222222222222,
              "#7201a8"
             ],
             [
              0.3333333333333333,
              "#9c179e"
             ],
             [
              0.4444444444444444,
              "#bd3786"
             ],
             [
              0.5555555555555556,
              "#d8576b"
             ],
             [
              0.6666666666666666,
              "#ed7953"
             ],
             [
              0.7777777777777778,
              "#fb9f3a"
             ],
             [
              0.8888888888888888,
              "#fdca26"
             ],
             [
              1,
              "#f0f921"
             ]
            ],
            "type": "heatmapgl"
           }
          ],
          "histogram": [
           {
            "marker": {
             "pattern": {
              "fillmode": "overlay",
              "size": 10,
              "solidity": 0.2
             }
            },
            "type": "histogram"
           }
          ],
          "histogram2d": [
           {
            "colorbar": {
             "outlinewidth": 0,
             "ticks": ""
            },
            "colorscale": [
             [
              0,
              "#0d0887"
             ],
             [
              0.1111111111111111,
              "#46039f"
             ],
             [
              0.2222222222222222,
              "#7201a8"
             ],
             [
              0.3333333333333333,
              "#9c179e"
             ],
             [
              0.4444444444444444,
              "#bd3786"
             ],
             [
              0.5555555555555556,
              "#d8576b"
             ],
             [
              0.6666666666666666,
              "#ed7953"
             ],
             [
              0.7777777777777778,
              "#fb9f3a"
             ],
             [
              0.8888888888888888,
              "#fdca26"
             ],
             [
              1,
              "#f0f921"
             ]
            ],
            "type": "histogram2d"
           }
          ],
          "histogram2dcontour": [
           {
            "colorbar": {
             "outlinewidth": 0,
             "ticks": ""
            },
            "colorscale": [
             [
              0,
              "#0d0887"
             ],
             [
              0.1111111111111111,
              "#46039f"
             ],
             [
              0.2222222222222222,
              "#7201a8"
             ],
             [
              0.3333333333333333,
              "#9c179e"
             ],
             [
              0.4444444444444444,
              "#bd3786"
             ],
             [
              0.5555555555555556,
              "#d8576b"
             ],
             [
              0.6666666666666666,
              "#ed7953"
             ],
             [
              0.7777777777777778,
              "#fb9f3a"
             ],
             [
              0.8888888888888888,
              "#fdca26"
             ],
             [
              1,
              "#f0f921"
             ]
            ],
            "type": "histogram2dcontour"
           }
          ],
          "mesh3d": [
           {
            "colorbar": {
             "outlinewidth": 0,
             "ticks": ""
            },
            "type": "mesh3d"
           }
          ],
          "parcoords": [
           {
            "line": {
             "colorbar": {
              "outlinewidth": 0,
              "ticks": ""
             }
            },
            "type": "parcoords"
           }
          ],
          "pie": [
           {
            "automargin": true,
            "type": "pie"
           }
          ],
          "scatter": [
           {
            "marker": {
             "colorbar": {
              "outlinewidth": 0,
              "ticks": ""
             }
            },
            "type": "scatter"
           }
          ],
          "scatter3d": [
           {
            "line": {
             "colorbar": {
              "outlinewidth": 0,
              "ticks": ""
             }
            },
            "marker": {
             "colorbar": {
              "outlinewidth": 0,
              "ticks": ""
             }
            },
            "type": "scatter3d"
           }
          ],
          "scattercarpet": [
           {
            "marker": {
             "colorbar": {
              "outlinewidth": 0,
              "ticks": ""
             }
            },
            "type": "scattercarpet"
           }
          ],
          "scattergeo": [
           {
            "marker": {
             "colorbar": {
              "outlinewidth": 0,
              "ticks": ""
             }
            },
            "type": "scattergeo"
           }
          ],
          "scattergl": [
           {
            "marker": {
             "colorbar": {
              "outlinewidth": 0,
              "ticks": ""
             }
            },
            "type": "scattergl"
           }
          ],
          "scattermapbox": [
           {
            "marker": {
             "colorbar": {
              "outlinewidth": 0,
              "ticks": ""
             }
            },
            "type": "scattermapbox"
           }
          ],
          "scatterpolar": [
           {
            "marker": {
             "colorbar": {
              "outlinewidth": 0,
              "ticks": ""
             }
            },
            "type": "scatterpolar"
           }
          ],
          "scatterpolargl": [
           {
            "marker": {
             "colorbar": {
              "outlinewidth": 0,
              "ticks": ""
             }
            },
            "type": "scatterpolargl"
           }
          ],
          "scatterternary": [
           {
            "marker": {
             "colorbar": {
              "outlinewidth": 0,
              "ticks": ""
             }
            },
            "type": "scatterternary"
           }
          ],
          "surface": [
           {
            "colorbar": {
             "outlinewidth": 0,
             "ticks": ""
            },
            "colorscale": [
             [
              0,
              "#0d0887"
             ],
             [
              0.1111111111111111,
              "#46039f"
             ],
             [
              0.2222222222222222,
              "#7201a8"
             ],
             [
              0.3333333333333333,
              "#9c179e"
             ],
             [
              0.4444444444444444,
              "#bd3786"
             ],
             [
              0.5555555555555556,
              "#d8576b"
             ],
             [
              0.6666666666666666,
              "#ed7953"
             ],
             [
              0.7777777777777778,
              "#fb9f3a"
             ],
             [
              0.8888888888888888,
              "#fdca26"
             ],
             [
              1,
              "#f0f921"
             ]
            ],
            "type": "surface"
           }
          ],
          "table": [
           {
            "cells": {
             "fill": {
              "color": "#EBF0F8"
             },
             "line": {
              "color": "white"
             }
            },
            "header": {
             "fill": {
              "color": "#C8D4E3"
             },
             "line": {
              "color": "white"
             }
            },
            "type": "table"
           }
          ]
         },
         "layout": {
          "annotationdefaults": {
           "arrowcolor": "#2a3f5f",
           "arrowhead": 0,
           "arrowwidth": 1
          },
          "autotypenumbers": "strict",
          "coloraxis": {
           "colorbar": {
            "outlinewidth": 0,
            "ticks": ""
           }
          },
          "colorscale": {
           "diverging": [
            [
             0,
             "#8e0152"
            ],
            [
             0.1,
             "#c51b7d"
            ],
            [
             0.2,
             "#de77ae"
            ],
            [
             0.3,
             "#f1b6da"
            ],
            [
             0.4,
             "#fde0ef"
            ],
            [
             0.5,
             "#f7f7f7"
            ],
            [
             0.6,
             "#e6f5d0"
            ],
            [
             0.7,
             "#b8e186"
            ],
            [
             0.8,
             "#7fbc41"
            ],
            [
             0.9,
             "#4d9221"
            ],
            [
             1,
             "#276419"
            ]
           ],
           "sequential": [
            [
             0,
             "#0d0887"
            ],
            [
             0.1111111111111111,
             "#46039f"
            ],
            [
             0.2222222222222222,
             "#7201a8"
            ],
            [
             0.3333333333333333,
             "#9c179e"
            ],
            [
             0.4444444444444444,
             "#bd3786"
            ],
            [
             0.5555555555555556,
             "#d8576b"
            ],
            [
             0.6666666666666666,
             "#ed7953"
            ],
            [
             0.7777777777777778,
             "#fb9f3a"
            ],
            [
             0.8888888888888888,
             "#fdca26"
            ],
            [
             1,
             "#f0f921"
            ]
           ],
           "sequentialminus": [
            [
             0,
             "#0d0887"
            ],
            [
             0.1111111111111111,
             "#46039f"
            ],
            [
             0.2222222222222222,
             "#7201a8"
            ],
            [
             0.3333333333333333,
             "#9c179e"
            ],
            [
             0.4444444444444444,
             "#bd3786"
            ],
            [
             0.5555555555555556,
             "#d8576b"
            ],
            [
             0.6666666666666666,
             "#ed7953"
            ],
            [
             0.7777777777777778,
             "#fb9f3a"
            ],
            [
             0.8888888888888888,
             "#fdca26"
            ],
            [
             1,
             "#f0f921"
            ]
           ]
          },
          "colorway": [
           "#636efa",
           "#EF553B",
           "#00cc96",
           "#ab63fa",
           "#FFA15A",
           "#19d3f3",
           "#FF6692",
           "#B6E880",
           "#FF97FF",
           "#FECB52"
          ],
          "font": {
           "color": "#2a3f5f"
          },
          "geo": {
           "bgcolor": "white",
           "lakecolor": "white",
           "landcolor": "#E5ECF6",
           "showlakes": true,
           "showland": true,
           "subunitcolor": "white"
          },
          "hoverlabel": {
           "align": "left"
          },
          "hovermode": "closest",
          "mapbox": {
           "style": "light"
          },
          "paper_bgcolor": "white",
          "plot_bgcolor": "#E5ECF6",
          "polar": {
           "angularaxis": {
            "gridcolor": "white",
            "linecolor": "white",
            "ticks": ""
           },
           "bgcolor": "#E5ECF6",
           "radialaxis": {
            "gridcolor": "white",
            "linecolor": "white",
            "ticks": ""
           }
          },
          "scene": {
           "xaxis": {
            "backgroundcolor": "#E5ECF6",
            "gridcolor": "white",
            "gridwidth": 2,
            "linecolor": "white",
            "showbackground": true,
            "ticks": "",
            "zerolinecolor": "white"
           },
           "yaxis": {
            "backgroundcolor": "#E5ECF6",
            "gridcolor": "white",
            "gridwidth": 2,
            "linecolor": "white",
            "showbackground": true,
            "ticks": "",
            "zerolinecolor": "white"
           },
           "zaxis": {
            "backgroundcolor": "#E5ECF6",
            "gridcolor": "white",
            "gridwidth": 2,
            "linecolor": "white",
            "showbackground": true,
            "ticks": "",
            "zerolinecolor": "white"
           }
          },
          "shapedefaults": {
           "line": {
            "color": "#2a3f5f"
           }
          },
          "ternary": {
           "aaxis": {
            "gridcolor": "white",
            "linecolor": "white",
            "ticks": ""
           },
           "baxis": {
            "gridcolor": "white",
            "linecolor": "white",
            "ticks": ""
           },
           "bgcolor": "#E5ECF6",
           "caxis": {
            "gridcolor": "white",
            "linecolor": "white",
            "ticks": ""
           }
          },
          "title": {
           "x": 0.05
          },
          "xaxis": {
           "automargin": true,
           "gridcolor": "white",
           "linecolor": "white",
           "ticks": "",
           "title": {
            "standoff": 15
           },
           "zerolinecolor": "white",
           "zerolinewidth": 2
          },
          "yaxis": {
           "automargin": true,
           "gridcolor": "white",
           "linecolor": "white",
           "ticks": "",
           "title": {
            "standoff": 15
           },
           "zerolinecolor": "white",
           "zerolinewidth": 2
          }
         }
        },
        "xaxis": {
         "anchor": "y",
         "domain": [
          0,
          1
         ],
         "title": {
          "text": "Producer"
         }
        },
        "yaxis": {
         "anchor": "x",
         "domain": [
          0,
          1
         ],
         "title": {
          "text": "count"
         }
        }
       }
      }
     },
     "metadata": {},
     "output_type": "display_data"
    },
    {
     "data": {
      "application/vnd.plotly.v1+json": {
       "config": {
        "plotlyServerURL": "https://plot.ly"
       },
       "data": [
        {
         "alignmentgroup": "True",
         "bingroup": "x",
         "hovertemplate": "Processing Method=%{x}<br>count=%{y}<extra></extra>",
         "legendgroup": "",
         "marker": {
          "color": "#636efa",
          "pattern": {
           "shape": ""
          }
         },
         "name": "",
         "offsetgroup": "",
         "orientation": "v",
         "showlegend": false,
         "type": "histogram",
         "x": [
          "Washed / Wet",
          "Washed / Wet",
          "Natural / Dry",
          "Washed / Wet",
          "Natural / Dry",
          "Washed / Wet",
          "Natural / Dry",
          "Natural / Dry",
          "Washed / Wet",
          "Washed / Wet",
          "Washed / Wet",
          "Washed / Wet",
          "Natural / Dry",
          "Washed / Wet",
          "Washed / Wet",
          "Washed / Wet",
          "Washed / Wet",
          "Natural / Dry",
          "Natural / Dry",
          "Washed / Wet",
          "Pulped natural / honey",
          "Natural / Dry",
          "Natural / Dry",
          "Washed / Wet",
          "Natural / Dry",
          "Washed / Wet",
          "Natural / Dry",
          "Washed / Wet",
          "Washed / Wet",
          "Semi-washed / Semi-pulped",
          "Natural / Dry",
          "Semi-washed / Semi-pulped",
          "Semi-washed / Semi-pulped",
          "Washed / Wet",
          "Washed / Wet",
          "Washed / Wet",
          "Washed / Wet",
          "Natural / Dry",
          "Washed / Wet",
          "Washed / Wet",
          "Washed / Wet",
          "Washed / Wet",
          "Washed / Wet",
          "Natural / Dry",
          "Washed / Wet",
          "Washed / Wet",
          "Washed / Wet",
          "Semi-washed / Semi-pulped",
          "Natural / Dry",
          "Natural / Dry",
          "Natural / Dry",
          "Natural / Dry",
          "Washed / Wet",
          "Washed / Wet",
          "Washed / Wet",
          "Washed / Wet",
          "Natural / Dry",
          "Semi-washed / Semi-pulped",
          "Natural / Dry",
          "Natural / Dry",
          "Washed / Wet",
          "Washed / Wet",
          "Washed / Wet",
          "Washed / Wet",
          "Washed / Wet",
          "Natural / Dry",
          "Semi-washed / Semi-pulped",
          "Washed / Wet",
          "Natural / Dry",
          "Natural / Dry",
          "Natural / Dry",
          "Natural / Dry",
          "Natural / Dry",
          "Washed / Wet",
          "Washed / Wet",
          "Washed / Wet",
          "Washed / Wet",
          "Washed / Wet",
          "Washed / Wet",
          "Natural / Dry",
          "Washed / Wet",
          "Washed / Wet",
          "Semi-washed / Semi-pulped",
          "Washed / Wet",
          "Washed / Wet",
          "Semi-washed / Semi-pulped",
          "Natural / Dry",
          "Natural / Dry",
          "Natural / Dry",
          "Natural / Dry",
          "Natural / Dry",
          "Pulped natural / honey",
          "Washed / Wet",
          "Washed / Wet",
          "Washed / Wet",
          "Washed / Wet",
          "Pulped natural / honey",
          "Washed / Wet",
          "Washed / Wet",
          "Washed / Wet",
          "Washed / Wet",
          "Other",
          "Washed / Wet",
          "Washed / Wet",
          "Washed / Wet",
          "Washed / Wet",
          "Washed / Wet",
          "Washed / Wet",
          "Washed / Wet",
          "Washed / Wet",
          "Washed / Wet",
          "Washed / Wet",
          "Washed / Wet",
          "Washed / Wet",
          "Washed / Wet",
          "Washed / Wet",
          "Washed / Wet",
          "Washed / Wet",
          "Washed / Wet",
          "Washed / Wet",
          "Washed / Wet",
          "Semi-washed / Semi-pulped",
          "Washed / Wet",
          "Semi-washed / Semi-pulped",
          "Semi-washed / Semi-pulped",
          "Washed / Wet",
          "Washed / Wet",
          "Washed / Wet",
          "Washed / Wet",
          "Washed / Wet",
          "Washed / Wet",
          "Washed / Wet",
          "Washed / Wet",
          "Washed / Wet",
          "Washed / Wet",
          "Washed / Wet",
          "Washed / Wet",
          "Other",
          "Natural / Dry",
          "Washed / Wet",
          "Washed / Wet",
          "Natural / Dry",
          "Washed / Wet",
          "Washed / Wet",
          "Washed / Wet",
          "Washed / Wet",
          "Natural / Dry",
          "Washed / Wet",
          "Washed / Wet",
          "Washed / Wet",
          "Natural / Dry",
          "Natural / Dry",
          "Washed / Wet",
          "Washed / Wet",
          "Natural / Dry",
          "Washed / Wet",
          "Washed / Wet",
          "Washed / Wet",
          "Natural / Dry",
          "Washed / Wet",
          "Washed / Wet",
          "Other",
          "Washed / Wet",
          "Natural / Dry",
          "Semi-washed / Semi-pulped",
          "Washed / Wet",
          "Washed / Wet",
          "Natural / Dry",
          "Washed / Wet",
          "Washed / Wet",
          "Washed / Wet",
          "Washed / Wet",
          "Washed / Wet",
          "Washed / Wet",
          "Washed / Wet",
          "Natural / Dry",
          "Natural / Dry",
          "Washed / Wet",
          "Natural / Dry",
          "Washed / Wet",
          "Washed / Wet",
          "Washed / Wet",
          "Washed / Wet",
          "Natural / Dry",
          "Washed / Wet",
          "Natural / Dry",
          "Washed / Wet",
          "Natural / Dry",
          "Washed / Wet",
          "Natural / Dry",
          "Washed / Wet",
          "Washed / Wet",
          "Washed / Wet",
          "Washed / Wet",
          "Washed / Wet",
          "Natural / Dry",
          "Washed / Wet",
          "Natural / Dry",
          "Washed / Wet",
          "Natural / Dry",
          "Washed / Wet",
          "Washed / Wet",
          "Washed / Wet",
          "Natural / Dry",
          "Other",
          "Washed / Wet",
          "Natural / Dry",
          "Washed / Wet",
          "Natural / Dry",
          "Natural / Dry",
          "Washed / Wet",
          "Washed / Wet",
          "Washed / Wet",
          "Washed / Wet",
          "Washed / Wet",
          "Natural / Dry",
          "Washed / Wet",
          "Natural / Dry",
          "Natural / Dry",
          "Washed / Wet",
          "Natural / Dry",
          "Washed / Wet",
          "Washed / Wet",
          "Washed / Wet",
          "Washed / Wet",
          "Natural / Dry",
          "Washed / Wet",
          "Washed / Wet",
          "Washed / Wet",
          "Washed / Wet",
          "Washed / Wet",
          "Washed / Wet",
          "Natural / Dry",
          "Washed / Wet",
          "Natural / Dry",
          "Semi-washed / Semi-pulped",
          "Washed / Wet",
          "Washed / Wet",
          "Natural / Dry",
          "Natural / Dry",
          "Washed / Wet",
          "Washed / Wet",
          "Natural / Dry",
          "Natural / Dry",
          "Semi-washed / Semi-pulped",
          "Washed / Wet",
          "Natural / Dry",
          "Washed / Wet",
          "Natural / Dry",
          "Washed / Wet",
          "Washed / Wet",
          "Natural / Dry",
          "Natural / Dry",
          "Washed / Wet",
          "Washed / Wet",
          "Washed / Wet",
          "Washed / Wet",
          "Washed / Wet",
          "Natural / Dry",
          "Natural / Dry",
          "Washed / Wet",
          "Natural / Dry",
          "Washed / Wet",
          "Washed / Wet",
          "Washed / Wet",
          "Natural / Dry",
          "Natural / Dry",
          "Washed / Wet",
          "Washed / Wet",
          "Washed / Wet",
          "Washed / Wet",
          "Washed / Wet",
          "Washed / Wet",
          "Washed / Wet",
          "Washed / Wet",
          "Natural / Dry",
          "Washed / Wet",
          "Washed / Wet",
          "Washed / Wet",
          "Washed / Wet",
          "Natural / Dry",
          "Washed / Wet",
          "Washed / Wet",
          "Washed / Wet",
          "Washed / Wet",
          "Washed / Wet",
          "Washed / Wet",
          "Washed / Wet",
          "Natural / Dry",
          "Washed / Wet",
          "Washed / Wet",
          "Other",
          "Washed / Wet",
          "Washed / Wet",
          "Natural / Dry",
          "Semi-washed / Semi-pulped",
          "Washed / Wet",
          "Washed / Wet",
          "Natural / Dry",
          "Washed / Wet",
          "Washed / Wet",
          "Washed / Wet",
          "Semi-washed / Semi-pulped",
          "Natural / Dry",
          "Washed / Wet",
          "Washed / Wet",
          "Washed / Wet",
          "Washed / Wet",
          "Natural / Dry",
          "Washed / Wet",
          "Washed / Wet",
          "Natural / Dry",
          "Semi-washed / Semi-pulped",
          "Washed / Wet",
          "Washed / Wet",
          "Washed / Wet",
          "Washed / Wet",
          "Washed / Wet",
          "Washed / Wet",
          "Washed / Wet",
          "Washed / Wet",
          "Washed / Wet",
          "Washed / Wet",
          "Washed / Wet",
          "Natural / Dry",
          "Semi-washed / Semi-pulped",
          "Washed / Wet",
          "Washed / Wet",
          "Natural / Dry",
          "Washed / Wet",
          "Washed / Wet",
          "Natural / Dry",
          "Washed / Wet",
          "Washed / Wet",
          "Washed / Wet",
          "Washed / Wet",
          "Semi-washed / Semi-pulped",
          "Washed / Wet",
          "Washed / Wet",
          "Semi-washed / Semi-pulped",
          "Washed / Wet",
          "Washed / Wet",
          "Natural / Dry",
          "Washed / Wet",
          "Washed / Wet",
          "Washed / Wet",
          "Natural / Dry",
          "Washed / Wet",
          "Natural / Dry",
          "Washed / Wet",
          "Washed / Wet",
          "Washed / Wet",
          "Pulped natural / honey",
          "Washed / Wet",
          "Washed / Wet",
          "Washed / Wet",
          "Natural / Dry",
          "Natural / Dry",
          "Washed / Wet",
          "Washed / Wet",
          "Natural / Dry",
          "Washed / Wet",
          "Washed / Wet",
          "Washed / Wet",
          "Natural / Dry",
          "Washed / Wet",
          "Washed / Wet",
          "Washed / Wet",
          "Semi-washed / Semi-pulped",
          "Washed / Wet",
          "Washed / Wet",
          "Natural / Dry",
          "Washed / Wet",
          "Washed / Wet",
          "Natural / Dry",
          "Washed / Wet",
          "Washed / Wet",
          "Washed / Wet",
          "Washed / Wet",
          "Washed / Wet",
          "Washed / Wet",
          "Washed / Wet",
          "Washed / Wet",
          "Washed / Wet",
          "Washed / Wet",
          "Washed / Wet",
          "Washed / Wet",
          "Washed / Wet",
          "Natural / Dry",
          "Natural / Dry",
          "Washed / Wet",
          "Natural / Dry",
          "Washed / Wet",
          "Washed / Wet",
          "Washed / Wet",
          "Washed / Wet",
          "Washed / Wet",
          "Washed / Wet",
          "Washed / Wet",
          "Washed / Wet",
          "Washed / Wet",
          "Natural / Dry",
          "Natural / Dry",
          "Washed / Wet",
          "Semi-washed / Semi-pulped",
          "Washed / Wet",
          "Washed / Wet",
          "Pulped natural / honey",
          "Natural / Dry",
          "Natural / Dry",
          "Natural / Dry",
          "Washed / Wet",
          "Washed / Wet",
          "Natural / Dry",
          "Other",
          "Natural / Dry",
          "Washed / Wet",
          "Natural / Dry",
          "Washed / Wet",
          "Natural / Dry",
          "Natural / Dry",
          "Natural / Dry",
          "Washed / Wet",
          "Natural / Dry",
          "Other",
          "Washed / Wet",
          "Washed / Wet",
          "Washed / Wet",
          "Natural / Dry",
          "Washed / Wet",
          "Washed / Wet",
          "Washed / Wet",
          "Washed / Wet",
          "Washed / Wet",
          "Semi-washed / Semi-pulped",
          "Washed / Wet",
          "Washed / Wet",
          "Natural / Dry",
          "Natural / Dry",
          "Washed / Wet",
          "Washed / Wet",
          "Semi-washed / Semi-pulped",
          "Washed / Wet",
          "Natural / Dry",
          "Washed / Wet",
          "Washed / Wet",
          "Washed / Wet",
          "Washed / Wet",
          "Natural / Dry",
          "Washed / Wet",
          "Washed / Wet",
          "Natural / Dry",
          "Washed / Wet",
          "Natural / Dry",
          "Washed / Wet",
          "Washed / Wet",
          "Natural / Dry",
          "Washed / Wet",
          "Semi-washed / Semi-pulped",
          "Washed / Wet",
          "Washed / Wet",
          "Washed / Wet",
          "Natural / Dry",
          "Washed / Wet",
          "Washed / Wet",
          "Natural / Dry",
          "Washed / Wet",
          "Washed / Wet",
          "Natural / Dry",
          "Natural / Dry",
          "Washed / Wet",
          "Washed / Wet",
          "Washed / Wet",
          "Washed / Wet",
          "Pulped natural / honey",
          "Washed / Wet",
          "Washed / Wet",
          "Other",
          "Washed / Wet",
          "Natural / Dry",
          "Washed / Wet",
          "Other",
          "Washed / Wet",
          "Natural / Dry",
          "Washed / Wet",
          "Washed / Wet",
          "Washed / Wet",
          "Washed / Wet",
          "Washed / Wet",
          "Washed / Wet",
          "Washed / Wet",
          "Washed / Wet",
          "Washed / Wet",
          "Washed / Wet",
          "Washed / Wet",
          "Other",
          "Washed / Wet",
          "Natural / Dry",
          "Washed / Wet",
          "Washed / Wet",
          "Natural / Dry",
          "Pulped natural / honey",
          "Natural / Dry",
          "Washed / Wet",
          "Washed / Wet",
          "Washed / Wet",
          "Washed / Wet",
          "Washed / Wet",
          "Natural / Dry",
          "Natural / Dry",
          "Washed / Wet",
          "Washed / Wet",
          "Washed / Wet",
          "Natural / Dry",
          "Washed / Wet",
          "Washed / Wet",
          "Washed / Wet",
          "Washed / Wet",
          "Natural / Dry",
          "Natural / Dry",
          "Washed / Wet",
          "Washed / Wet",
          "Washed / Wet",
          "Natural / Dry",
          "Natural / Dry",
          "Washed / Wet",
          "Washed / Wet",
          "Washed / Wet",
          "Natural / Dry",
          "Washed / Wet",
          "Washed / Wet",
          "Washed / Wet",
          "Washed / Wet",
          "Washed / Wet",
          "Washed / Wet",
          "Washed / Wet",
          "Washed / Wet",
          "Washed / Wet",
          "Washed / Wet",
          "Pulped natural / honey",
          "Pulped natural / honey",
          "Semi-washed / Semi-pulped",
          "Washed / Wet",
          "Washed / Wet",
          "Washed / Wet",
          "Natural / Dry",
          "Washed / Wet",
          "Washed / Wet",
          "Natural / Dry",
          "Washed / Wet",
          "Washed / Wet",
          "Washed / Wet",
          "Washed / Wet",
          "Washed / Wet",
          "Washed / Wet",
          "Natural / Dry",
          "Washed / Wet",
          "Washed / Wet",
          "Washed / Wet",
          "Washed / Wet",
          "Washed / Wet",
          "Washed / Wet",
          "Washed / Wet",
          "Washed / Wet",
          "Semi-washed / Semi-pulped",
          "Washed / Wet",
          "Washed / Wet",
          "Washed / Wet",
          "Washed / Wet",
          "Washed / Wet",
          "Semi-washed / Semi-pulped",
          "Natural / Dry",
          "Semi-washed / Semi-pulped",
          "Washed / Wet",
          "Washed / Wet",
          "Washed / Wet",
          "Washed / Wet",
          "Washed / Wet",
          "Washed / Wet",
          "Washed / Wet",
          "Washed / Wet",
          "Washed / Wet",
          "Washed / Wet",
          "Natural / Dry",
          "Washed / Wet",
          "Washed / Wet",
          "Semi-washed / Semi-pulped",
          "Washed / Wet",
          "Natural / Dry",
          "Washed / Wet",
          "Washed / Wet",
          "Washed / Wet",
          "Washed / Wet",
          "Semi-washed / Semi-pulped",
          "Washed / Wet",
          "Washed / Wet",
          "Washed / Wet",
          "Washed / Wet",
          "Washed / Wet",
          "Washed / Wet",
          "Washed / Wet",
          "Natural / Dry",
          "Natural / Dry",
          "Washed / Wet",
          "Washed / Wet",
          "Natural / Dry",
          "Natural / Dry",
          "Natural / Dry",
          "Washed / Wet",
          "Washed / Wet",
          "Pulped natural / honey",
          "Natural / Dry",
          "Natural / Dry",
          "Washed / Wet",
          "Washed / Wet",
          "Natural / Dry",
          "Washed / Wet",
          "Washed / Wet",
          "Washed / Wet",
          "Semi-washed / Semi-pulped",
          "Washed / Wet",
          "Washed / Wet",
          "Washed / Wet",
          "Washed / Wet",
          "Washed / Wet",
          "Washed / Wet",
          "Natural / Dry",
          "Washed / Wet",
          "Washed / Wet",
          "Natural / Dry",
          "Washed / Wet",
          "Washed / Wet",
          "Natural / Dry",
          "Washed / Wet",
          "Washed / Wet",
          "Natural / Dry",
          "Washed / Wet",
          "Washed / Wet",
          "Washed / Wet",
          "Natural / Dry",
          "Washed / Wet",
          "Washed / Wet",
          "Natural / Dry",
          "Washed / Wet",
          "Washed / Wet",
          "Washed / Wet",
          "Washed / Wet",
          "Washed / Wet",
          "Washed / Wet",
          "Washed / Wet",
          "Washed / Wet",
          "Washed / Wet",
          "Natural / Dry",
          "Natural / Dry",
          "Washed / Wet",
          "Washed / Wet",
          "Washed / Wet",
          "Natural / Dry",
          "Washed / Wet",
          "Washed / Wet",
          "Washed / Wet",
          "Natural / Dry",
          "Washed / Wet",
          "Washed / Wet",
          "Washed / Wet",
          "Other",
          "Washed / Wet",
          "Washed / Wet",
          "Washed / Wet",
          "Washed / Wet",
          "Washed / Wet",
          "Washed / Wet",
          "Washed / Wet",
          "Washed / Wet",
          "Natural / Dry",
          "Natural / Dry",
          "Washed / Wet",
          "Washed / Wet",
          "Washed / Wet",
          "Washed / Wet",
          "Washed / Wet",
          "Natural / Dry",
          "Washed / Wet",
          "Washed / Wet",
          "Washed / Wet",
          "Natural / Dry",
          "Washed / Wet",
          "Washed / Wet",
          "Washed / Wet",
          "Natural / Dry",
          "Natural / Dry",
          "Washed / Wet",
          "Washed / Wet",
          "Washed / Wet",
          "Washed / Wet",
          "Washed / Wet",
          "Washed / Wet",
          "Washed / Wet",
          "Washed / Wet",
          "Washed / Wet",
          "Washed / Wet",
          "Natural / Dry",
          "Washed / Wet",
          "Natural / Dry",
          "Semi-washed / Semi-pulped",
          "Natural / Dry",
          "Semi-washed / Semi-pulped",
          "Washed / Wet",
          "Washed / Wet",
          "Washed / Wet",
          "Washed / Wet",
          "Natural / Dry",
          "Washed / Wet",
          "Washed / Wet",
          "Washed / Wet",
          "Washed / Wet",
          "Washed / Wet",
          "Washed / Wet",
          "Other",
          "Washed / Wet",
          "Semi-washed / Semi-pulped",
          "Washed / Wet",
          "Washed / Wet",
          "Washed / Wet",
          "Natural / Dry",
          "Washed / Wet",
          "Pulped natural / honey",
          "Natural / Dry",
          "Other",
          "Washed / Wet",
          "Natural / Dry",
          "Natural / Dry",
          "Washed / Wet",
          "Washed / Wet",
          "Washed / Wet",
          "Washed / Wet",
          "Washed / Wet",
          "Other",
          "Washed / Wet",
          "Natural / Dry",
          "Natural / Dry",
          "Washed / Wet",
          "Washed / Wet",
          "Natural / Dry",
          "Semi-washed / Semi-pulped",
          "Washed / Wet",
          "Washed / Wet",
          "Semi-washed / Semi-pulped",
          "Washed / Wet",
          "Washed / Wet",
          "Washed / Wet",
          "Natural / Dry",
          "Washed / Wet",
          "Washed / Wet",
          "Washed / Wet",
          "Washed / Wet",
          "Washed / Wet",
          "Washed / Wet",
          "Natural / Dry",
          "Washed / Wet",
          "Washed / Wet",
          "Washed / Wet",
          "Natural / Dry",
          "Washed / Wet",
          "Washed / Wet",
          "Washed / Wet",
          "Semi-washed / Semi-pulped",
          "Natural / Dry",
          "Washed / Wet",
          "Washed / Wet",
          "Semi-washed / Semi-pulped",
          "Washed / Wet",
          "Washed / Wet",
          "Washed / Wet",
          "Washed / Wet",
          "Washed / Wet",
          "Washed / Wet",
          "Washed / Wet",
          "Semi-washed / Semi-pulped",
          "Washed / Wet",
          "Washed / Wet",
          "Washed / Wet",
          "Washed / Wet",
          "Washed / Wet",
          "Washed / Wet",
          "Washed / Wet",
          "Semi-washed / Semi-pulped",
          "Washed / Wet",
          "Washed / Wet",
          "Washed / Wet",
          "Natural / Dry",
          "Natural / Dry",
          "Washed / Wet",
          "Other",
          "Washed / Wet",
          "Natural / Dry",
          "Washed / Wet",
          "Washed / Wet",
          "Washed / Wet",
          "Washed / Wet",
          "Washed / Wet",
          "Semi-washed / Semi-pulped",
          "Washed / Wet",
          "Other",
          "Washed / Wet",
          "Washed / Wet",
          "Washed / Wet",
          "Semi-washed / Semi-pulped",
          "Washed / Wet",
          "Natural / Dry",
          "Washed / Wet",
          "Semi-washed / Semi-pulped",
          "Washed / Wet",
          "Washed / Wet",
          "Washed / Wet",
          "Natural / Dry",
          "Washed / Wet",
          "Washed / Wet",
          "Washed / Wet",
          "Natural / Dry",
          "Washed / Wet",
          "Washed / Wet",
          "Washed / Wet",
          "Washed / Wet",
          "Washed / Wet",
          "Washed / Wet",
          "Natural / Dry",
          "Washed / Wet",
          "Washed / Wet",
          "Natural / Dry",
          "Washed / Wet",
          "Other",
          "Washed / Wet",
          "Washed / Wet",
          "Washed / Wet",
          "Washed / Wet",
          "Washed / Wet",
          "Natural / Dry",
          "Natural / Dry",
          "Natural / Dry",
          "Washed / Wet",
          "Washed / Wet",
          "Washed / Wet",
          "Washed / Wet",
          "Semi-washed / Semi-pulped",
          "Washed / Wet",
          "Washed / Wet",
          "Washed / Wet",
          "Washed / Wet",
          "Washed / Wet",
          "Washed / Wet",
          "Natural / Dry",
          "Washed / Wet",
          "Natural / Dry",
          "Washed / Wet",
          "Washed / Wet",
          "Washed / Wet",
          "Natural / Dry",
          "Natural / Dry",
          "Washed / Wet",
          "Natural / Dry",
          "Natural / Dry",
          "Natural / Dry",
          "Washed / Wet",
          "Natural / Dry",
          "Washed / Wet",
          "Washed / Wet",
          "Washed / Wet",
          "Washed / Wet",
          "Washed / Wet",
          "Washed / Wet",
          "Washed / Wet",
          "Washed / Wet",
          "Pulped natural / honey",
          "Washed / Wet",
          "Pulped natural / honey",
          "Washed / Wet",
          "Washed / Wet",
          "Washed / Wet",
          "Washed / Wet",
          "Natural / Dry",
          "Natural / Dry",
          "Washed / Wet",
          "Natural / Dry",
          "Semi-washed / Semi-pulped",
          "Washed / Wet",
          "Washed / Wet",
          "Washed / Wet",
          "Washed / Wet",
          "Washed / Wet",
          "Washed / Wet",
          "Washed / Wet",
          "Other",
          "Natural / Dry",
          "Washed / Wet",
          "Natural / Dry",
          "Washed / Wet",
          "Natural / Dry",
          "Washed / Wet",
          "Washed / Wet",
          "Washed / Wet",
          "Other",
          "Washed / Wet",
          "Washed / Wet",
          "Washed / Wet",
          "Washed / Wet",
          "Semi-washed / Semi-pulped",
          "Washed / Wet",
          "Washed / Wet",
          "Washed / Wet",
          "Natural / Dry",
          "Washed / Wet",
          "Washed / Wet",
          "Washed / Wet",
          "Natural / Dry",
          "Other",
          "Washed / Wet",
          "Natural / Dry",
          "Washed / Wet",
          "Washed / Wet",
          "Washed / Wet",
          "Natural / Dry",
          "Other",
          "Semi-washed / Semi-pulped",
          "Washed / Wet",
          "Washed / Wet",
          "Washed / Wet",
          "Washed / Wet",
          "Natural / Dry",
          "Washed / Wet",
          "Washed / Wet",
          "Washed / Wet",
          "Washed / Wet",
          "Semi-washed / Semi-pulped",
          "Washed / Wet",
          "Natural / Dry",
          "Natural / Dry",
          "Washed / Wet",
          "Washed / Wet",
          "Semi-washed / Semi-pulped",
          "Washed / Wet",
          "Washed / Wet",
          "Semi-washed / Semi-pulped",
          "Natural / Dry",
          "Washed / Wet",
          "Washed / Wet",
          "Washed / Wet",
          "Washed / Wet",
          "Washed / Wet",
          "Washed / Wet",
          "Washed / Wet",
          "Washed / Wet",
          "Washed / Wet",
          "Washed / Wet",
          "Other",
          "Washed / Wet",
          "Semi-washed / Semi-pulped",
          "Washed / Wet",
          "Natural / Dry",
          "Natural / Dry",
          "Washed / Wet",
          "Natural / Dry",
          "Natural / Dry",
          "Washed / Wet",
          "Natural / Dry",
          "Washed / Wet",
          "Semi-washed / Semi-pulped",
          "Washed / Wet",
          "Washed / Wet",
          "Other",
          "Washed / Wet",
          "Washed / Wet",
          "Washed / Wet",
          "Washed / Wet",
          "Washed / Wet",
          "Washed / Wet",
          "Washed / Wet",
          "Pulped natural / honey",
          "Washed / Wet",
          "Natural / Dry",
          "Other",
          "Washed / Wet",
          "Semi-washed / Semi-pulped",
          "Washed / Wet",
          "Washed / Wet",
          "Washed / Wet",
          "Washed / Wet",
          "Washed / Wet",
          "Washed / Wet",
          "Washed / Wet",
          "Washed / Wet",
          "Washed / Wet",
          "Washed / Wet",
          "Natural / Dry",
          "Washed / Wet",
          "Washed / Wet",
          "Washed / Wet",
          "Washed / Wet",
          "Natural / Dry",
          "Washed / Wet",
          "Washed / Wet",
          "Washed / Wet",
          "Washed / Wet",
          "Washed / Wet",
          "Natural / Dry",
          "Washed / Wet",
          "Natural / Dry",
          "Washed / Wet",
          "Washed / Wet",
          "Washed / Wet",
          "Washed / Wet",
          "Washed / Wet",
          "Washed / Wet",
          "Washed / Wet",
          "Washed / Wet",
          "Washed / Wet",
          "Washed / Wet",
          "Washed / Wet",
          "Washed / Wet",
          "Washed / Wet",
          "Washed / Wet",
          "Washed / Wet",
          "Washed / Wet",
          "Washed / Wet",
          "Washed / Wet",
          "Washed / Wet",
          "Washed / Wet",
          "Natural / Dry",
          "Natural / Dry",
          "Washed / Wet",
          "Washed / Wet",
          "Washed / Wet",
          "Washed / Wet",
          "Washed / Wet",
          "Washed / Wet",
          "Washed / Wet",
          "Washed / Wet",
          "Washed / Wet",
          "Washed / Wet",
          "Washed / Wet",
          "Washed / Wet",
          "Washed / Wet",
          "Washed / Wet",
          "Washed / Wet",
          "Washed / Wet",
          "Washed / Wet",
          "Washed / Wet",
          "Washed / Wet",
          "Washed / Wet",
          "Washed / Wet",
          "Washed / Wet",
          "Washed / Wet",
          "Washed / Wet",
          "Washed / Wet",
          "Washed / Wet",
          "Washed / Wet",
          "Washed / Wet",
          "Natural / Dry",
          "Semi-washed / Semi-pulped",
          "Washed / Wet",
          "Washed / Wet",
          "Washed / Wet",
          "Other",
          "Natural / Dry",
          "Washed / Wet",
          "Washed / Wet",
          "Semi-washed / Semi-pulped",
          "Washed / Wet",
          "Washed / Wet",
          "Washed / Wet",
          "Natural / Dry",
          "Washed / Wet",
          "Washed / Wet",
          "Washed / Wet",
          "Washed / Wet",
          "Washed / Wet",
          "Washed / Wet",
          "Washed / Wet",
          "Natural / Dry",
          "Washed / Wet",
          "Natural / Dry",
          "Washed / Wet",
          "Washed / Wet",
          "Natural / Dry",
          "Washed / Wet",
          "Natural / Dry",
          "Natural / Dry",
          "Washed / Wet",
          "Washed / Wet",
          "Washed / Wet",
          "Natural / Dry",
          "Natural / Dry",
          "Washed / Wet",
          "Washed / Wet",
          "Washed / Wet",
          "Washed / Wet",
          "Washed / Wet",
          "Washed / Wet",
          "Washed / Wet",
          "Washed / Wet",
          "Washed / Wet",
          "Washed / Wet",
          "Natural / Dry",
          "Washed / Wet",
          "Washed / Wet",
          "Natural / Dry",
          "Washed / Wet",
          "Washed / Wet",
          "Washed / Wet",
          "Natural / Dry",
          "Washed / Wet",
          "Washed / Wet",
          "Natural / Dry",
          "Washed / Wet",
          "Washed / Wet",
          "Washed / Wet",
          "Washed / Wet",
          "Natural / Dry",
          "Natural / Dry",
          "Washed / Wet",
          "Natural / Dry",
          "Washed / Wet",
          "Natural / Dry",
          "Washed / Wet",
          "Natural / Dry",
          "Washed / Wet",
          "Washed / Wet",
          "Washed / Wet",
          "Washed / Wet",
          "Washed / Wet",
          "Washed / Wet",
          "Washed / Wet",
          "Washed / Wet",
          "Washed / Wet",
          "Washed / Wet",
          "Washed / Wet",
          "Washed / Wet",
          "Natural / Dry",
          "Washed / Wet",
          "Washed / Wet",
          "Washed / Wet",
          "Washed / Wet",
          "Natural / Dry",
          "Washed / Wet",
          "Washed / Wet",
          "Natural / Dry",
          "Natural / Dry",
          "Washed / Wet",
          "Washed / Wet",
          "Washed / Wet",
          "Washed / Wet",
          "Natural / Dry",
          "Washed / Wet",
          "Washed / Wet",
          "Washed / Wet",
          "Washed / Wet",
          "Natural / Dry",
          "Other",
          "Washed / Wet"
         ],
         "xaxis": "x",
         "yaxis": "y"
        }
       ],
       "layout": {
        "barmode": "relative",
        "legend": {
         "tracegroupgap": 0
        },
        "margin": {
         "t": 60
        },
        "template": {
         "data": {
          "bar": [
           {
            "error_x": {
             "color": "#2a3f5f"
            },
            "error_y": {
             "color": "#2a3f5f"
            },
            "marker": {
             "line": {
              "color": "#E5ECF6",
              "width": 0.5
             },
             "pattern": {
              "fillmode": "overlay",
              "size": 10,
              "solidity": 0.2
             }
            },
            "type": "bar"
           }
          ],
          "barpolar": [
           {
            "marker": {
             "line": {
              "color": "#E5ECF6",
              "width": 0.5
             },
             "pattern": {
              "fillmode": "overlay",
              "size": 10,
              "solidity": 0.2
             }
            },
            "type": "barpolar"
           }
          ],
          "carpet": [
           {
            "aaxis": {
             "endlinecolor": "#2a3f5f",
             "gridcolor": "white",
             "linecolor": "white",
             "minorgridcolor": "white",
             "startlinecolor": "#2a3f5f"
            },
            "baxis": {
             "endlinecolor": "#2a3f5f",
             "gridcolor": "white",
             "linecolor": "white",
             "minorgridcolor": "white",
             "startlinecolor": "#2a3f5f"
            },
            "type": "carpet"
           }
          ],
          "choropleth": [
           {
            "colorbar": {
             "outlinewidth": 0,
             "ticks": ""
            },
            "type": "choropleth"
           }
          ],
          "contour": [
           {
            "colorbar": {
             "outlinewidth": 0,
             "ticks": ""
            },
            "colorscale": [
             [
              0,
              "#0d0887"
             ],
             [
              0.1111111111111111,
              "#46039f"
             ],
             [
              0.2222222222222222,
              "#7201a8"
             ],
             [
              0.3333333333333333,
              "#9c179e"
             ],
             [
              0.4444444444444444,
              "#bd3786"
             ],
             [
              0.5555555555555556,
              "#d8576b"
             ],
             [
              0.6666666666666666,
              "#ed7953"
             ],
             [
              0.7777777777777778,
              "#fb9f3a"
             ],
             [
              0.8888888888888888,
              "#fdca26"
             ],
             [
              1,
              "#f0f921"
             ]
            ],
            "type": "contour"
           }
          ],
          "contourcarpet": [
           {
            "colorbar": {
             "outlinewidth": 0,
             "ticks": ""
            },
            "type": "contourcarpet"
           }
          ],
          "heatmap": [
           {
            "colorbar": {
             "outlinewidth": 0,
             "ticks": ""
            },
            "colorscale": [
             [
              0,
              "#0d0887"
             ],
             [
              0.1111111111111111,
              "#46039f"
             ],
             [
              0.2222222222222222,
              "#7201a8"
             ],
             [
              0.3333333333333333,
              "#9c179e"
             ],
             [
              0.4444444444444444,
              "#bd3786"
             ],
             [
              0.5555555555555556,
              "#d8576b"
             ],
             [
              0.6666666666666666,
              "#ed7953"
             ],
             [
              0.7777777777777778,
              "#fb9f3a"
             ],
             [
              0.8888888888888888,
              "#fdca26"
             ],
             [
              1,
              "#f0f921"
             ]
            ],
            "type": "heatmap"
           }
          ],
          "heatmapgl": [
           {
            "colorbar": {
             "outlinewidth": 0,
             "ticks": ""
            },
            "colorscale": [
             [
              0,
              "#0d0887"
             ],
             [
              0.1111111111111111,
              "#46039f"
             ],
             [
              0.2222222222222222,
              "#7201a8"
             ],
             [
              0.3333333333333333,
              "#9c179e"
             ],
             [
              0.4444444444444444,
              "#bd3786"
             ],
             [
              0.5555555555555556,
              "#d8576b"
             ],
             [
              0.6666666666666666,
              "#ed7953"
             ],
             [
              0.7777777777777778,
              "#fb9f3a"
             ],
             [
              0.8888888888888888,
              "#fdca26"
             ],
             [
              1,
              "#f0f921"
             ]
            ],
            "type": "heatmapgl"
           }
          ],
          "histogram": [
           {
            "marker": {
             "pattern": {
              "fillmode": "overlay",
              "size": 10,
              "solidity": 0.2
             }
            },
            "type": "histogram"
           }
          ],
          "histogram2d": [
           {
            "colorbar": {
             "outlinewidth": 0,
             "ticks": ""
            },
            "colorscale": [
             [
              0,
              "#0d0887"
             ],
             [
              0.1111111111111111,
              "#46039f"
             ],
             [
              0.2222222222222222,
              "#7201a8"
             ],
             [
              0.3333333333333333,
              "#9c179e"
             ],
             [
              0.4444444444444444,
              "#bd3786"
             ],
             [
              0.5555555555555556,
              "#d8576b"
             ],
             [
              0.6666666666666666,
              "#ed7953"
             ],
             [
              0.7777777777777778,
              "#fb9f3a"
             ],
             [
              0.8888888888888888,
              "#fdca26"
             ],
             [
              1,
              "#f0f921"
             ]
            ],
            "type": "histogram2d"
           }
          ],
          "histogram2dcontour": [
           {
            "colorbar": {
             "outlinewidth": 0,
             "ticks": ""
            },
            "colorscale": [
             [
              0,
              "#0d0887"
             ],
             [
              0.1111111111111111,
              "#46039f"
             ],
             [
              0.2222222222222222,
              "#7201a8"
             ],
             [
              0.3333333333333333,
              "#9c179e"
             ],
             [
              0.4444444444444444,
              "#bd3786"
             ],
             [
              0.5555555555555556,
              "#d8576b"
             ],
             [
              0.6666666666666666,
              "#ed7953"
             ],
             [
              0.7777777777777778,
              "#fb9f3a"
             ],
             [
              0.8888888888888888,
              "#fdca26"
             ],
             [
              1,
              "#f0f921"
             ]
            ],
            "type": "histogram2dcontour"
           }
          ],
          "mesh3d": [
           {
            "colorbar": {
             "outlinewidth": 0,
             "ticks": ""
            },
            "type": "mesh3d"
           }
          ],
          "parcoords": [
           {
            "line": {
             "colorbar": {
              "outlinewidth": 0,
              "ticks": ""
             }
            },
            "type": "parcoords"
           }
          ],
          "pie": [
           {
            "automargin": true,
            "type": "pie"
           }
          ],
          "scatter": [
           {
            "marker": {
             "colorbar": {
              "outlinewidth": 0,
              "ticks": ""
             }
            },
            "type": "scatter"
           }
          ],
          "scatter3d": [
           {
            "line": {
             "colorbar": {
              "outlinewidth": 0,
              "ticks": ""
             }
            },
            "marker": {
             "colorbar": {
              "outlinewidth": 0,
              "ticks": ""
             }
            },
            "type": "scatter3d"
           }
          ],
          "scattercarpet": [
           {
            "marker": {
             "colorbar": {
              "outlinewidth": 0,
              "ticks": ""
             }
            },
            "type": "scattercarpet"
           }
          ],
          "scattergeo": [
           {
            "marker": {
             "colorbar": {
              "outlinewidth": 0,
              "ticks": ""
             }
            },
            "type": "scattergeo"
           }
          ],
          "scattergl": [
           {
            "marker": {
             "colorbar": {
              "outlinewidth": 0,
              "ticks": ""
             }
            },
            "type": "scattergl"
           }
          ],
          "scattermapbox": [
           {
            "marker": {
             "colorbar": {
              "outlinewidth": 0,
              "ticks": ""
             }
            },
            "type": "scattermapbox"
           }
          ],
          "scatterpolar": [
           {
            "marker": {
             "colorbar": {
              "outlinewidth": 0,
              "ticks": ""
             }
            },
            "type": "scatterpolar"
           }
          ],
          "scatterpolargl": [
           {
            "marker": {
             "colorbar": {
              "outlinewidth": 0,
              "ticks": ""
             }
            },
            "type": "scatterpolargl"
           }
          ],
          "scatterternary": [
           {
            "marker": {
             "colorbar": {
              "outlinewidth": 0,
              "ticks": ""
             }
            },
            "type": "scatterternary"
           }
          ],
          "surface": [
           {
            "colorbar": {
             "outlinewidth": 0,
             "ticks": ""
            },
            "colorscale": [
             [
              0,
              "#0d0887"
             ],
             [
              0.1111111111111111,
              "#46039f"
             ],
             [
              0.2222222222222222,
              "#7201a8"
             ],
             [
              0.3333333333333333,
              "#9c179e"
             ],
             [
              0.4444444444444444,
              "#bd3786"
             ],
             [
              0.5555555555555556,
              "#d8576b"
             ],
             [
              0.6666666666666666,
              "#ed7953"
             ],
             [
              0.7777777777777778,
              "#fb9f3a"
             ],
             [
              0.8888888888888888,
              "#fdca26"
             ],
             [
              1,
              "#f0f921"
             ]
            ],
            "type": "surface"
           }
          ],
          "table": [
           {
            "cells": {
             "fill": {
              "color": "#EBF0F8"
             },
             "line": {
              "color": "white"
             }
            },
            "header": {
             "fill": {
              "color": "#C8D4E3"
             },
             "line": {
              "color": "white"
             }
            },
            "type": "table"
           }
          ]
         },
         "layout": {
          "annotationdefaults": {
           "arrowcolor": "#2a3f5f",
           "arrowhead": 0,
           "arrowwidth": 1
          },
          "autotypenumbers": "strict",
          "coloraxis": {
           "colorbar": {
            "outlinewidth": 0,
            "ticks": ""
           }
          },
          "colorscale": {
           "diverging": [
            [
             0,
             "#8e0152"
            ],
            [
             0.1,
             "#c51b7d"
            ],
            [
             0.2,
             "#de77ae"
            ],
            [
             0.3,
             "#f1b6da"
            ],
            [
             0.4,
             "#fde0ef"
            ],
            [
             0.5,
             "#f7f7f7"
            ],
            [
             0.6,
             "#e6f5d0"
            ],
            [
             0.7,
             "#b8e186"
            ],
            [
             0.8,
             "#7fbc41"
            ],
            [
             0.9,
             "#4d9221"
            ],
            [
             1,
             "#276419"
            ]
           ],
           "sequential": [
            [
             0,
             "#0d0887"
            ],
            [
             0.1111111111111111,
             "#46039f"
            ],
            [
             0.2222222222222222,
             "#7201a8"
            ],
            [
             0.3333333333333333,
             "#9c179e"
            ],
            [
             0.4444444444444444,
             "#bd3786"
            ],
            [
             0.5555555555555556,
             "#d8576b"
            ],
            [
             0.6666666666666666,
             "#ed7953"
            ],
            [
             0.7777777777777778,
             "#fb9f3a"
            ],
            [
             0.8888888888888888,
             "#fdca26"
            ],
            [
             1,
             "#f0f921"
            ]
           ],
           "sequentialminus": [
            [
             0,
             "#0d0887"
            ],
            [
             0.1111111111111111,
             "#46039f"
            ],
            [
             0.2222222222222222,
             "#7201a8"
            ],
            [
             0.3333333333333333,
             "#9c179e"
            ],
            [
             0.4444444444444444,
             "#bd3786"
            ],
            [
             0.5555555555555556,
             "#d8576b"
            ],
            [
             0.6666666666666666,
             "#ed7953"
            ],
            [
             0.7777777777777778,
             "#fb9f3a"
            ],
            [
             0.8888888888888888,
             "#fdca26"
            ],
            [
             1,
             "#f0f921"
            ]
           ]
          },
          "colorway": [
           "#636efa",
           "#EF553B",
           "#00cc96",
           "#ab63fa",
           "#FFA15A",
           "#19d3f3",
           "#FF6692",
           "#B6E880",
           "#FF97FF",
           "#FECB52"
          ],
          "font": {
           "color": "#2a3f5f"
          },
          "geo": {
           "bgcolor": "white",
           "lakecolor": "white",
           "landcolor": "#E5ECF6",
           "showlakes": true,
           "showland": true,
           "subunitcolor": "white"
          },
          "hoverlabel": {
           "align": "left"
          },
          "hovermode": "closest",
          "mapbox": {
           "style": "light"
          },
          "paper_bgcolor": "white",
          "plot_bgcolor": "#E5ECF6",
          "polar": {
           "angularaxis": {
            "gridcolor": "white",
            "linecolor": "white",
            "ticks": ""
           },
           "bgcolor": "#E5ECF6",
           "radialaxis": {
            "gridcolor": "white",
            "linecolor": "white",
            "ticks": ""
           }
          },
          "scene": {
           "xaxis": {
            "backgroundcolor": "#E5ECF6",
            "gridcolor": "white",
            "gridwidth": 2,
            "linecolor": "white",
            "showbackground": true,
            "ticks": "",
            "zerolinecolor": "white"
           },
           "yaxis": {
            "backgroundcolor": "#E5ECF6",
            "gridcolor": "white",
            "gridwidth": 2,
            "linecolor": "white",
            "showbackground": true,
            "ticks": "",
            "zerolinecolor": "white"
           },
           "zaxis": {
            "backgroundcolor": "#E5ECF6",
            "gridcolor": "white",
            "gridwidth": 2,
            "linecolor": "white",
            "showbackground": true,
            "ticks": "",
            "zerolinecolor": "white"
           }
          },
          "shapedefaults": {
           "line": {
            "color": "#2a3f5f"
           }
          },
          "ternary": {
           "aaxis": {
            "gridcolor": "white",
            "linecolor": "white",
            "ticks": ""
           },
           "baxis": {
            "gridcolor": "white",
            "linecolor": "white",
            "ticks": ""
           },
           "bgcolor": "#E5ECF6",
           "caxis": {
            "gridcolor": "white",
            "linecolor": "white",
            "ticks": ""
           }
          },
          "title": {
           "x": 0.05
          },
          "xaxis": {
           "automargin": true,
           "gridcolor": "white",
           "linecolor": "white",
           "ticks": "",
           "title": {
            "standoff": 15
           },
           "zerolinecolor": "white",
           "zerolinewidth": 2
          },
          "yaxis": {
           "automargin": true,
           "gridcolor": "white",
           "linecolor": "white",
           "ticks": "",
           "title": {
            "standoff": 15
           },
           "zerolinecolor": "white",
           "zerolinewidth": 2
          }
         }
        },
        "xaxis": {
         "anchor": "y",
         "domain": [
          0,
          1
         ],
         "title": {
          "text": "Processing Method"
         }
        },
        "yaxis": {
         "anchor": "x",
         "domain": [
          0,
          1
         ],
         "title": {
          "text": "count"
         }
        }
       }
      }
     },
     "metadata": {},
     "output_type": "display_data"
    }
   ],
   "source": [
    "import plotly.express as px\n",
    "\n",
    "for col_name in arabica_df.columns:\n",
    "    fig = px.histogram(arabica_df[col_name].dropna(), x=col_name)\n",
    "    fig.show()\n",
    "\n",
    "\n"
   ]
  },
  {
   "cell_type": "markdown",
   "id": "becoming-journalism",
   "metadata": {},
   "source": [
    "## cleaning outliers\n",
    "* define heuristics that classify outliers for each column\n",
    "* set outliers to median  "
   ]
  },
  {
   "cell_type": "code",
   "execution_count": null,
   "id": "f15ec50a",
   "metadata": {},
   "outputs": [],
   "source": [
    "arabica_df_new = pd.read_csv(\"../../data/arabica_data_cleaned.csv\")\n",
    "arabica_df_new.drop(columns=[\"Unnamed: 0\"], inplace=True)\n",
    "arabica_df_new.head()"
   ]
  },
  {
   "cell_type": "markdown",
   "id": "foreign-beginning",
   "metadata": {},
   "source": [
    "## Identify \n",
    " * Which countries have more than 10 and less than 30 entries?\n",
    " * Which is the producer with most entries?\n",
    " * What is the mosts common and least common \"Processing Method\""
   ]
  },
  {
   "cell_type": "code",
   "execution_count": 73,
   "id": "sudden-crawford",
   "metadata": {},
   "outputs": [
    {
     "data": {
      "text/plain": [
       "Nicaragua      26\n",
       "Uganda         26\n",
       "Kenya          25\n",
       "El Salvador    21\n",
       "Indonesia      20\n",
       "China          16\n",
       "Malawi         11\n",
       "Name: Country of Origin, dtype: Int64"
      ]
     },
     "execution_count": 73,
     "metadata": {},
     "output_type": "execute_result"
    }
   ],
   "source": [
    "countries_more_than_10 = arabica_df[\"Country of Origin\"].value_counts() > 10\n",
    "countries_less_than_30 = arabica_df[\"Country of Origin\"].value_counts() < 30\n",
    "\n",
    "wanted_countries = countries_more_than_10 * countries_less_than_30\n",
    "arabica_df[\"Country of Origin\"].value_counts()[wanted_countries]\n"
   ]
  },
  {
   "cell_type": "code",
   "execution_count": 74,
   "id": "f61cb11d",
   "metadata": {},
   "outputs": [
    {
     "name": "stdout",
     "output_type": "stream",
     "text": [
      "La Plata\n"
     ]
    }
   ],
   "source": [
    "producer_count = arabica_df[\"Producer\"].value_counts()\n",
    "print(producer_count.index[0])"
   ]
  },
  {
   "cell_type": "code",
   "execution_count": 66,
   "id": "e5dc0947",
   "metadata": {},
   "outputs": [
    {
     "name": "stdout",
     "output_type": "stream",
     "text": [
      "Most: Washed / Wet\n",
      "Least: Pulped natural / honey\n"
     ]
    }
   ],
   "source": [
    "processing_count = arabica_df[\"Processing Method\"].value_counts()\n",
    "print(\"Most: \" + str(processing_count.index[0]) + \"\\nLeast: \" + str(processing_count.index[-1]))"
   ]
  }
 ],
 "metadata": {
  "kernelspec": {
   "display_name": "Python 3",
   "language": "python",
   "name": "python3"
  },
  "language_info": {
   "codemirror_mode": {
    "name": "ipython",
    "version": 3
   },
   "file_extension": ".py",
   "mimetype": "text/x-python",
   "name": "python",
   "nbconvert_exporter": "python",
   "pygments_lexer": "ipython3",
   "version": "3.9.8"
  }
 },
 "nbformat": 4,
 "nbformat_minor": 5
}
