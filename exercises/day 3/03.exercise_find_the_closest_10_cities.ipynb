{
 "cells": [
  {
   "cell_type": "code",
   "execution_count": 1,
   "id": "million-advancement",
   "metadata": {},
   "outputs": [],
   "source": [
    "#import course;course.header()"
   ]
  },
  {
   "cell_type": "markdown",
   "id": "attractive-tension",
   "metadata": {},
   "source": [
    "# Find 10 closest cities to a given latidue and longitude point on earth"
   ]
  },
  {
   "cell_type": "markdown",
   "id": "d4de1bd6",
   "metadata": {},
   "source": [
    "Use any data structure that you can get your hands on and load the cities data. Write a function that creates the data structure withthe following function signature"
   ]
  },
  {
   "cell_type": "code",
   "execution_count": 2,
   "id": "e4208a6f",
   "metadata": {},
   "outputs": [],
   "source": [
    "def create_data_stucture(map_data_file):\n",
    "    \"\"\"Create a data structure from a data_file that allows rapid quering positions on the map\n",
    "\n",
    "    Args:\n",
    "        map_data_file (Path) csv file with the following columns:\n",
    "            city,lat,lng,country,iso3,local_name,population,continent\n",
    "\n",
    "    Returns\n",
    "        data_structure that can be used with find_closest_cities\n",
    "\n",
    "    HINT:\n",
    "        BSP buildup using recursive functions\n",
    "    \"\"\""
   ]
  },
  {
   "cell_type": "code",
   "execution_count": 3,
   "id": "9a38f525",
   "metadata": {},
   "outputs": [],
   "source": [
    "# Daten einlesen, Dictionary, City zu Tupel aus Koordinaten\n",
    "\n",
    "cities_dict = {}\n",
    "\n",
    "with open(\"..\\..\\data\\cities.csv\", \"r\", encoding=\"utf8\") as data:\n",
    "    next(data)\n",
    "    for line in data:\n",
    "        if line[0] == '\"':\n",
    "            splitted_line = line.split(\",\")\n",
    "            cities_dict[splitted_line[0]] = (splitted_line[2], splitted_line[3])\n",
    "        else:\n",
    "            splitted_line = line.split(\",\")\n",
    "            cities_dict[splitted_line[0]] = (splitted_line[1], splitted_line[2]) \n"
   ]
  },
  {
   "cell_type": "code",
   "execution_count": 4,
   "id": "a4ed8717",
   "metadata": {},
   "outputs": [],
   "source": [
    "#print(cities_dict)"
   ]
  },
  {
   "cell_type": "code",
   "execution_count": 5,
   "id": "915f04ba",
   "metadata": {},
   "outputs": [],
   "source": [
    "# Methode um Distanz zwischen Punkt und Stadt zu berechnen (ohne Erdkrümmung)\n",
    "import numpy as np\n",
    "\n",
    "def calculate_distance(city, point):\n",
    "    lat_city = cities_data[city][0]\n",
    "    lng_city = cities_data[city][1]\n",
    "    difference_latidue = abs(lat_city - point[0])\n",
    "    difference_longitude = abs(lng_city - point[1])\n",
    "    if difference_longitude > 180:\n",
    "        difference_longitude = 360 - difference_longitude\n",
    "    distance = np.sqrt(difference_longitude**2 + difference_latidue**2)\n"
   ]
  },
  {
   "cell_type": "code",
   "execution_count": 7,
   "id": "6b2281d4",
   "metadata": {},
   "outputs": [
    {
     "name": "stdout",
     "output_type": "stream",
     "text": [
      "14274.268873103454 km\n"
     ]
    }
   ],
   "source": [
    "# Liste, welche die ersten 10 Städte speichert, eine Neue hinzufügt, und dann die 11. Stadt löscht\n",
    "\n",
    "point = (0.000, 0.000)\n",
    "print(geopy.distance.distance(cities_dict[\"Tokyo\"], point))\n",
    "\n",
    "distances_dict = {}\n",
    "\n",
    "for key in cities_dict:\n",
    "    distances_dict[key] = geopy.distance.distance(cities_dict[key], point)\n"
   ]
  },
  {
   "cell_type": "code",
   "execution_count": 8,
   "id": "ba31fb20",
   "metadata": {},
   "outputs": [
    {
     "name": "stdout",
     "output_type": "stream",
     "text": [
      "['Sekondi', 'Cape Coast', 'Winneba', 'Accra', 'Tema', 'Palé', 'Koforidua', 'Aflao', 'Lomé', 'Aboisso']\n"
     ]
    }
   ],
   "source": [
    "distance_dict_sorted = {key: value for key, value in sorted(distances_dict.items(), key= lambda item: item[1])}\n",
    "\n",
    "import itertools\n",
    "nearest_dict = dict(itertools.islice(distance_dict_sorted.items(), 10))\n",
    "nearest_list = list(nearest_dict.keys())\n",
    "\n",
    "print(nearest_list)"
   ]
  },
  {
   "cell_type": "markdown",
   "id": "eead7446",
   "metadata": {},
   "source": [
    "Write a query function with the following signature"
   ]
  },
  {
   "cell_type": "code",
   "execution_count": 9,
   "id": "6ac83350",
   "metadata": {},
   "outputs": [],
   "source": [
    "def find_closest_cities(point, data_structure):\n",
    "    \"\"\"Find ten close cities to the given point on the world given the data structure\n",
    "    \n",
    "    Args:\n",
    "        point (tuple of floats) latitude and longitude\n",
    "    \n",
    "        data_structure (you choose) to be queries using the point\n",
    "\n",
    "    Returns:\n",
    "        list of 10 cities that are closest to the point \n",
    "    \"\"\"\n",
    "    return"
   ]
  },
  {
   "cell_type": "markdown",
   "id": "a606a917",
   "metadata": {},
   "source": [
    "Creating a kd-tree with the others:"
   ]
  },
  {
   "cell_type": "code",
   "execution_count": 1,
   "id": "a4238077",
   "metadata": {},
   "outputs": [
    {
     "data": {
      "text/plain": [
       "[['Yayladağı', [35.9025, 36.0603]],\n",
       " ['Nanzhiqiu', [37.7492, 115.2357]],\n",
       " ['Lanciano', [42.2312, 14.3905]],\n",
       " ['Cutral-Có', [-38.9333, -69.2333]],\n",
       " ['Matinhos', [-25.8178, -48.5428]],\n",
       " ['Lage', [51.9833, 8.8]],\n",
       " ['Vichuga', [57.2, 41.9167]],\n",
       " ['Santana do Paraíso', [-19.3639, -42.5689]],\n",
       " ['Shenjiabang', [30.5783, 120.8193]],\n",
       " ['Gahanna', [40.0251, -82.8637]]]"
      ]
     },
     "execution_count": 1,
     "metadata": {},
     "output_type": "execute_result"
    }
   ],
   "source": [
    "import csv\n",
    "map_data = []\n",
    "with open('..\\..\\data\\cities.csv', encoding=\"utf-8\") as cities_file:\n",
    "    map_data_reader = csv.DictReader(cities_file, delimiter=',')\n",
    "    for line in map_data_reader:\n",
    "        map_data.append([line['city'], [float(line['lat']), float(line['lng'])]])\n",
    "\n",
    "map_data[14990:15000]"
   ]
  },
  {
   "cell_type": "code",
   "execution_count": 2,
   "id": "e36acd5d",
   "metadata": {},
   "outputs": [],
   "source": [
    "# child 1 -> smaller number, child 2 -> bigger number\n",
    "# orientation = 0 --> lat, orientation = 1 ---> lng\n",
    "import numpy as np\n",
    "def create_data_stucture(cities, orientation=0):\n",
    "    \n",
    "    child1 = []\n",
    "    child2 = []\n",
    "    median_cities= []\n",
    "\n",
    "    if len(cities) % 2 == 0:\n",
    "        median = np.median([cities[city][1][orientation] for city in range(len(cities)-1)])\n",
    "    elif len(cities) % 2 == 1:\n",
    "        try:\n",
    "            median = np.median([cities[city][1][orientation] for city in range(len(cities))])\n",
    "        except:\n",
    "            print('AAAA {}'.format(cities))\n",
    "    else:\n",
    "        print(\"You idiot!\")\n",
    "\n",
    "    for city_data in cities:\n",
    "        if city_data[1][orientation] < median:\n",
    "            child1.append(city_data)\n",
    "        elif city_data[1][orientation] > median:\n",
    "            child2.append(city_data)\n",
    "        elif city_data[1][orientation] == median:\n",
    "            median_cities.append(city_data)\n",
    "        else:\n",
    "            print(\"No median city??\")\n",
    "\n",
    "    median_city = median_cities[0]\n",
    "\n",
    "    if len(median_cities) >= 2:\n",
    "        if len(child1)>len(child2):\n",
    "            for median_to_child in median_cities[1:]:\n",
    "                child2.append(median_to_child)\n",
    "        elif len(child1) <= len(child2):\n",
    "            for median_to_child in median_cities[1:]:\n",
    "                child1.append(median_to_child)\n",
    "\n",
    "    if orientation == 0:\n",
    "        orientation = 1\n",
    "    elif orientation == 1:\n",
    "        orientation = 0\n",
    "    else:\n",
    "        print(\"How is it even possible?\")\n",
    "\n",
    "    if child1 == []:\n",
    "        if child2 == []:\n",
    "            return_tree={'city': [median_city[0], median_city[1][0], median_city[1][1]],\n",
    "            'child1': None,\n",
    "            'child2': None,\n",
    "            'leaf': True}\n",
    "        elif len(child2)==1:\n",
    "            return_tree={'city': [median_city[0], median_city[1][0], median_city[1][1]],\n",
    "            'child1': None,\n",
    "            'child2': {'city':[child2[0][0], child2[0][1][0], child2[0][1][1]],\n",
    "                        'child1':None,\n",
    "                        'child2':None,\n",
    "                        'leaf':True},\n",
    "            'leaf': False}\n",
    "        elif len(child2) >= 2:\n",
    "            return_tree={'city': [median_city[0], median_city[1][0], median_city[1][1]],\n",
    "            'child1': None,\n",
    "            'child2':create_data_stucture(child2, orientation=orientation),\n",
    "            'leaf': False}\n",
    "    elif len(child1) == 1:\n",
    "        if child2 == []:\n",
    "            return_tree={'city': [median_city[0], median_city[1][0], median_city[1][1]],\n",
    "            'child1': {'city':[child1[0][0], child1[0][1][0], child1[0][1][1]],\n",
    "                        'child1':None,\n",
    "                        'child2':None,\n",
    "                        'leaf':True},\n",
    "            'child2': None,\n",
    "            'leaf': False}\n",
    "        elif len(child2) == 1:\n",
    "            return_tree={'city': [median_city[0], median_city[1][0], median_city[1][1]],\n",
    "            'child1': {'city':[child1[0][0], child1[0][1][0], child1[0][1][1]],\n",
    "                        'child1':None,\n",
    "                        'child2':None,\n",
    "                        'leaf':True},\n",
    "            'child2': {'city':[child2[0][0], child2[0][1][0], child2[0][1][1]],\n",
    "                        'child1':None,\n",
    "                        'child2':None,\n",
    "                        'leaf':True},\n",
    "            'leaf': False}\n",
    "        elif len(child2) >= 2:\n",
    "            return_tree={'city': [median_city[0], median_city[1][0], median_city[1][1]],\n",
    "            'child1': {'city':[child1[0][0], child1[0][1][0], child1[0][1][1]],\n",
    "                        'child1':None,\n",
    "                        'child2':None,\n",
    "                        'leaf':True},\n",
    "            'child2': create_data_stucture(child2, orientation=orientation),\n",
    "            'leaf': False}\n",
    "    elif len(child1) >=2:\n",
    "        if child2 == []:\n",
    "            return_tree={'city': [median_city[0], median_city[1][0], median_city[1][1]],\n",
    "            'child1': create_data_stucture(child1, orientation=orientation),\n",
    "            'child2': None,\n",
    "            'leaf': False}\n",
    "        elif len(child2) ==1 :\n",
    "             return_tree={'city': [median_city[0], median_city[1][0], median_city[1][1]],\n",
    "            'child1': create_data_stucture(child1, orientation=orientation),\n",
    "            'child2': {'city':[child2[0][0], child2[0][1][0], child2[0][1][1]],\n",
    "                        'child1':None,\n",
    "                        'child2':None,\n",
    "                        'leaf':True},\n",
    "            'leaf': False}\n",
    "        elif len(child2) >= 2:\n",
    "            return_tree = {'city': [median_city[0], median_city[1][0], median_city[1][1]], \n",
    "                        'child1':create_data_stucture(child1, orientation=orientation), \n",
    "                        'child2':create_data_stucture(child2, orientation=orientation),\n",
    "                        'leaf': False}\n",
    "  \n",
    "    return return_tree"
   ]
  },
  {
   "cell_type": "code",
   "execution_count": 3,
   "id": "a3bbb261",
   "metadata": {},
   "outputs": [],
   "source": [
    "map_tree = create_data_stucture(map_data)"
   ]
  }
 ],
 "metadata": {
  "interpreter": {
   "hash": "1db61796eef522af4c3bfa7a1992d331ca5efcfc6f3218f7d019c02f1fab5e13"
  },
  "kernelspec": {
   "display_name": "Python 3.7.9 64-bit ('.venv': venv)",
   "name": "python3"
  },
  "language_info": {
   "codemirror_mode": {
    "name": "ipython",
    "version": 3
   },
   "file_extension": ".py",
   "mimetype": "text/x-python",
   "name": "python",
   "nbconvert_exporter": "python",
   "pygments_lexer": "ipython3",
   "version": "3.8.5"
  }
 },
 "nbformat": 4,
 "nbformat_minor": 5
}
