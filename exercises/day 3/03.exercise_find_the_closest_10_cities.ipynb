{
 "cells": [
  {
   "cell_type": "code",
   "execution_count": 1,
   "id": "million-advancement",
   "metadata": {},
   "outputs": [],
   "source": [
    "#import course;course.header()"
   ]
  },
  {
   "cell_type": "markdown",
   "id": "attractive-tension",
   "metadata": {},
   "source": [
    "# Find 10 closest cities to a given latidue and longitude point on earth"
   ]
  },
  {
   "cell_type": "markdown",
   "id": "d4de1bd6",
   "metadata": {},
   "source": [
    "Use any data structure that you can get your hands on and load the cities data. Write a function that creates the data structure withthe following function signature"
   ]
  },
  {
   "cell_type": "code",
   "execution_count": 2,
   "id": "e4208a6f",
   "metadata": {},
   "outputs": [],
   "source": [
    "def create_data_stucture(map_data_file):\n",
    "    \"\"\"Create a data structure from a data_file that allows rapid quering positions on the map\n",
    "\n",
    "    Args:\n",
    "        map_data_file (Path) csv file with the following columns:\n",
    "            city,lat,lng,country,iso3,local_name,population,continent\n",
    "\n",
    "    Returns\n",
    "        data_structure that can be used with find_closest_cities\n",
    "\n",
    "    HINT:\n",
    "        BSP buildup using recursive functions\n",
    "    \"\"\""
   ]
  },
  {
   "cell_type": "code",
   "execution_count": 3,
   "id": "9a38f525",
   "metadata": {},
   "outputs": [],
   "source": [
    "# Daten einlesen, Dictionary, City zu Tupel aus Koordinaten\n",
    "\n",
    "cities_dict = {}\n",
    "\n",
    "with open(\"..\\..\\data\\cities.csv\", \"r\", encoding=\"utf8\") as data:\n",
    "    next(data)\n",
    "    for line in data:\n",
    "        if line[0] == '\"':\n",
    "            splitted_line = line.split(\",\")\n",
    "            cities_dict[splitted_line[0]] = (splitted_line[2], splitted_line[3])\n",
    "        else:\n",
    "            splitted_line = line.split(\",\")\n",
    "            cities_dict[splitted_line[0]] = (splitted_line[1], splitted_line[2]) \n"
   ]
  },
  {
   "cell_type": "code",
   "execution_count": 4,
   "id": "a4ed8717",
   "metadata": {},
   "outputs": [],
   "source": [
    "#print(cities_dict)"
   ]
  },
  {
   "cell_type": "code",
   "execution_count": 5,
   "id": "915f04ba",
   "metadata": {},
   "outputs": [],
   "source": [
    "# Methode um Distanz zwischen Punkt und Stadt zu berechnen (ohne Erdkrümmung)\n",
    "import numpy as np\n",
    "\n",
    "def calculate_distance(city, point):\n",
    "    lat_city = cities_data[city][0]\n",
    "    lng_city = cities_data[city][1]\n",
    "    difference_latidue = abs(lat_city - point[0])\n",
    "    difference_longitude = abs(lng_city - point[1])\n",
    "    if difference_longitude > 180:\n",
    "        difference_longitude = 360 - difference_longitude\n",
    "    distance = np.sqrt(difference_longitude**2 + difference_latidue**2)\n"
   ]
  },
  {
   "cell_type": "code",
   "execution_count": 7,
   "id": "6b2281d4",
   "metadata": {},
   "outputs": [
    {
     "name": "stdout",
     "output_type": "stream",
     "text": [
      "14274.268873103454 km\n"
     ]
    }
   ],
   "source": [
    "# Liste, welche die ersten 10 Städte speichert, eine Neue hinzufügt, und dann die 11. Stadt löscht\n",
    "\n",
    "point = (0.000, 0.000)\n",
    "print(geopy.distance.distance(cities_dict[\"Tokyo\"], point))\n",
    "\n",
    "distances_dict = {}\n",
    "\n",
    "for key in cities_dict:\n",
    "    distances_dict[key] = geopy.distance.distance(cities_dict[key], point)\n"
   ]
  },
  {
   "cell_type": "code",
   "execution_count": 8,
   "id": "ba31fb20",
   "metadata": {},
   "outputs": [
    {
     "name": "stdout",
     "output_type": "stream",
     "text": [
      "['Sekondi', 'Cape Coast', 'Winneba', 'Accra', 'Tema', 'Palé', 'Koforidua', 'Aflao', 'Lomé', 'Aboisso']\n"
     ]
    }
   ],
   "source": [
    "distance_dict_sorted = {key: value for key, value in sorted(distances_dict.items(), key= lambda item: item[1])}\n",
    "\n",
    "import itertools\n",
    "nearest_dict = dict(itertools.islice(distance_dict_sorted.items(), 10))\n",
    "nearest_list = list(nearest_dict.keys())\n",
    "\n",
    "print(nearest_list)"
   ]
  },
  {
   "cell_type": "markdown",
   "id": "eead7446",
   "metadata": {},
   "source": [
    "Write a query function with the following signature"
   ]
  },
  {
   "cell_type": "code",
   "execution_count": 9,
   "id": "6ac83350",
   "metadata": {},
   "outputs": [],
   "source": [
    "def find_closest_cities(point, data_structure):\n",
    "    \"\"\"Find ten close cities to the given point on the world given the data structure\n",
    "    \n",
    "    Args:\n",
    "        point (tuple of floats) latitude and longitude\n",
    "    \n",
    "        data_structure (you choose) to be queries using the point\n",
    "\n",
    "    Returns:\n",
    "        list of 10 cities that are closest to the point \n",
    "    \"\"\"\n",
    "    return"
   ]
  }
 ],
 "metadata": {
  "interpreter": {
   "hash": "1db61796eef522af4c3bfa7a1992d331ca5efcfc6f3218f7d019c02f1fab5e13"
  },
  "kernelspec": {
   "display_name": "Python 3.7.9 64-bit ('.venv': venv)",
   "name": "python3"
  },
  "language_info": {
   "codemirror_mode": {
    "name": "ipython",
    "version": 3
   },
   "file_extension": ".py",
   "mimetype": "text/x-python",
   "name": "python",
   "nbconvert_exporter": "python",
   "pygments_lexer": "ipython3",
   "version": "3.8.5"
  }
 },
 "nbformat": 4,
 "nbformat_minor": 5
}
