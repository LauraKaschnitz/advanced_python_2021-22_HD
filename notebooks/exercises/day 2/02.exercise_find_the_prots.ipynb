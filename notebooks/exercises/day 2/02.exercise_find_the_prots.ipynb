{
 "cells": [
  {
   "cell_type": "code",
   "execution_count": 3,
   "id": "assured-consolidation",
   "metadata": {},
   "outputs": [],
   "source": [
    "#import course;course.header()"
   ]
  },
  {
   "cell_type": "markdown",
   "id": "chronic-criticism",
   "metadata": {
    "slideshow": {
     "slide_type": "slide"
    }
   },
   "source": [
    "# Excersise No. 1\n",
    "\n",
    "## Count Amino acid propensity in human proteome\n",
    "\n",
    "Got to Uniprot and download the latests [here](https://www.uniprot.org/uniprot/?query=*&fil=organism%3A%22Homo+sapiens+%28Human%29+%5B9606%5D%22+AND+reviewed%3Ayes#)\n",
    "\n",
    "The file containes protein sequences in FASTA format, i.e.\n",
    "```txt\n",
    "> (( Identifier line ))\n",
    "(( Amino acid Sequence, can stretch over multiple lines ))\n",
    "> (( next identifier line ))\n",
    "```\n",
    "\n",
    "Write a function that takes two arguments, \n",
    " * a path to the a fasta database and  \n",
    " * an output file name.\n",
    "\n",
    "The function should do the following:\n",
    " * parses the input fasta file \n",
    " * counts the amino acid frequency and \n",
    " * write a csv output file that looks like \n",
    "\n",
    "```\n",
    "aa, count\n",
    "A, 123123123\n",
    "C, 3213\n",
    "D, ...\n",
    "```"
   ]
  },
  {
   "cell_type": "code",
   "execution_count": 4,
   "id": "85ba164a",
   "metadata": {},
   "outputs": [],
   "source": [
    "import csv\n",
    "from collections import Counter\n",
    "import collections\n",
    "\n",
    "aminoacid_counter = Counter()\n",
    "\n",
    "with open (\"uniprot-filtered-organism-human.fasta\", \"r\") as input_file:\n",
    "    for line in input_file:\n",
    "        if line[0] != \">\":\n",
    "            line = line.strip()\n",
    "            aminoacid_counter += Counter(line)\n",
    "        \n"
   ]
  },
  {
   "cell_type": "code",
   "execution_count": 5,
   "id": "2a6cc29b",
   "metadata": {},
   "outputs": [],
   "source": [
    "with open(\"output_exercise1.csv\", \"w\", newline = \"\") as output_file:\n",
    "    writer = csv.writer(output_file)\n",
    "    writer.writerow([\"aa\", \"count\"])\n",
    "    for key, value in sorted(aminoacid_counter.items()):\n",
    "        writer.writerow([key, str(value)])"
   ]
  },
  {
   "cell_type": "markdown",
   "id": "municipal-general",
   "metadata": {},
   "source": [
    "## Plot a histogram for human\n",
    "Use the dictionary created in a) to plot a histogram using your favorit lib\n",
    "\n",
    "Create a standalone script that will plot the histogram\n",
    "```bash\n",
    "$ ./plot_aa_histogram.py \"uniprot-filtered-proteome%3AUP000005640+AND+reviewed%3Ayes+AND+organism%3A%22Hom--.fasta\"\n",
    "```"
   ]
  },
  {
   "cell_type": "code",
   "execution_count": 6,
   "id": "c2dc11c1",
   "metadata": {},
   "outputs": [
    {
     "name": "stdout",
     "output_type": "stream",
     "text": [
      "['A', 'C', 'D', 'E', 'F', 'G', 'H', 'I', 'K', 'L', 'M', 'N', 'P', 'Q', 'R', 'S', 'T', 'U', 'V', 'W', 'Y']\n",
      "[796830, 261479, 538303, 807016, 414755, 746947, 297933, 492950, 651322, 1132151, 242299, 407911, 717583, 541826, 640498, 946345, 608033, 36, 677832, 138162, 302756]\n"
     ]
    }
   ],
   "source": [
    "\n",
    "col_names = [\"Aminoacid\", \"Count\"]\n",
    "\n",
    "aminoacid_names = []\n",
    "\n",
    "for key in sorted(aminoacid_counter):\n",
    "    aminoacid_names.append(str(key))\n",
    "\n",
    "print(aminoacid_names)\n",
    "\n",
    "counter_values = []\n",
    "\n",
    "for key in sorted(aminoacid_counter):\n",
    "    counter_values.append((aminoacid_counter[key]))\n",
    "\n",
    "print(counter_values)"
   ]
  },
  {
   "cell_type": "code",
   "execution_count": 7,
   "id": "2d7779f3",
   "metadata": {},
   "outputs": [
    {
     "data": {
      "text/plain": [
       "Text(0.5, 1.0, 'Aminoacid Distribution Human')"
      ]
     },
     "execution_count": 7,
     "metadata": {},
     "output_type": "execute_result"
    },
    {
     "data": {
      "image/png": "[encoded data removed]",
      "text/plain": [
       "<Figure size 432x288 with 1 Axes>"
      ]
     },
     "metadata": {
      "needs_background": "light"
     },
     "output_type": "display_data"
    }
   ],
   "source": [
    "import pandas\n",
    "import seaborn\n",
    "\n",
    "df = pandas.DataFrame(list(zip(aminoacid_names, counter_values)), columns=col_names)\n",
    "\n",
    "\n",
    "ax = seaborn.barplot(x=\"Aminoacid\", y=\"Count\", data=df)\n",
    "ax.set_title(\"Aminoacid Distribution Human\")\n"
   ]
  },
  {
   "cell_type": "markdown",
   "id": "plastic-salem",
   "metadata": {},
   "source": [
    "## Rinse and repeat \n",
    "Repeat counting and plotting for at leat one organism of the following kingdoms of life:\n",
    "* Bacteria\n",
    "* Archea \n",
    "* Plantae\n",
    "* Animalia"
   ]
  },
  {
   "cell_type": "code",
   "execution_count": 8,
   "id": "44db4a81",
   "metadata": {},
   "outputs": [
    {
     "name": "stdout",
     "output_type": "stream",
     "text": [
      "Counter({'L': 745844, 'A': 685450, 'G': 534397, 'V': 510533, 'E': 439452, 'I': 415040, 'R': 412368, 'S': 387592, 'D': 381047, 'T': 372360, 'K': 320752, 'P': 313133, 'Q': 310364, 'F': 271473, 'N': 265900, 'M': 199065, 'Y': 192557, 'H': 164233, 'W': 100019, 'C': 80632, 'X': 44, 'U': 3, 'Z': 1})\n"
     ]
    }
   ],
   "source": [
    "aminoacid_counter_bacteria = Counter()\n",
    "\n",
    "with open (\"uniprot-Escherichia_coli.fasta\", \"r\") as input_file:\n",
    "    for line in input_file:\n",
    "        if line[0] != \">\":\n",
    "            line = line.strip()\n",
    "            aminoacid_counter_bacteria += Counter(line)\n",
    "        \n",
    "print(aminoacid_counter_bacteria)"
   ]
  },
  {
   "cell_type": "code",
   "execution_count": 9,
   "id": "ef46afc4",
   "metadata": {},
   "outputs": [
    {
     "name": "stdout",
     "output_type": "stream",
     "text": [
      "['A', 'C', 'D', 'E', 'F', 'G', 'H', 'I', 'K', 'L', 'M', 'N', 'P', 'Q', 'R', 'S', 'T', 'U', 'V', 'W', 'X', 'Y', 'Z']\n",
      "[685450, 80632, 381047, 439452, 271473, 534397, 164233, 415040, 320752, 745844, 199065, 265900, 313133, 310364, 412368, 387592, 372360, 3, 510533, 100019, 44, 192557, 1]\n"
     ]
    }
   ],
   "source": [
    "col_names_bacteria = [\"Aminoacid\", \"Count\"]\n",
    "\n",
    "aminoacid_names_bacteria = []\n",
    "\n",
    "for key in sorted(aminoacid_counter_bacteria):\n",
    "    aminoacid_names_bacteria.append(str(key))\n",
    "\n",
    "print(aminoacid_names_bacteria)\n",
    "\n",
    "counter_values_bacteria = []\n",
    "\n",
    "for key in sorted(aminoacid_counter_bacteria):\n",
    "    counter_values_bacteria.append((aminoacid_counter_bacteria[key]))\n",
    "\n",
    "print(counter_values_bacteria)"
   ]
  },
  {
   "cell_type": "code",
   "execution_count": 10,
   "id": "883b7772",
   "metadata": {},
   "outputs": [
    {
     "data": {
      "text/plain": [
       "Text(0.5, 1.0, 'Aminoacid Distribution Bacteria')"
      ]
     },
     "execution_count": 10,
     "metadata": {},
     "output_type": "execute_result"
    },
    {
     "data": {
      "image/png": "[encoded data removed]",
      "text/plain": [
       "<Figure size 432x288 with 1 Axes>"
      ]
     },
     "metadata": {
      "needs_background": "light"
     },
     "output_type": "display_data"
    }
   ],
   "source": [
    "df_bacteria = pandas.DataFrame(list(zip(aminoacid_names_bacteria, counter_values_bacteria)), columns=col_names_bacteria)\n",
    "\n",
    "ax = seaborn.barplot(x=\"Aminoacid\", y=\"Count\", data=df_bacteria)\n",
    "ax.set_title(\"Aminoacid Distribution Bacteria\")\n"
   ]
  },
  {
   "cell_type": "code",
   "execution_count": 11,
   "id": "4630b21c",
   "metadata": {},
   "outputs": [
    {
     "data": {
      "image/png": "[encoded data removed]",
      "text/plain": [
       "<Figure size 432x288 with 1 Axes>"
      ]
     },
     "metadata": {
      "needs_background": "light"
     },
     "output_type": "display_data"
    }
   ],
   "source": [
    "ax = seaborn.histplot(data=df_bacteria, x=\"Count\", bins=20)"
   ]
  },
  {
   "cell_type": "markdown",
   "id": "0168b495",
   "metadata": {},
   "source": [
    "Das Histogramm zeigt, wie viele Aminosäuren in welchen Count-Bereich liegen."
   ]
  },
  {
   "cell_type": "markdown",
   "id": "greek-strength",
   "metadata": {},
   "source": [
    "Are there difference? "
   ]
  },
  {
   "cell_type": "markdown",
   "id": "91d2887c",
   "metadata": {},
   "source": [
    "There are differences in the Proteome of a Human and E. coli. In general, humans hava a larger Proteome and therefore the overall counts are way higher. Bacteria uses the Aminoacid Alanin (A) more frequently Humans use Serin (S) more often.Bacteria also use less of Cystein (C) but use Isoleucin (I) more frequently."
   ]
  },
  {
   "cell_type": "markdown",
   "id": "analyzed-partner",
   "metadata": {},
   "source": [
    "# Find special proteins"
   ]
  },
  {
   "cell_type": "markdown",
   "id": "comprehensive-coaching",
   "metadata": {},
   "source": [
    "Find the most extreme proteins\n",
    "* lowest / highest pI\n",
    "* longest / shortest proteins\n",
    "* highest density [mass / amino acid counts]\n",
    "* most hydrophobic, hydrophic \n"
   ]
  },
  {
   "cell_type": "code",
   "execution_count": null,
   "id": "prepared-finland",
   "metadata": {},
   "outputs": [],
   "source": []
  }
 ],
 "metadata": {
  "interpreter": {
   "hash": "2ade816e66443935280e5e219ac7556cd7d6953df572d910affd836bc1933d6b"
  },
  "kernelspec": {
   "display_name": "Python 3.9.1 64-bit ('.venv': venv)",
   "name": "python3"
  },
  "language_info": {
   "codemirror_mode": {
    "name": "ipython",
    "version": 3
   },
   "file_extension": ".py",
   "mimetype": "text/x-python",
   "name": "python",
   "nbconvert_exporter": "python",
   "pygments_lexer": "ipython3",
   "version": "3.8.5"
  }
 },
 "nbformat": 4,
 "nbformat_minor": 5
}
