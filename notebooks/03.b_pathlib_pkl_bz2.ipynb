{
 "cells": [
  {
   "cell_type": "code",
   "execution_count": 1,
   "metadata": {},
   "outputs": [
    {
     "data": {
      "text/markdown": [
       "# Advanced Python Course \n",
       "## Mobi Heidelberg WS 2021/22\n",
       "### by Christian Fufezan \n",
       "\n",
       "christian@fufezan.net\n",
       "\n",
       "https://fufezan.net\n",
       "\n",
       "<img src=\"./images/cc.png\" alt=\"drawing\" width=\"200\" style=\"float: left;\"/>\n"
      ],
      "text/plain": [
       "<IPython.core.display.Markdown object>"
      ]
     },
     "metadata": {},
     "output_type": "display_data"
    }
   ],
   "source": [
    "import course;course.header()"
   ]
  },
  {
   "cell_type": "markdown",
   "metadata": {},
   "source": [
    "# pathlib"
   ]
  },
  {
   "cell_type": "markdown",
   "metadata": {},
   "source": [
    "a platform independent way to work with paths. Read more [here](https://docs.python.org/3/library/pathlib.html)\n",
    "You like os.path, then you will move pathlib."
   ]
  },
  {
   "cell_type": "markdown",
   "metadata": {},
   "source": [
    "Windows:\n",
    " - C:\\Documents\\Newsletters\\Summer2018.pdf\n",
    "\n",
    "Others (also known as POSIX):\n",
    " - /mounts/c/Documents/Newsletters/Summer2018.pdf"
   ]
  },
  {
   "cell_type": "markdown",
   "metadata": {},
   "source": [
    "## Intro"
   ]
  },
  {
   "cell_type": "code",
   "execution_count": 2,
   "metadata": {},
   "outputs": [],
   "source": [
    "from pathlib import Path"
   ]
  },
  {
   "cell_type": "markdown",
   "metadata": {},
   "source": []
  },
  {
   "cell_type": "code",
   "execution_count": 3,
   "metadata": {},
   "outputs": [],
   "source": [
    "course_title_md = Path(\"course_title.md\")"
   ]
  },
  {
   "cell_type": "code",
   "execution_count": 4,
   "metadata": {},
   "outputs": [
    {
     "data": {
      "text/plain": [
       "WindowsPath('course_title.md')"
      ]
     },
     "execution_count": 4,
     "metadata": {},
     "output_type": "execute_result"
    }
   ],
   "source": [
    "course_title_md"
   ]
  },
  {
   "cell_type": "code",
   "execution_count": 5,
   "metadata": {},
   "outputs": [
    {
     "data": {
      "text/plain": [
       "WindowsPath('C:/Users/L/Documents/Advanced_Python/advanced_python_2021-22_HD/notebooks/course_title.md')"
      ]
     },
     "execution_count": 5,
     "metadata": {},
     "output_type": "execute_result"
    }
   ],
   "source": [
    "course_title_resolved = course_title_md.resolve()\n",
    "course_title_resolved"
   ]
  },
  {
   "cell_type": "code",
   "execution_count": 6,
   "metadata": {},
   "outputs": [
    {
     "data": {
      "text/plain": [
       "WindowsPath('C:/Users/L/Documents/Advanced_Python/advanced_python_2021-22_HD/notebooks')"
      ]
     },
     "execution_count": 6,
     "metadata": {},
     "output_type": "execute_result"
    }
   ],
   "source": [
    "course_title_resolved.parent"
   ]
  },
  {
   "cell_type": "code",
   "execution_count": 7,
   "metadata": {},
   "outputs": [
    {
     "data": {
      "text/plain": [
       "'course_title'"
      ]
     },
     "execution_count": 7,
     "metadata": {},
     "output_type": "execute_result"
    }
   ],
   "source": [
    "course_title_resolved.stem"
   ]
  },
  {
   "cell_type": "code",
   "execution_count": 8,
   "metadata": {},
   "outputs": [
    {
     "data": {
      "text/plain": [
       "'course_title.md'"
      ]
     },
     "execution_count": 8,
     "metadata": {},
     "output_type": "execute_result"
    }
   ],
   "source": [
    "course_title_resolved.name"
   ]
  },
  {
   "cell_type": "code",
   "execution_count": 9,
   "metadata": {},
   "outputs": [
    {
     "data": {
      "text/plain": [
       "'.md'"
      ]
     },
     "execution_count": 9,
     "metadata": {},
     "output_type": "execute_result"
    }
   ],
   "source": [
    "course_title_resolved.suffix"
   ]
  },
  {
   "cell_type": "code",
   "execution_count": 10,
   "metadata": {},
   "outputs": [
    {
     "data": {
      "text/plain": [
       "WindowsPath('C:/Users/L/Documents/Advanced_Python/advanced_python_2021-22_HD/notebooks/course_title.new_suffix')"
      ]
     },
     "execution_count": 10,
     "metadata": {},
     "output_type": "execute_result"
    }
   ],
   "source": [
    "# changin suffix?\n",
    "course_title_resolved.with_suffix(\".new_suffix\")"
   ]
  },
  {
   "cell_type": "markdown",
   "metadata": {},
   "source": [
    "## Creating Paths"
   ]
  },
  {
   "cell_type": "code",
   "execution_count": 34,
   "metadata": {},
   "outputs": [
    {
     "name": "stdout",
     "output_type": "stream",
     "text": [
      ".\n"
     ]
    }
   ],
   "source": [
    "root = Path(\".\") # aktueller Pfad\n",
    "print(root)"
   ]
  },
  {
   "cell_type": "code",
   "execution_count": 35,
   "metadata": {},
   "outputs": [],
   "source": [
    "new_file = root / \"..\" / \"new_file.txt\" # aktueller Pfad, 1 Ordner weiter raus, dann neues File"
   ]
  },
  {
   "cell_type": "code",
   "execution_count": 36,
   "metadata": {},
   "outputs": [
    {
     "data": {
      "text/plain": [
       "WindowsPath('C:/Users/L/Documents/Advanced_Python/advanced_python_2021-22_HD/new_file.txt')"
      ]
     },
     "execution_count": 36,
     "metadata": {},
     "output_type": "execute_result"
    }
   ],
   "source": [
    "new_file.resolve()"
   ]
  },
  {
   "cell_type": "code",
   "execution_count": 37,
   "metadata": {},
   "outputs": [
    {
     "data": {
      "text/plain": [
       "False"
      ]
     },
     "execution_count": 37,
     "metadata": {},
     "output_type": "execute_result"
    }
   ],
   "source": [
    "new_file.exists()"
   ]
  },
  {
   "cell_type": "code",
   "execution_count": 38,
   "metadata": {},
   "outputs": [],
   "source": [
    "with open(new_file, \"w\") as oo:\n",
    "    print(\"New File!\", file=oo)"
   ]
  },
  {
   "cell_type": "code",
   "execution_count": 39,
   "metadata": {},
   "outputs": [
    {
     "data": {
      "text/plain": [
       "True"
      ]
     },
     "execution_count": 39,
     "metadata": {},
     "output_type": "execute_result"
    }
   ],
   "source": [
    "new_file.exists() # FIle existiert erst, wenn etwas hineingeschrieben wird, gleich wie Ordner"
   ]
  },
  {
   "cell_type": "markdown",
   "metadata": {},
   "source": [
    "## Deleting files"
   ]
  },
  {
   "cell_type": "code",
   "execution_count": 17,
   "metadata": {},
   "outputs": [],
   "source": [
    "new_file.unlink(missing_ok=False)\n",
    "#                  ^--- most favorit feature ... again less of the let me check ...\n",
    "#                           works with python3.8+ ..."
   ]
  },
  {
   "cell_type": "markdown",
   "metadata": {},
   "source": [
    "Does not work with folders (straight away). Use shutils.rmtree, more info can be found [here](https://docs.python.org/3/library/shutil.html#shutil.rmtree)."
   ]
  },
  {
   "cell_type": "markdown",
   "metadata": {},
   "source": [
    "## Iterating directories, global and selective"
   ]
  },
  {
   "cell_type": "code",
   "execution_count": 3,
   "metadata": {},
   "outputs": [
    {
     "data": {
      "text/plain": [
       "WindowsPath('C:/Users/L/Documents/Advanced_Python/advanced_python_2021-22_HD/notebooks')"
      ]
     },
     "execution_count": 3,
     "metadata": {},
     "output_type": "execute_result"
    }
   ],
   "source": [
    "root = Path(\".\").resolve()\n",
    "root"
   ]
  },
  {
   "cell_type": "code",
   "execution_count": 19,
   "metadata": {},
   "outputs": [
    {
     "data": {
      "text/plain": [
       "<generator object Path.iterdir at 0x0000027ACDF4B0B0>"
      ]
     },
     "execution_count": 19,
     "metadata": {},
     "output_type": "execute_result"
    }
   ],
   "source": [
    "root.iterdir()"
   ]
  },
  {
   "cell_type": "code",
   "execution_count": 20,
   "metadata": {},
   "outputs": [
    {
     "name": "stdout",
     "output_type": "stream",
     "text": [
      ".git\n",
      ".github\n",
      ".gitignore\n",
      ".venv\n",
      "data\n",
      "docs\n",
      "exercises\n",
      "LICENSE\n",
      "notebooks\n",
      "peak_finder\n",
      "proteins\n",
      "README.md\n",
      "requirements.txt\n",
      "tests\n"
     ]
    }
   ],
   "source": [
    "for entry in root.parent.iterdir(): # ein Ordner raus und alle Elemente anzeigen\n",
    "    print(entry.name)"
   ]
  },
  {
   "cell_type": "code",
   "execution_count": 21,
   "metadata": {},
   "outputs": [
    {
     "name": "stdout",
     "output_type": "stream",
     "text": [
      ".git is file? False\n",
      ".github is file? False\n",
      ".gitignore is file? True\n",
      ".venv is file? False\n"
     ]
    }
   ],
   "source": [
    "\n",
    "for entry in root.parent.glob(\".*\"): # alle Elemente die mit . anfangen\n",
    "    print(f\"{entry.name} is file? {entry.is_file()}\") # überprüft was ein File und was z.B. Ordner sind\n"
   ]
  },
  {
   "cell_type": "code",
   "execution_count": null,
   "metadata": {},
   "outputs": [],
   "source": []
  },
  {
   "cell_type": "markdown",
   "metadata": {},
   "source": [
    "# Storing Python objects"
   ]
  },
  {
   "cell_type": "markdown",
   "metadata": {},
   "source": [
    "Sometimes we want to store Python objects and later retrive the same objects again. This call serializing and deserializing objects, respectively.\n",
    "\n",
    "There are many ways of serializing a python objects. The probably most basic version is provided by the python pickle module."
   ]
  },
  {
   "cell_type": "code",
   "execution_count": 22,
   "metadata": {},
   "outputs": [],
   "source": [
    "import pickle"
   ]
  },
  {
   "cell_type": "code",
   "execution_count": 23,
   "metadata": {},
   "outputs": [],
   "source": [
    "import csv\n",
    "lookup = {}\n",
    "with open(\"../data/amino_acid_properties.csv\") as aap:\n",
    "    aap_reader = csv.DictReader(aap, delimiter=\",\") \n",
    "    for line_dict in aap_reader:\n",
    "        lookup[line_dict['1-letter code']] = line_dict"
   ]
  },
  {
   "cell_type": "code",
   "execution_count": 24,
   "metadata": {},
   "outputs": [],
   "source": [
    "pkl_file_path = Path(\".\") / \"test.pkl\"\n",
    "with open(pkl_file_path, \"wb\") as pkl_file:\n",
    "    pickle.dump(lookup, pkl_file)"
   ]
  },
  {
   "cell_type": "markdown",
   "metadata": {},
   "source": [
    "Note: file object interface must be open in write + binary mode, ie \"wb\""
   ]
  },
  {
   "cell_type": "code",
   "execution_count": 25,
   "metadata": {},
   "outputs": [],
   "source": [
    "lookup_2 = pickle.load(open(pkl_file_path, \"rb\"))"
   ]
  },
  {
   "cell_type": "code",
   "execution_count": 26,
   "metadata": {},
   "outputs": [
    {
     "data": {
      "text/plain": [
       "True"
      ]
     },
     "execution_count": 26,
     "metadata": {},
     "output_type": "execute_result"
    }
   ],
   "source": [
    "lookup_2 == lookup"
   ]
  },
  {
   "cell_type": "markdown",
   "metadata": {},
   "source": [
    "Pickling objects helps developing functions or segements in a rapid and agile way."
   ]
  },
  {
   "cell_type": "markdown",
   "metadata": {},
   "source": [
    "Block A:\n",
    "   * Reading files\n",
    "Block B:\n",
    "   * Transforming data\n",
    "Block C:\n",
    "   * Normalizing data\n",
    "Block D:\n",
    "   * _*New way of analysing results*_\n",
    "\n",
    "You do not want to go through A-C everytime, while you develop D. "
   ]
  },
  {
   "cell_type": "markdown",
   "metadata": {},
   "source": [
    "# Compressions"
   ]
  },
  {
   "cell_type": "code",
   "execution_count": 27,
   "metadata": {},
   "outputs": [
    {
     "data": {
      "text/plain": [
       "3558"
      ]
     },
     "execution_count": 27,
     "metadata": {},
     "output_type": "execute_result"
    }
   ],
   "source": [
    "pkl_file_path.stat().st_size"
   ]
  },
  {
   "cell_type": "code",
   "execution_count": 28,
   "metadata": {},
   "outputs": [],
   "source": [
    "import bz2"
   ]
  },
  {
   "cell_type": "code",
   "execution_count": 29,
   "metadata": {},
   "outputs": [],
   "source": [
    "pkl_file_path = Path(\".\") / \"test.pkl\"\n",
    "with bz2.open(pkl_file_path, \"wb\") as pkl_file:\n",
    "    pickle.dump(lookup, pkl_file)"
   ]
  },
  {
   "cell_type": "code",
   "execution_count": 30,
   "metadata": {},
   "outputs": [
    {
     "data": {
      "text/plain": [
       "1321"
      ]
     },
     "execution_count": 30,
     "metadata": {},
     "output_type": "execute_result"
    }
   ],
   "source": [
    "pkl_file_path.stat().st_size"
   ]
  },
  {
   "cell_type": "code",
   "execution_count": 31,
   "metadata": {},
   "outputs": [],
   "source": [
    "lookup_3 = pickle.load(bz2.open(pkl_file_path, \"rb\"))"
   ]
  },
  {
   "cell_type": "code",
   "execution_count": 32,
   "metadata": {},
   "outputs": [
    {
     "data": {
      "text/plain": [
       "True"
      ]
     },
     "execution_count": 32,
     "metadata": {},
     "output_type": "execute_result"
    }
   ],
   "source": [
    "lookup == lookup_3"
   ]
  },
  {
   "cell_type": "markdown",
   "metadata": {},
   "source": [
    "Simply exchanging the file open interface from open to bz2.open enables compression.\n",
    "\n",
    "Python supports several compression algorithms out of the box (read more [here](https://docs.python.org/3/library/archiving.html)) so there is no need to decompress files before reading.\n"
   ]
  },
  {
   "cell_type": "markdown",
   "metadata": {},
   "source": []
  }
 ],
 "metadata": {
  "interpreter": {
   "hash": "1db61796eef522af4c3bfa7a1992d331ca5efcfc6f3218f7d019c02f1fab5e13"
  },
  "kernelspec": {
   "display_name": "Python 3.7.9 64-bit ('.venv': venv)",
   "name": "python3"
  },
  "language_info": {
   "codemirror_mode": {
    "name": "ipython",
    "version": 3
   },
   "file_extension": ".py",
   "mimetype": "text/x-python",
   "name": "python",
   "nbconvert_exporter": "python",
   "pygments_lexer": "ipython3",
   "version": "3.9.10"
  },
  "orig_nbformat": 4
 },
 "nbformat": 4,
 "nbformat_minor": 2
}
