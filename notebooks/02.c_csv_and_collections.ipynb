{
 "cells": [
  {
   "cell_type": "code",
   "execution_count": 1,
   "id": "detailed-traveler",
   "metadata": {
    "slideshow": {
     "slide_type": "slide"
    }
   },
   "outputs": [
    {
     "data": {
      "text/markdown": [
       "# Advanced Python Course \n",
       "## Mobi Heidelberg WS 2021/22\n",
       "### by Christian Fufezan \n",
       "\n",
       "christian@fufezan.net\n",
       "\n",
       "https://fufezan.net\n",
       "\n",
       "<img src=\"./images/cc.png\" alt=\"drawing\" width=\"200\" style=\"float: left;\"/>\n"
      ],
      "text/plain": [
       "<IPython.core.display.Markdown object>"
      ]
     },
     "metadata": {},
     "output_type": "display_data"
    }
   ],
   "source": [
    "import course;course.header()"
   ]
  },
  {
   "cell_type": "markdown",
   "id": "described-genius",
   "metadata": {
    "slideshow": {
     "slide_type": "slide"
    }
   },
   "source": [
    "# The csv module"
   ]
  },
  {
   "cell_type": "markdown",
   "id": "bab0bd87",
   "metadata": {},
   "source": [
    "\n",
    "There are several ways to interact with files that contain data in a \"comma separated value\" format.\n",
    "\n",
    "We cover the [basic csv module](https://docs.python.org/3/library/csv.html), as it is sometimes really helpful to retain only a fraction of the information of a csv to avoid memory overflow."
   ]
  },
  {
   "cell_type": "code",
   "execution_count": 2,
   "id": "inclusive-employment",
   "metadata": {},
   "outputs": [
    {
     "name": "stdout",
     "output_type": "stream",
     "text": [
      "{'Name': 'Alanine', '3-letter code': 'Ala', '1-letter code': 'A', 'Molecular Weight': '89.1', 'Molecular Formula': 'C3H7NO2', 'Residue Formula': 'C3H5NO', 'Residue Weight': '71.08', 'pka1': '2.34', 'pka2': '9.69', 'pkaX': '', 'pI': '6.0', 'hydropathy index (Kyte-Doolittle method)': '1.8', 'Accessible surface': '44.1', 'hp_type': 'neutral', 'hp_color': 'green', 'pk-state': 'neutral'}\n"
     ]
    }
   ],
   "source": [
    "import csv\n",
    "\n",
    "with open(\"../data/amino_acid_properties.csv\") as aap:\n",
    "    aap_reader = csv.DictReader(aap, delimiter=\",\") \n",
    "    for line_dict in aap_reader:\n",
    "        print(line_dict)\n",
    "        break"
   ]
  },
  {
   "cell_type": "markdown",
   "id": "b4481b85",
   "metadata": {},
   "source": [
    "Print not always very readable - use pretty print! :)"
   ]
  },
  {
   "cell_type": "code",
   "execution_count": 3,
   "id": "2bc9862d",
   "metadata": {},
   "outputs": [
    {
     "name": "stdout",
     "output_type": "stream",
     "text": [
      "{'1-letter code': 'A',\n",
      " '3-letter code': 'Ala',\n",
      " 'Accessible surface': '44.1',\n",
      " 'Molecular Formula': 'C3H7NO2',\n",
      " 'Molecular Weight': '89.1',\n",
      " 'Name': 'Alanine',\n",
      " 'Residue Formula': 'C3H5NO',\n",
      " 'Residue Weight': '71.08',\n",
      " 'hp_color': 'green',\n",
      " 'hp_type': 'neutral',\n",
      " 'hydropathy index (Kyte-Doolittle method)': '1.8',\n",
      " 'pI': '6.0',\n",
      " 'pk-state': 'neutral',\n",
      " 'pka1': '2.34',\n",
      " 'pka2': '9.69',\n",
      " 'pkaX': ''}\n"
     ]
    }
   ],
   "source": [
    "import pprint\n",
    "pprint.pprint(line_dict)"
   ]
  },
  {
   "cell_type": "markdown",
   "id": "c220c757",
   "metadata": {},
   "source": [
    "The hydropathy index is the energy released or required ot transfer the amino acid from water to a hydrophobic environment.\n",
    "\n",
    " - Arg: +4.5 kcal/mol\n",
    " - Ile: -4.5 kcal/mol"
   ]
  },
  {
   "cell_type": "markdown",
   "id": "educated-sender",
   "metadata": {},
   "source": [
    "We can also use the csv module to write csvs, or tab separated value files if we change the delimiter to \"\\t\""
   ]
  },
  {
   "cell_type": "code",
   "execution_count": 4,
   "id": "presidential-aerospace",
   "metadata": {
    "slideshow": {
     "slide_type": "subslide"
    }
   },
   "outputs": [
    {
     "ename": "ValueError",
     "evalue": "dict contains fields not in fieldnames: '1-letter code'",
     "output_type": "error",
     "traceback": [
      "\u001b[1;31m---------------------------------------------------------------------------\u001b[0m",
      "\u001b[1;31mValueError\u001b[0m                                Traceback (most recent call last)",
      "\u001b[1;32m~\\AppData\\Local\\Temp/ipykernel_8908/2149060556.py\u001b[0m in \u001b[0;36m<module>\u001b[1;34m\u001b[0m\n\u001b[0;32m      2\u001b[0m     \u001b[0maap_writer\u001b[0m \u001b[1;33m=\u001b[0m \u001b[0mcsv\u001b[0m\u001b[1;33m.\u001b[0m\u001b[0mDictWriter\u001b[0m\u001b[1;33m(\u001b[0m\u001b[0moutput\u001b[0m\u001b[1;33m,\u001b[0m \u001b[0mfieldnames\u001b[0m\u001b[1;33m=\u001b[0m\u001b[1;33m[\u001b[0m\u001b[1;34m\"Name\"\u001b[0m\u001b[1;33m,\u001b[0m \u001b[1;34m\"3-letter code\"\u001b[0m\u001b[1;33m]\u001b[0m\u001b[1;33m)\u001b[0m\u001b[1;33m\u001b[0m\u001b[1;33m\u001b[0m\u001b[0m\n\u001b[0;32m      3\u001b[0m     \u001b[0maap_writer\u001b[0m\u001b[1;33m.\u001b[0m\u001b[0mwriteheader\u001b[0m\u001b[1;33m(\u001b[0m\u001b[1;33m)\u001b[0m\u001b[1;33m\u001b[0m\u001b[1;33m\u001b[0m\u001b[0m\n\u001b[1;32m----> 4\u001b[1;33m     \u001b[0maap_writer\u001b[0m\u001b[1;33m.\u001b[0m\u001b[0mwriterow\u001b[0m\u001b[1;33m(\u001b[0m\u001b[1;33m{\u001b[0m\u001b[1;34m\"Name\"\u001b[0m\u001b[1;33m:\u001b[0m \u001b[1;34m\"Alanine\"\u001b[0m\u001b[1;33m,\u001b[0m \u001b[1;34m\"3-letter code\"\u001b[0m\u001b[1;33m:\u001b[0m \u001b[1;34m\"Ala\"\u001b[0m\u001b[1;33m,\u001b[0m \u001b[1;34m\"1-letter code\"\u001b[0m\u001b[1;33m:\u001b[0m \u001b[1;34m\"A\"\u001b[0m\u001b[1;33m}\u001b[0m\u001b[1;33m)\u001b[0m\u001b[1;33m\u001b[0m\u001b[1;33m\u001b[0m\u001b[0m\n\u001b[0m",
      "\u001b[1;32mC:\\Program Files\\WindowsApps\\PythonSoftwareFoundation.Python.3.9_3.9.2800.0_x64__qbz5n2kfra8p0\\lib\\csv.py\u001b[0m in \u001b[0;36mwriterow\u001b[1;34m(self, rowdict)\u001b[0m\n\u001b[0;32m    152\u001b[0m \u001b[1;33m\u001b[0m\u001b[0m\n\u001b[0;32m    153\u001b[0m     \u001b[1;32mdef\u001b[0m \u001b[0mwriterow\u001b[0m\u001b[1;33m(\u001b[0m\u001b[0mself\u001b[0m\u001b[1;33m,\u001b[0m \u001b[0mrowdict\u001b[0m\u001b[1;33m)\u001b[0m\u001b[1;33m:\u001b[0m\u001b[1;33m\u001b[0m\u001b[1;33m\u001b[0m\u001b[0m\n\u001b[1;32m--> 154\u001b[1;33m         \u001b[1;32mreturn\u001b[0m \u001b[0mself\u001b[0m\u001b[1;33m.\u001b[0m\u001b[0mwriter\u001b[0m\u001b[1;33m.\u001b[0m\u001b[0mwriterow\u001b[0m\u001b[1;33m(\u001b[0m\u001b[0mself\u001b[0m\u001b[1;33m.\u001b[0m\u001b[0m_dict_to_list\u001b[0m\u001b[1;33m(\u001b[0m\u001b[0mrowdict\u001b[0m\u001b[1;33m)\u001b[0m\u001b[1;33m)\u001b[0m\u001b[1;33m\u001b[0m\u001b[1;33m\u001b[0m\u001b[0m\n\u001b[0m\u001b[0;32m    155\u001b[0m \u001b[1;33m\u001b[0m\u001b[0m\n\u001b[0;32m    156\u001b[0m     \u001b[1;32mdef\u001b[0m \u001b[0mwriterows\u001b[0m\u001b[1;33m(\u001b[0m\u001b[0mself\u001b[0m\u001b[1;33m,\u001b[0m \u001b[0mrowdicts\u001b[0m\u001b[1;33m)\u001b[0m\u001b[1;33m:\u001b[0m\u001b[1;33m\u001b[0m\u001b[1;33m\u001b[0m\u001b[0m\n",
      "\u001b[1;32mC:\\Program Files\\WindowsApps\\PythonSoftwareFoundation.Python.3.9_3.9.2800.0_x64__qbz5n2kfra8p0\\lib\\csv.py\u001b[0m in \u001b[0;36m_dict_to_list\u001b[1;34m(self, rowdict)\u001b[0m\n\u001b[0;32m    147\u001b[0m             \u001b[0mwrong_fields\u001b[0m \u001b[1;33m=\u001b[0m \u001b[0mrowdict\u001b[0m\u001b[1;33m.\u001b[0m\u001b[0mkeys\u001b[0m\u001b[1;33m(\u001b[0m\u001b[1;33m)\u001b[0m \u001b[1;33m-\u001b[0m \u001b[0mself\u001b[0m\u001b[1;33m.\u001b[0m\u001b[0mfieldnames\u001b[0m\u001b[1;33m\u001b[0m\u001b[1;33m\u001b[0m\u001b[0m\n\u001b[0;32m    148\u001b[0m             \u001b[1;32mif\u001b[0m \u001b[0mwrong_fields\u001b[0m\u001b[1;33m:\u001b[0m\u001b[1;33m\u001b[0m\u001b[1;33m\u001b[0m\u001b[0m\n\u001b[1;32m--> 149\u001b[1;33m                 raise ValueError(\"dict contains fields not in fieldnames: \"\n\u001b[0m\u001b[0;32m    150\u001b[0m                                  + \", \".join([repr(x) for x in wrong_fields]))\n\u001b[0;32m    151\u001b[0m         \u001b[1;32mreturn\u001b[0m \u001b[1;33m(\u001b[0m\u001b[0mrowdict\u001b[0m\u001b[1;33m.\u001b[0m\u001b[0mget\u001b[0m\u001b[1;33m(\u001b[0m\u001b[0mkey\u001b[0m\u001b[1;33m,\u001b[0m \u001b[0mself\u001b[0m\u001b[1;33m.\u001b[0m\u001b[0mrestval\u001b[0m\u001b[1;33m)\u001b[0m \u001b[1;32mfor\u001b[0m \u001b[0mkey\u001b[0m \u001b[1;32min\u001b[0m \u001b[0mself\u001b[0m\u001b[1;33m.\u001b[0m\u001b[0mfieldnames\u001b[0m\u001b[1;33m)\u001b[0m\u001b[1;33m\u001b[0m\u001b[1;33m\u001b[0m\u001b[0m\n",
      "\u001b[1;31mValueError\u001b[0m: dict contains fields not in fieldnames: '1-letter code'"
     ]
    }
   ],
   "source": [
    "with open(\"../data/test.csv\", \"w\") as output:\n",
    "    aap_writer = csv.DictWriter(output, fieldnames=[\"Name\", \"3-letter code\"]) # 1-letter code wird nicht definiert\n",
    "    aap_writer.writeheader()\n",
    "    aap_writer.writerow({\"Name\": \"Alanine\", \"3-letter code\": \"Ala\", \"1-letter code\": \"A\"})"
   ]
  },
  {
   "cell_type": "code",
   "execution_count": 5,
   "id": "first-functionality",
   "metadata": {},
   "outputs": [
    {
     "name": "stderr",
     "output_type": "stream",
     "text": [
      "Der Befehl \"cat\" ist entweder falsch geschrieben oder\n",
      "konnte nicht gefunden werden.\n"
     ]
    }
   ],
   "source": [
    "!cat ../data/test.csv"
   ]
  },
  {
   "cell_type": "markdown",
   "id": "299312e3",
   "metadata": {},
   "source": [
    "## Fix it!"
   ]
  },
  {
   "cell_type": "code",
   "execution_count": 6,
   "id": "through-intent",
   "metadata": {
    "slideshow": {
     "slide_type": "subslide"
    }
   },
   "outputs": [],
   "source": [
    "# fix it\n",
    "with open(\"c\", \"w\") as output:\n",
    "    aap_writer = csv.DictWriter(output, fieldnames=[\"Name\", \"3-letter code\"], extrasaction='ignore')\n",
    "    aap_writer.writeheader()\n",
    "    aap_writer.writerow({\"Name\": \"Alanine\", \"3-letter code\": \"Ala\", \"1-letter code\": \"A\"}) \n",
    "    # Eintrag für 1-letter code wird ignoriert"
   ]
  },
  {
   "cell_type": "markdown",
   "id": "chemical-blast",
   "metadata": {
    "slideshow": {
     "slide_type": "slide"
    }
   },
   "source": [
    "# Collections - high performance containers ... sorta"
   ]
  },
  {
   "cell_type": "markdown",
   "id": "indirect-turtle",
   "metadata": {
    "slideshow": {
     "slide_type": "-"
    }
   },
   "source": [
    "## [collections.Counter](https://docs.python.org/3.7/library/collections.html#counter-objects)\n",
    "A counter tool is provided to support convenient and rapid tallies. For example"
   ]
  },
  {
   "cell_type": "code",
   "execution_count": 7,
   "id": "simplified-hearts",
   "metadata": {},
   "outputs": [
    {
     "data": {
      "text/plain": [
       "Counter({'\\n': 7,\n",
       "         'M': 8,\n",
       "         'Q': 14,\n",
       "         'R': 20,\n",
       "         'L': 24,\n",
       "         'A': 29,\n",
       "         'T': 28,\n",
       "         'S': 23,\n",
       "         'G': 20,\n",
       "         'C': 1,\n",
       "         'V': 31,\n",
       "         'N': 16,\n",
       "         'P': 17,\n",
       "         'D': 28,\n",
       "         'H': 10,\n",
       "         'K': 18,\n",
       "         'W': 3,\n",
       "         'I': 23,\n",
       "         'E': 21,\n",
       "         'Y': 13,\n",
       "         'F': 13,\n",
       "         ' ': 1})"
      ]
     },
     "execution_count": 7,
     "metadata": {},
     "output_type": "execute_result"
    }
   ],
   "source": [
    "from collections import Counter\n",
    "s = \"\"\"\n",
    "MQRLMMLLATSGACLGLLAVAAVAAAGANPAQRDTHSLLPTHRRQKRDWIWNQMHIDEEK\n",
    "NTSLPHHVGKIKSSVSRKNAKYLLKGEYVGKVFRVDAETGDVFAIERLDRENISEYHLTA\n",
    "VIVDKDTGENLETPSSFTIKVHDVNDNWPVFTHRLFNASVPESSAVGTSVISVTAVDADD\n",
    "PTVGDHASVMYQILKGKEYFAIDNSGRIITITKSLDREKQARYEIVVEARDAQGLRGDSG\n",
    "TATVLVTLQDINDNFPFFTQTKYTFVVPEDTRVGTSVGSLFVEDPDEPQNRMTKYSILRG\n",
    "DYQDAFTIETNPAHNEGIIKPMKPLDYEYIQQYSFIVEATDPTIDL RYMSPPAGNRAQVI\n",
    "\"\"\"\n",
    "Counter(s)"
   ]
  },
  {
   "cell_type": "code",
   "execution_count": 8,
   "id": "fleet-spirituality",
   "metadata": {
    "slideshow": {
     "slide_type": "subslide"
    }
   },
   "outputs": [
    {
     "data": {
      "text/plain": [
       "Counter({'A': 2, 'B': 4, 'C': 2})"
      ]
     },
     "execution_count": 8,
     "metadata": {},
     "output_type": "execute_result"
    }
   ],
   "source": [
    "# Counter objects can be added together\n",
    "Counter(\"AABB\") + Counter(\"BBCC\")"
   ]
  },
  {
   "cell_type": "code",
   "execution_count": 9,
   "id": "quarterly-reviewer",
   "metadata": {},
   "outputs": [
    {
     "data": {
      "text/plain": [
       "Counter({(1, 1): 2, (1, 2): 1, (2, 1): 1})"
      ]
     },
     "execution_count": 9,
     "metadata": {},
     "output_type": "execute_result"
    }
   ],
   "source": [
    "# Works with any type of object that are comparable\n",
    "Counter([(1, 1), (1, 2), (2, 1), (1, 1)])"
   ]
  },
  {
   "cell_type": "markdown",
   "id": "thorough-credits",
   "metadata": {
    "slideshow": {
     "slide_type": "slide"
    }
   },
   "source": [
    "## [collections.deque](https://docs.python.org/3.7/library/collections.html#deque-objects)\n",
    "Deque \\[deck\\] or double-ended queue can be used for many tasks, e.g. building a sliding window"
   ]
  },
  {
   "cell_type": "code",
   "execution_count": 12,
   "id": "nervous-template",
   "metadata": {},
   "outputs": [],
   "source": [
    "from collections import deque\n",
    "s = \"\"\"MQRLMMLLATSGACLGLLAVAAVAAAGANPAQRDTHSLLPTHRRQKRDWIWNQMHIDEEKNTSLPHHVGKIKSSVSRKNAKYLLKGEYVGKVFRVDAETGDVFAIERLDRENISEYHLTA\"\"\"\n",
    "window = deque([], maxlen=5)"
   ]
  },
  {
   "cell_type": "code",
   "execution_count": 13,
   "id": "criminal-spare",
   "metadata": {},
   "outputs": [
    {
     "name": "stdout",
     "output_type": "stream",
     "text": [
      "deque(['M'], maxlen=5)\n",
      "deque(['M', 'Q'], maxlen=5)\n",
      "deque(['M', 'Q', 'R'], maxlen=5)\n",
      "deque(['M', 'Q', 'R', 'L'], maxlen=5)\n",
      "deque(['M', 'Q', 'R', 'L', 'M'], maxlen=5)\n",
      "deque(['Q', 'R', 'L', 'M', 'M'], maxlen=5)\n",
      "deque(['R', 'L', 'M', 'M', 'L'], maxlen=5)\n",
      "deque(['L', 'M', 'M', 'L', 'L'], maxlen=5)\n",
      "deque(['M', 'M', 'L', 'L', 'A'], maxlen=5)\n"
     ]
    }
   ],
   "source": [
    "for pos, aa in enumerate(s): # enumerate: Position und Element\n",
    "    window.append(aa)\n",
    "    print(window)\n",
    "    if pos > 7:\n",
    "        break"
   ]
  },
  {
   "cell_type": "code",
   "execution_count": 15,
   "id": "acoustic-worcester",
   "metadata": {},
   "outputs": [
    {
     "data": {
      "text/plain": [
       "Counter({'M': 2, 'L': 2, 'A': 1})"
      ]
     },
     "execution_count": 15,
     "metadata": {},
     "output_type": "execute_result"
    }
   ],
   "source": [
    "Counter(window)"
   ]
  },
  {
   "cell_type": "markdown",
   "id": "civilian-profit",
   "metadata": {
    "slideshow": {
     "slide_type": "slide"
    }
   },
   "source": [
    "## [collections.defaultdicts](https://docs.python.org/3.7/library/collections.html#defaultdict-objects)\n",
    "Defaultdicts are like dicts yet they treat missing values not with an error, thus testing if key exists is not neccessary and makes life easier :) Ofcourse, one needs to define the default value that is taken if a key is not existent. "
   ]
  },
  {
   "cell_type": "markdown",
   "id": "ea7ea53d",
   "metadata": {},
   "source": [
    "\n",
    "I use it a lot for counting \n",
    "```python\n",
    "counter[\"error\"] += 1\n",
    "```\n",
    "or collecting elements in lists\n",
    "```python\n",
    "sorter[\"typeA\"].append({\"name\": \"John\"})\n",
    "```\n",
    "\n",
    "No more, let's check if I have the key and if not I need to initialize."
   ]
  },
  {
   "cell_type": "code",
   "execution_count": 16,
   "id": "southeast-federal",
   "metadata": {},
   "outputs": [],
   "source": [
    "from collections import defaultdict\n",
    "\n",
    "ddict_int = defaultdict(int) # Typ des dict wird festgelegt\n",
    "#                        ^---- default factory\n",
    "ddict_list = defaultdict(list)"
   ]
  },
  {
   "cell_type": "code",
   "execution_count": 17,
   "id": "modified-ivory",
   "metadata": {},
   "outputs": [
    {
     "data": {
      "text/plain": [
       "defaultdict(int, {10: 10})"
      ]
     },
     "execution_count": 17,
     "metadata": {},
     "output_type": "execute_result"
    }
   ],
   "source": [
    "ddict_int[10] += 10\n",
    "ddict_int"
   ]
  },
  {
   "cell_type": "code",
   "execution_count": 21,
   "id": "subsequent-screw",
   "metadata": {},
   "outputs": [
    {
     "data": {
      "text/plain": [
       "0"
      ]
     },
     "execution_count": 21,
     "metadata": {},
     "output_type": "execute_result"
    }
   ],
   "source": [
    "ddict_int[0] # an der Stelle 0 wurde nichts definiert"
   ]
  },
  {
   "cell_type": "code",
   "execution_count": 25,
   "id": "organized-theorem",
   "metadata": {},
   "outputs": [],
   "source": [
    "def default_factory_with_prefilled_dictionary():\n",
    "    return {\"__name\": \"our custom dict\", \"errors\": 0}\n",
    "ddict_custom = defaultdict(default_factory_with_prefilled_dictionary)"
   ]
  },
  {
   "cell_type": "markdown",
   "id": "52ae050e",
   "metadata": {},
   "source": [
    "Does that work?"
   ]
  },
  {
   "cell_type": "code",
   "execution_count": 26,
   "id": "interior-phenomenon",
   "metadata": {},
   "outputs": [
    {
     "ename": "TypeError",
     "evalue": "unsupported operand type(s) for +=: 'dict' and 'int'",
     "output_type": "error",
     "traceback": [
      "\u001b[1;31m---------------------------------------------------------------------------\u001b[0m",
      "\u001b[1;31mTypeError\u001b[0m                                 Traceback (most recent call last)",
      "\u001b[1;32m~\\AppData\\Local\\Temp/ipykernel_8908/2333800198.py\u001b[0m in \u001b[0;36m<module>\u001b[1;34m\u001b[0m\n\u001b[1;32m----> 1\u001b[1;33m \u001b[0mddict_custom\u001b[0m\u001b[1;33m[\u001b[0m\u001b[1;36m10\u001b[0m\u001b[1;33m]\u001b[0m \u001b[1;33m+=\u001b[0m \u001b[1;36m10\u001b[0m\u001b[1;33m\u001b[0m\u001b[1;33m\u001b[0m\u001b[0m\n\u001b[0m",
      "\u001b[1;31mTypeError\u001b[0m: unsupported operand type(s) for +=: 'dict' and 'int'"
     ]
    }
   ],
   "source": [
    "ddict_custom[10] += 10"
   ]
  },
  {
   "cell_type": "code",
   "execution_count": 27,
   "id": "proper-lucas",
   "metadata": {},
   "outputs": [
    {
     "data": {
      "text/plain": [
       "{'__name': 'our custom dict', 'errors': 0}"
      ]
     },
     "execution_count": 27,
     "metadata": {},
     "output_type": "execute_result"
    }
   ],
   "source": [
    "ddict_custom[\"what_ever_key\"]"
   ]
  },
  {
   "cell_type": "code",
   "execution_count": 28,
   "id": "biblical-eligibility",
   "metadata": {},
   "outputs": [],
   "source": [
    "ddict_custom[10]['errors'] += 10"
   ]
  },
  {
   "cell_type": "code",
   "execution_count": 29,
   "id": "stylish-energy",
   "metadata": {},
   "outputs": [
    {
     "data": {
      "text/plain": [
       "defaultdict(<function __main__.default_factory_with_prefilled_dictionary()>,\n",
       "            {10: {'__name': 'our custom dict', 'errors': 10},\n",
       "             'what_ever_key': {'__name': 'our custom dict', 'errors': 0}})"
      ]
     },
     "execution_count": 29,
     "metadata": {},
     "output_type": "execute_result"
    }
   ],
   "source": [
    "ddict_custom"
   ]
  },
  {
   "cell_type": "code",
   "execution_count": null,
   "id": "awful-heath",
   "metadata": {},
   "outputs": [],
   "source": []
  }
 ],
 "metadata": {
  "celltoolbar": "Slideshow",
  "interpreter": {
   "hash": "2ade816e66443935280e5e219ac7556cd7d6953df572d910affd836bc1933d6b"
  },
  "kernelspec": {
   "display_name": "Python 3.9.1 64-bit ('.venv': venv)",
   "name": "python3"
  },
  "language_info": {
   "codemirror_mode": {
    "name": "ipython",
    "version": 3
   },
   "file_extension": ".py",
   "mimetype": "text/x-python",
   "name": "python",
   "nbconvert_exporter": "python",
   "pygments_lexer": "ipython3",
   "version": "3.9.10"
  }
 },
 "nbformat": 4,
 "nbformat_minor": 5
}
