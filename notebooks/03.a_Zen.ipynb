{
 "cells": [
  {
   "cell_type": "code",
   "execution_count": 1,
   "metadata": {},
   "outputs": [
    {
     "data": {
      "text/markdown": [
       "# Advanced Python Course \n",
       "## Mobi Heidelberg WS 2021/22\n",
       "### by Christian Fufezan \n",
       "\n",
       "christian@fufezan.net\n",
       "\n",
       "https://fufezan.net\n",
       "\n",
       "<img src=\"./images/cc.png\" alt=\"drawing\" width=\"200\" style=\"float: left;\"/>\n"
      ],
      "text/plain": [
       "<IPython.core.display.Markdown object>"
      ]
     },
     "metadata": {},
     "output_type": "display_data"
    }
   ],
   "source": [
    "import course;course.header()"
   ]
  },
  {
   "cell_type": "markdown",
   "metadata": {
    "slideshow": {
     "slide_type": "slide"
    }
   },
   "source": [
    "\n",
    "# Zen of Python"
   ]
  },
  {
   "cell_type": "code",
   "execution_count": 2,
   "metadata": {},
   "outputs": [
    {
     "name": "stdout",
     "output_type": "stream",
     "text": [
      "The Zen of Python, by Tim Peters\n",
      "\n",
      "Beautiful is better than ugly.\n",
      "Explicit is better than implicit.\n",
      "Simple is better than complex.\n",
      "Complex is better than complicated.\n",
      "Flat is better than nested.\n",
      "Sparse is better than dense.\n",
      "Readability counts.\n",
      "Special cases aren't special enough to break the rules.\n",
      "Although practicality beats purity.\n",
      "Errors should never pass silently.\n",
      "Unless explicitly silenced.\n",
      "In the face of ambiguity, refuse the temptation to guess.\n",
      "There should be one-- and preferably only one --obvious way to do it.\n",
      "Although that way may not be obvious at first unless you're Dutch.\n",
      "Now is better than never.\n",
      "Although never is often better than *right* now.\n",
      "If the implementation is hard to explain, it's a bad idea.\n",
      "If the implementation is easy to explain, it may be a good idea.\n",
      "Namespaces are one honking great idea -- let's do more of those!\n"
     ]
    }
   ],
   "source": [
    "import this"
   ]
  },
  {
   "cell_type": "markdown",
   "metadata": {
    "slideshow": {
     "slide_type": "subslide"
    }
   },
   "source": [
    "## my two ¢\n",
    "\n",
    "* Readability is most important\n",
    "    * think hard about variable names!\n",
    "    * avoid using comments! if you need comments your code is not readable!\n",
    "* be explicit! Seriously - nothing happens under the hood!\n",
    "* name convention counts - use PEP - define a style - use black!\n",
    "* each function should do one thing and one thing only (exceptions when performance is low)\n",
    "* function should start with a verb\n",
    "* always code in interfaces\n",
    "* use test driven development\n",
    "* have tests for each function - and use readable test cases\n",
    "* setup CI - if you can and need even CD!\n",
    "* break down code into modules / packages - everything longer than 200 lines of code is hard to follow.\n",
    "* don't over engineer - \\<my_module\\>.exceptions.FloatTypeNotInRangError vs TypeError\n",
    "* optimize performance when you cannot kill it with € - don't optimize until late in the process\n"
   ]
  },
  {
   "cell_type": "markdown",
   "metadata": {
    "slideshow": {
     "slide_type": "subslide"
    }
   },
   "source": [
    "## https://en.wikipedia.org/wiki/John_Carmack\n",
    "\n",
    "<img src=\"https://upload.wikimedia.org/wikipedia/commons/4/4e/John_Carmack_at_GDCA_2017_--_1_March_2017_%28cropped%29.jpeg\" width=\"300\"/>"
   ]
  },
  {
   "cell_type": "markdown",
   "metadata": {
    "slideshow": {
     "slide_type": "slide"
    }
   },
   "source": [
    "# Readable code"
   ]
  },
  {
   "cell_type": "code",
   "execution_count": 3,
   "metadata": {},
   "outputs": [
    {
     "name": "stdout",
     "output_type": "stream",
     "text": [
      "Yea! found room_id in heidelberg offices 7\n"
     ]
    }
   ],
   "source": [
    "stuff = {\"freiburg\" : {\"kitchens\": [1, 2, 3, 4], \"offices\": [3, 4, 5, 6]},\"heidelberg\": {\n",
    "    \"kitchens\": [1, 2, 3, 4], \"offices\": [33, 7, 5, 8]},\n",
    "         \"muenster\": {\"kitchens\": [1, 2, 3, 4],\"offices\": [2, 4, 5, 5]}}\n",
    "theotherstuff = [\"offices\"]\n",
    "theotherstvff = [7]\n",
    "for k in stuff:\n",
    "    for l, m in stuff[k].items():\n",
    "        if l in theotherstuff:\n",
    "            for n in m:\n",
    "                if n in theotherstvff:\n",
    "                    print(f\"Yea! found room_id in {k} {l} {n}\")"
   ]
  },
  {
   "cell_type": "code",
   "execution_count": null,
   "metadata": {},
   "outputs": [],
   "source": []
  },
  {
   "cell_type": "markdown",
   "metadata": {},
   "source": [
    "## rewrite!\n"
   ]
  },
  {
   "cell_type": "code",
   "execution_count": 5,
   "metadata": {
    "slideshow": {
     "slide_type": "subslide"
    }
   },
   "outputs": [
    {
     "name": "stdout",
     "output_type": "stream",
     "text": [
      "Yea! found room_id in heidelberg ['offices'] [7]\n"
     ]
    }
   ],
   "source": [
    "stuff = {\n",
    "    \"freiburg\" : {\n",
    "        \"kitchens\": [1, 2, 3, 4], \n",
    "        \"offices\": [3, 4, 5, 6],\n",
    "    },\n",
    "    \"heidelberg\": {\n",
    "        \"kitchens\": [1, 2, 3, 4], \n",
    "        \"offices\": [33, 7, 5, 8],\n",
    "    },\n",
    "    \"muenster\": {\n",
    "        \"kitchens\": [1, 2, 3, 4],\n",
    "        \"offices\": [2, 4, 5, 5]\n",
    "    }\n",
    "}\n",
    "target_rooms = [\"offices\"]\n",
    "target_ids = [7]\n",
    "for city in stuff.keys():\n",
    "    for room, id_list in stuff[city].items(): # room: key, id_list: value\n",
    "        if room in target_rooms:\n",
    "            for _id in id_list:\n",
    "                if _id in target_ids:\n",
    "                    print(f\"Yea! found room_id in {city} {target_rooms} {target_ids}\")"
   ]
  }
 ],
 "metadata": {
  "celltoolbar": "Slideshow",
  "interpreter": {
   "hash": "1db61796eef522af4c3bfa7a1992d331ca5efcfc6f3218f7d019c02f1fab5e13"
  },
  "kernelspec": {
   "display_name": "Python 3.7.9 64-bit ('.venv': venv)",
   "name": "python3"
  },
  "language_info": {
   "codemirror_mode": {
    "name": "ipython",
    "version": 3
   },
   "file_extension": ".py",
   "mimetype": "text/x-python",
   "name": "python",
   "nbconvert_exporter": "python",
   "pygments_lexer": "ipython3",
   "version": "3.9.10"
  }
 },
 "nbformat": 4,
 "nbformat_minor": 2
}
