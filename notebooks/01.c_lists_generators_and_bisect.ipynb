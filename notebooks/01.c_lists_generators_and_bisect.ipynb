{
 "cells": [
  {
   "cell_type": "code",
   "execution_count": 1,
   "id": "interior-mambo",
   "metadata": {
    "slideshow": {
     "slide_type": "slide"
    }
   },
   "outputs": [
    {
     "data": {
      "text/markdown": [
       "# Advanced Python Course \n",
       "## Mobi Heidelberg WS 2021/22\n",
       "### by Christian Fufezan \n",
       "\n",
       "christian@fufezan.net\n",
       "\n",
       "https://fufezan.net\n",
       "\n",
       "<img src=\"./images/cc.png\" alt=\"drawing\" width=\"200\" style=\"float: left;\"/>\n"
      ],
      "text/plain": [
       "<IPython.core.display.Markdown object>"
      ]
     },
     "metadata": {},
     "output_type": "display_data"
    }
   ],
   "source": [
    "import course;course.header()"
   ]
  },
  {
   "cell_type": "markdown",
   "id": "special-vermont",
   "metadata": {
    "slideshow": {
     "slide_type": "slide"
    }
   },
   "source": [
    "## lists and generators"
   ]
  },
  {
   "cell_type": "code",
   "execution_count": 16,
   "id": "radio-theme",
   "metadata": {},
   "outputs": [
    {
     "data": {
      "text/plain": [
       "[0, 1, 2, 3, 4, 5, 6, 7, 8, 9, 10]"
      ]
     },
     "execution_count": 16,
     "metadata": {},
     "output_type": "execute_result"
    }
   ],
   "source": [
    "a = [x for x in range(11)]\n",
    "a"
   ]
  },
  {
   "cell_type": "code",
   "execution_count": 17,
   "id": "capital-matter",
   "metadata": {},
   "outputs": [
    {
     "data": {
      "text/plain": [
       "[0, 1, 2, 3, 4, 5, 6, 7, 8, 9, 10]"
      ]
     },
     "execution_count": 17,
     "metadata": {},
     "output_type": "execute_result"
    }
   ],
   "source": [
    "\n",
    "a = []\n",
    "for x in range(11):\n",
    "    a.append(x)\n",
    "a"
   ]
  },
  {
   "cell_type": "code",
   "execution_count": 4,
   "id": "democratic-rotation",
   "metadata": {},
   "outputs": [
    {
     "data": {
      "text/plain": [
       "{0: 0, 1: 1, 2: 4, 3: 9, 4: 16, 5: 25, 6: 36, 7: 49, 8: 64, 9: 81, 10: 100}"
      ]
     },
     "execution_count": 4,
     "metadata": {},
     "output_type": "execute_result"
    }
   ],
   "source": [
    "a = {x: x**2 for x in range(11)}\n",
    "a"
   ]
  },
  {
   "cell_type": "code",
   "execution_count": 5,
   "id": "balanced-damages",
   "metadata": {},
   "outputs": [
    {
     "data": {
      "text/plain": [
       "<generator object <genexpr> at 0x0000024BC686A430>"
      ]
     },
     "execution_count": 5,
     "metadata": {},
     "output_type": "execute_result"
    }
   ],
   "source": [
    "(x/10. for x in range(1000))"
   ]
  },
  {
   "cell_type": "markdown",
   "metadata": {},
   "source": [
    "Why use generators?"
   ]
  },
  {
   "cell_type": "code",
   "execution_count": 21,
   "id": "frozen-attack",
   "metadata": {},
   "outputs": [
    {
     "name": "stdout",
     "output_type": "stream",
     "text": [
      "\n",
      "Object 1 allocates 8856 bytes\n",
      "Object 2 allocates 112 bytes\n",
      "\n",
      "<generator object <genexpr> at 0x0000024BC68900B0>\n"
     ]
    }
   ],
   "source": [
    "import sys\n",
    "\n",
    "object_1 = [x/10. for x in range(1000)] # x/10. output: [0.0, 0.1,...] alle Zehntel, bei x/100. Hundertstel, list\n",
    "object_2 = (x/10. for x in range(1000)) # generator object\n",
    "\n",
    "print(\"\"\"\n",
    "Object 1 allocates {0} bytes\n",
    "Object 2 allocates {1} bytes\n",
    "\"\"\".format(\n",
    "    sys.getsizeof(object_1),\n",
    "    sys.getsizeof(object_2),\n",
    "))\n"
   ]
  },
  {
   "cell_type": "markdown",
   "id": "another-stock",
   "metadata": {
    "slideshow": {
     "slide_type": "slide"
    }
   },
   "source": [
    "quick recap, what's the result of the following lines"
   ]
  },
  {
   "cell_type": "code",
   "execution_count": 41,
   "id": "unlike-mileage",
   "metadata": {},
   "outputs": [],
   "source": [
    "a = [1, 2, 5, 7]"
   ]
  },
  {
   "cell_type": "code",
   "execution_count": 29,
   "id": "adaptive-marks",
   "metadata": {},
   "outputs": [
    {
     "data": {
      "text/plain": [
       "['>>', 1, 2, 5, 7]"
      ]
     },
     "execution_count": 29,
     "metadata": {},
     "output_type": "execute_result"
    }
   ],
   "source": [
    "a.insert(0, \">>\") # Position, Wert\n",
    "a"
   ]
  },
  {
   "cell_type": "code",
   "execution_count": 30,
   "id": "informal-mapping",
   "metadata": {},
   "outputs": [
    {
     "data": {
      "text/plain": [
       "[1, 2, 5, 7]"
      ]
     },
     "execution_count": 30,
     "metadata": {},
     "output_type": "execute_result"
    }
   ],
   "source": [
    "a.pop(0) # entfernt Element an Position\n",
    "a"
   ]
  },
  {
   "cell_type": "markdown",
   "metadata": {},
   "source": [
    "How to iter over a and get posistion at the same time?"
   ]
  },
  {
   "cell_type": "code",
   "execution_count": 44,
   "metadata": {},
   "outputs": [
    {
     "data": {
      "text/plain": [
       "4"
      ]
     },
     "execution_count": 44,
     "metadata": {},
     "output_type": "execute_result"
    }
   ],
   "source": [
    "for element in a:\n",
    "    pass\n",
    "len(a)"
   ]
  },
  {
   "cell_type": "code",
   "execution_count": 49,
   "id": "developmental-couple",
   "metadata": {},
   "outputs": [
    {
     "name": "stdout",
     "output_type": "stream",
     "text": [
      "(1, 0)\n",
      "(2, 1)\n",
      "(5, 2)\n",
      "(7, 3)\n"
     ]
    }
   ],
   "source": [
    "for element in a:\n",
    "    print(((element), a.index(element)))"
   ]
  },
  {
   "cell_type": "markdown",
   "id": "sharing-absence",
   "metadata": {
    "slideshow": {
     "slide_type": "subslide"
    }
   },
   "source": [
    "how to get the position of the element during iteration?"
   ]
  },
  {
   "cell_type": "code",
   "execution_count": 50,
   "id": "banner-moderator",
   "metadata": {},
   "outputs": [],
   "source": [
    "a = dict([('King', 1), ('Queen', 2), ('Knight', 'A')])"
   ]
  },
  {
   "cell_type": "code",
   "execution_count": 54,
   "id": "strategic-gates",
   "metadata": {},
   "outputs": [
    {
     "name": "stdout",
     "output_type": "stream",
     "text": [
      "('King', 1, 0)\n",
      "('Queen', 2, 1)\n",
      "('Knight', 'A', 2)\n"
     ]
    }
   ],
   "source": [
    "for key in a:\n",
    "    print((key, a[key], list(a).index(key))) \n",
    "    # dictionarys sind zwar inzwischen sortiert, es gibt aber noch keine Methode um auf den Index zuzugreifen\n"
   ]
  },
  {
   "cell_type": "markdown",
   "id": "little-interstate",
   "metadata": {
    "slideshow": {
     "slide_type": "slide"
    }
   },
   "source": [
    "## bisect module"
   ]
  },
  {
   "cell_type": "markdown",
   "metadata": {},
   "source": [
    "Bisect module allows to find positions in a sorted list into which a given element can be inserted without loosing its sorting.\n",
    "\n",
    "Essential element in binary tree searches and similar techniques.\n",
    "\n",
    "Exists also in numpy!"
   ]
  },
  {
   "cell_type": "code",
   "execution_count": 55,
   "id": "expected-reaction",
   "metadata": {},
   "outputs": [
    {
     "data": {
      "text/plain": [
       "2"
      ]
     },
     "execution_count": 55,
     "metadata": {},
     "output_type": "execute_result"
    }
   ],
   "source": [
    "import bisect\n",
    "a = [1, 3, 6, 12, 14, 16]\n",
    "bisect.bisect(a, 4) # an welche Position müsste 4?"
   ]
  },
  {
   "cell_type": "code",
   "execution_count": 56,
   "id": "measured-martin",
   "metadata": {},
   "outputs": [
    {
     "data": {
      "text/plain": [
       "2"
      ]
     },
     "execution_count": 56,
     "metadata": {},
     "output_type": "execute_result"
    }
   ],
   "source": [
    "bisect.bisect_right(a, 3) # welche Position rechts von 3"
   ]
  },
  {
   "cell_type": "code",
   "execution_count": 58,
   "id": "irish-publicity",
   "metadata": {},
   "outputs": [
    {
     "data": {
      "text/plain": [
       "1"
      ]
     },
     "execution_count": 58,
     "metadata": {},
     "output_type": "execute_result"
    }
   ],
   "source": [
    "bisect.bisect_left(a, 3) # welche Position links von 3?"
   ]
  },
  {
   "cell_type": "code",
   "execution_count": 59,
   "id": "sensitive-luxembourg",
   "metadata": {},
   "outputs": [
    {
     "data": {
      "text/plain": [
       "1"
      ]
     },
     "execution_count": 59,
     "metadata": {},
     "output_type": "execute_result"
    }
   ],
   "source": [
    "# also works with more complex lists, as log the elements are comparable\n",
    "a = [(1, \"First\"), (3, \"Third\"), (6, \"too late\")]\n",
    "new_element = (3, \"Really add some more stuff\") # sortiert nach dem 1., dann nach dem 2. alphabetisch, klein vor groß-Buchstaben\n",
    "bisect.bisect(a, new_element)"
   ]
  },
  {
   "cell_type": "markdown",
   "id": "smart-advice",
   "metadata": {},
   "source": [
    "why 1 and not 2 ?\n",
    "-> 1. value is equal, second value alphabetically"
   ]
  },
  {
   "cell_type": "markdown",
   "id": "sonic-passion",
   "metadata": {},
   "source": [
    "How to to get 2?"
   ]
  },
  {
   "cell_type": "code",
   "execution_count": 60,
   "id": "narrative-breakdown",
   "metadata": {},
   "outputs": [
    {
     "data": {
      "text/plain": [
       "2"
      ]
     },
     "execution_count": 60,
     "metadata": {},
     "output_type": "execute_result"
    }
   ],
   "source": [
    "a = [(1, \"First\"), (3, \"Third\"), (6, \"too late\")]\n",
    "new_element = (3, \"ZReally add some more stuff\")\n",
    "bisect.bisect(a, new_element)"
   ]
  }
 ],
 "metadata": {
  "interpreter": {
   "hash": "1db61796eef522af4c3bfa7a1992d331ca5efcfc6f3218f7d019c02f1fab5e13"
  },
  "kernelspec": {
   "display_name": "Python 3.7.9 64-bit ('.venv': venv)",
   "name": "python3"
  },
  "language_info": {
   "codemirror_mode": {
    "name": "ipython",
    "version": 3
   },
   "file_extension": ".py",
   "mimetype": "text/x-python",
   "name": "python",
   "nbconvert_exporter": "python",
   "pygments_lexer": "ipython3",
   "version": "3.9.10"
  }
 },
 "nbformat": 4,
 "nbformat_minor": 5
}
